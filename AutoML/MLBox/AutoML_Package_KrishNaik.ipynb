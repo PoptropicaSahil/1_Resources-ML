{
 "cells": [
  {
   "cell_type": "markdown",
   "metadata": {
    "id": "pvdxfwqo-1XL"
   },
   "source": [
    "## Tutorial on Automated Machine Learning using MLBox"
   ]
  },
  {
   "cell_type": "code",
   "execution_count": null,
   "metadata": {
    "id": "C1N6z2Uu0ShC"
   },
   "outputs": [],
   "source": [
    "!pip install mlbox"
   ]
  },
  {
   "cell_type": "code",
   "execution_count": 2,
   "metadata": {},
   "outputs": [
    {
     "ename": "ModuleNotFoundError",
     "evalue": "No module named 'mlbox'",
     "output_type": "error",
     "traceback": [
      "\u001b[1;31m---------------------------------------------------------------------------\u001b[0m",
      "\u001b[1;31mModuleNotFoundError\u001b[0m                       Traceback (most recent call last)",
      "\u001b[1;32mC:\\Users\\SAHILG~1\\AppData\\Local\\Temp/ipykernel_2180/2140998556.py\u001b[0m in \u001b[0;36m<module>\u001b[1;34m\u001b[0m\n\u001b[1;32m----> 1\u001b[1;33m \u001b[1;32mimport\u001b[0m \u001b[0mmlbox\u001b[0m\u001b[1;33m\u001b[0m\u001b[1;33m\u001b[0m\u001b[0m\n\u001b[0m",
      "\u001b[1;31mModuleNotFoundError\u001b[0m: No module named 'mlbox'"
     ]
    }
   ],
   "source": [
    "import mlbox"
   ]
  },
  {
   "cell_type": "code",
   "execution_count": 3,
   "metadata": {
    "id": "1V899UZE2Z_T"
   },
   "outputs": [
    {
     "ename": "ModuleNotFoundError",
     "evalue": "No module named 'mlbox'",
     "output_type": "error",
     "traceback": [
      "\u001b[1;31m---------------------------------------------------------------------------\u001b[0m",
      "\u001b[1;31mModuleNotFoundError\u001b[0m                       Traceback (most recent call last)",
      "\u001b[1;32mC:\\Users\\SAHILG~1\\AppData\\Local\\Temp/ipykernel_2180/1749992579.py\u001b[0m in \u001b[0;36m<module>\u001b[1;34m\u001b[0m\n\u001b[1;32m----> 1\u001b[1;33m \u001b[1;32mfrom\u001b[0m \u001b[0mmlbox\u001b[0m\u001b[1;33m.\u001b[0m\u001b[0mpreprocessing\u001b[0m \u001b[1;32mimport\u001b[0m \u001b[1;33m*\u001b[0m\u001b[1;33m\u001b[0m\u001b[1;33m\u001b[0m\u001b[0m\n\u001b[0m\u001b[0;32m      2\u001b[0m \u001b[1;32mfrom\u001b[0m \u001b[0mmlbox\u001b[0m\u001b[1;33m.\u001b[0m\u001b[0moptimisation\u001b[0m \u001b[1;32mimport\u001b[0m \u001b[1;33m*\u001b[0m\u001b[1;33m\u001b[0m\u001b[1;33m\u001b[0m\u001b[0m\n\u001b[0;32m      3\u001b[0m \u001b[1;32mfrom\u001b[0m \u001b[0mmlbox\u001b[0m\u001b[1;33m.\u001b[0m\u001b[0mprediction\u001b[0m \u001b[1;32mimport\u001b[0m \u001b[1;33m*\u001b[0m\u001b[1;33m\u001b[0m\u001b[1;33m\u001b[0m\u001b[0m\n",
      "\u001b[1;31mModuleNotFoundError\u001b[0m: No module named 'mlbox'"
     ]
    }
   ],
   "source": [
    "from mlbox.preprocessing import *\n",
    "from mlbox.optimisation import *\n",
    "from mlbox.prediction import *"
   ]
  },
  {
   "cell_type": "code",
   "execution_count": 59,
   "metadata": {
    "id": "QZSRc-eQ5sIC"
   },
   "outputs": [],
   "source": []
  },
  {
   "cell_type": "code",
   "execution_count": 59,
   "metadata": {
    "id": "K2GJtoWB6IHS"
   },
   "outputs": [],
   "source": []
  },
  {
   "cell_type": "code",
   "execution_count": 60,
   "metadata": {
    "colab": {
     "base_uri": "https://localhost:8080/"
    },
    "id": "6iTVFFLm2jIM",
    "outputId": "57d6ea51-4912-4595-dab2-e541665ad160"
   },
   "outputs": [
    {
     "name": "stdout",
     "output_type": "stream",
     "text": [
      "\n",
      "reading csv : train.csv ...\n",
      "cleaning data ...\n",
      "CPU time: 0.32579898834228516 seconds\n",
      "\n",
      "reading csv : test.csv ...\n",
      "cleaning data ...\n",
      "CPU time: 0.31247496604919434 seconds\n",
      "\n",
      "> Number of common features : 80\n",
      "\n",
      "gathering and crunching for train and test datasets ...\n",
      "reindexing for train and test datasets ...\n",
      "dropping training duplicates ...\n",
      "dropping constant variables on training set ...\n",
      "\n",
      "> Number of categorical features: 43\n",
      "> Number of numerical features: 37\n",
      "> Number of training samples : 1460\n",
      "> Number of test samples : 1459\n",
      "\n",
      "> Top sparse features (% missing values on train set):\n",
      "PoolQC         99.5\n",
      "MiscFeature    96.3\n",
      "Alley          93.8\n",
      "Fence          80.8\n",
      "FireplaceQu    47.3\n",
      "dtype: float64\n",
      "\n",
      "> Task : regression\n",
      "count      1460.000000\n",
      "mean     180921.195890\n",
      "std       79442.502883\n",
      "min       34900.000000\n",
      "25%      129975.000000\n",
      "50%      163000.000000\n",
      "75%      214000.000000\n",
      "max      755000.000000\n",
      "Name: SalePrice, dtype: float64\n"
     ]
    }
   ],
   "source": [
    "target_name='SalePrice'\n",
    "rd=Reader(sep=\",\")\n",
    "df=rd.train_test_split(['/content/train.csv','/content/test.csv'],target_name)"
   ]
  },
  {
   "cell_type": "code",
   "execution_count": 61,
   "metadata": {
    "colab": {
     "base_uri": "https://localhost:8080/"
    },
    "id": "ocv7OdHP6kDf",
    "outputId": "bc74e84e-2515-473d-aa92-b2bd31580dda"
   },
   "outputs": [
    {
     "data": {
      "text/plain": [
       "{'target': 0       208500.0\n",
       " 1       181500.0\n",
       " 2       223500.0\n",
       " 3       140000.0\n",
       " 4       250000.0\n",
       "           ...   \n",
       " 1455    175000.0\n",
       " 1456    210000.0\n",
       " 1457    266500.0\n",
       " 1458    142125.0\n",
       " 1459    147500.0\n",
       " Name: SalePrice, Length: 1460, dtype: float64,\n",
       " 'test':       1stFlrSF  2ndFlrSF  3SsnPorch  ... YearBuilt  YearRemodAdd  YrSold\n",
       " 0        896.0       0.0        0.0  ...    1961.0        1961.0  2010.0\n",
       " 1       1329.0       0.0        0.0  ...    1958.0        1958.0  2010.0\n",
       " 2        928.0     701.0        0.0  ...    1997.0        1998.0  2010.0\n",
       " 3        926.0     678.0        0.0  ...    1998.0        1998.0  2010.0\n",
       " 4       1280.0       0.0        0.0  ...    1992.0        1992.0  2010.0\n",
       " ...        ...       ...        ...  ...       ...           ...     ...\n",
       " 1454     546.0     546.0        0.0  ...    1970.0        1970.0  2006.0\n",
       " 1455     546.0     546.0        0.0  ...    1970.0        1970.0  2006.0\n",
       " 1456    1224.0       0.0        0.0  ...    1960.0        1996.0  2006.0\n",
       " 1457     970.0       0.0        0.0  ...    1992.0        1992.0  2006.0\n",
       " 1458     996.0    1004.0        0.0  ...    1993.0        1994.0  2006.0\n",
       " \n",
       " [1459 rows x 80 columns],\n",
       " 'train':       1stFlrSF  2ndFlrSF  3SsnPorch  ... YearBuilt  YearRemodAdd  YrSold\n",
       " 0        856.0     854.0        0.0  ...    2003.0        2003.0  2008.0\n",
       " 1       1262.0       0.0        0.0  ...    1976.0        1976.0  2007.0\n",
       " 2        920.0     866.0        0.0  ...    2001.0        2002.0  2008.0\n",
       " 3        961.0     756.0        0.0  ...    1915.0        1970.0  2006.0\n",
       " 4       1145.0    1053.0        0.0  ...    2000.0        2000.0  2008.0\n",
       " ...        ...       ...        ...  ...       ...           ...     ...\n",
       " 1455     953.0     694.0        0.0  ...    1999.0        2000.0  2007.0\n",
       " 1456    2073.0       0.0        0.0  ...    1978.0        1988.0  2010.0\n",
       " 1457    1188.0    1152.0        0.0  ...    1941.0        2006.0  2010.0\n",
       " 1458    1078.0       0.0        0.0  ...    1950.0        1996.0  2010.0\n",
       " 1459    1256.0       0.0        0.0  ...    1965.0        1965.0  2008.0\n",
       " \n",
       " [1460 rows x 80 columns]}"
      ]
     },
     "execution_count": 61,
     "metadata": {},
     "output_type": "execute_result"
    }
   ],
   "source": [
    "df"
   ]
  },
  {
   "cell_type": "code",
   "execution_count": 62,
   "metadata": {
    "colab": {
     "base_uri": "https://localhost:8080/"
    },
    "id": "ezyUnMnPefnl",
    "outputId": "78194839-ad9b-4172-8c24-2d9bebed58b7"
   },
   "outputs": [
    {
     "data": {
      "text/plain": [
       "dict"
      ]
     },
     "execution_count": 62,
     "metadata": {},
     "output_type": "execute_result"
    }
   ],
   "source": [
    "type(df)"
   ]
  },
  {
   "cell_type": "code",
   "execution_count": 63,
   "metadata": {
    "colab": {
     "base_uri": "https://localhost:8080/"
    },
    "id": "24t8yDcf23Ly",
    "outputId": "d76f0324-7c90-40c3-fea1-9e8a45c3d99c"
   },
   "outputs": [
    {
     "name": "stdout",
     "output_type": "stream",
     "text": [
      "\n",
      "computing drifts ...\n",
      "CPU time: 0.9834675788879395 seconds\n",
      "\n",
      "> Top 10 drifts\n",
      "\n",
      "('Id', 1.0)\n",
      "('MSSubClass', 0.06892935000428602)\n",
      "('MoSold', 0.04920427245284942)\n",
      "('TotalBsmtSF', 0.04812977545284336)\n",
      "('BsmtExposure', 0.046784259638940284)\n",
      "('OverallQual', 0.0413787346766572)\n",
      "('GarageYrBlt', 0.04040118887748578)\n",
      "('LotFrontage', 0.03773536034035874)\n",
      "('WoodDeckSF', 0.037317531142201155)\n",
      "('HeatingQC', 0.035716149000692754)\n",
      "\n",
      "> Deleted variables : ['Id']\n",
      "> Drift coefficients dumped into directory : save\n"
     ]
    }
   ],
   "source": [
    "dft = Drift_thresholder()\n",
    "df = dft.fit_transform(df)   #removing non-stable features (like ID,...)"
   ]
  },
  {
   "cell_type": "code",
   "execution_count": 64,
   "metadata": {
    "colab": {
     "base_uri": "https://localhost:8080/"
    },
    "id": "koPsahRH9zdj",
    "outputId": "c219ccd4-594c-427f-db14-e70d4387e189"
   },
   "outputs": [
    {
     "name": "stdout",
     "output_type": "stream",
     "text": [
      "##################################################### testing hyper-parameters... #####################################################\n",
      ">>> NA ENCODER :{'numerical_strategy': 'mean', 'categorical_strategy': '<NULL>'}\n",
      ">>> CA ENCODER :{'strategy': 'label_encoding'}\n",
      ">>> ESTIMATOR :{'strategy': 'LightGBM', 'colsample_bytree': 0.8101384496270526, 'learning_rate': 0.010153063728558783, 'max_depth': 8, 'n_estimators': 150, 'subsample': 0.8039327237850827, 'boosting_type': 'gbdt', 'class_weight': None, 'importance_type': 'split', 'min_child_samples': 20, 'min_child_weight': 0.001, 'min_split_gain': 0.0, 'n_jobs': -1, 'num_leaves': 31, 'objective': None, 'random_state': None, 'reg_alpha': 0.0, 'reg_lambda': 0.0, 'silent': True, 'subsample_for_bin': 200000, 'subsample_freq': 0, 'nthread': -1, 'seed': 0}\n",
      "  0%|          | 0/20 [00:00<?, ?trial/s, best loss=?]"
     ]
    },
    {
     "name": "stderr",
     "output_type": "stream",
     "text": [
      "/usr/local/lib/python3.7/dist-packages/mlbox/optimisation/optimiser.py:74: UserWarning: Optimiser will save all your fitted models into directory 'save/joblib'. Please clear it regularly.\n",
      "  +str(self.to_path)+\"/joblib'. Please clear it regularly.\")\n"
     ]
    },
    {
     "name": "stdout",
     "output_type": "stream",
     "text": [
      "MEAN SCORE : neg_mean_squared_error = -1370858950.5675316\n",
      "VARIANCE : 18895194.78826368 (fold 1 = -1351963755.7792678, fold 2 = -1389754145.3557951)\n",
      "CPU time: 0.709587812423706 seconds\n",
      "##################################################### testing hyper-parameters... #####################################################\n",
      ">>> NA ENCODER :{'numerical_strategy': 'mean', 'categorical_strategy': '<NULL>'}\n",
      ">>> CA ENCODER :{'strategy': 'label_encoding'}\n",
      ">>> ESTIMATOR :{'strategy': 'LightGBM', 'colsample_bytree': 0.9465908643838494, 'learning_rate': 0.0943715679314403, 'max_depth': 5, 'n_estimators': 50, 'subsample': 0.7837754626946176, 'boosting_type': 'gbdt', 'class_weight': None, 'importance_type': 'split', 'min_child_samples': 20, 'min_child_weight': 0.001, 'min_split_gain': 0.0, 'n_jobs': -1, 'num_leaves': 31, 'objective': None, 'random_state': None, 'reg_alpha': 0.0, 'reg_lambda': 0.0, 'silent': True, 'subsample_for_bin': 200000, 'subsample_freq': 0, 'nthread': -1, 'seed': 0}\n",
      "MEAN SCORE : neg_mean_squared_error = -916529254.3784664\n",
      "VARIANCE : 2471695.227832377 (fold 1 = -914057559.150634, fold 2 = -919000949.6062988)\n",
      "CPU time: 0.40288758277893066 seconds\n",
      "##################################################### testing hyper-parameters... #####################################################\n",
      ">>> NA ENCODER :{'numerical_strategy': 'mean', 'categorical_strategy': '<NULL>'}\n",
      ">>> CA ENCODER :{'strategy': 'label_encoding'}\n",
      ">>> ESTIMATOR :{'strategy': 'LightGBM', 'colsample_bytree': 0.8273306313517599, 'learning_rate': 0.087560706163883, 'max_depth': 6, 'n_estimators': 50, 'subsample': 0.6077205727400085, 'boosting_type': 'gbdt', 'class_weight': None, 'importance_type': 'split', 'min_child_samples': 20, 'min_child_weight': 0.001, 'min_split_gain': 0.0, 'n_jobs': -1, 'num_leaves': 31, 'objective': None, 'random_state': None, 'reg_alpha': 0.0, 'reg_lambda': 0.0, 'silent': True, 'subsample_for_bin': 200000, 'subsample_freq': 0, 'nthread': -1, 'seed': 0}\n",
      "MEAN SCORE : neg_mean_squared_error = -902158680.0516169\n",
      "VARIANCE : 16977531.97731954 (fold 1 = -885181148.0742973, fold 2 = -919136212.0289364)\n",
      "CPU time: 0.42528533935546875 seconds\n",
      "##################################################### testing hyper-parameters... #####################################################\n",
      ">>> NA ENCODER :{'numerical_strategy': 'mean', 'categorical_strategy': '<NULL>'}\n",
      ">>> CA ENCODER :{'strategy': 'label_encoding'}\n",
      ">>> ESTIMATOR :{'strategy': 'LightGBM', 'colsample_bytree': 0.9199937436587964, 'learning_rate': 0.020184298338436116, 'max_depth': 7, 'n_estimators': 100, 'subsample': 0.7634179172556733, 'boosting_type': 'gbdt', 'class_weight': None, 'importance_type': 'split', 'min_child_samples': 20, 'min_child_weight': 0.001, 'min_split_gain': 0.0, 'n_jobs': -1, 'num_leaves': 31, 'objective': None, 'random_state': None, 'reg_alpha': 0.0, 'reg_lambda': 0.0, 'silent': True, 'subsample_for_bin': 200000, 'subsample_freq': 0, 'nthread': -1, 'seed': 0}\n",
      "MEAN SCORE : neg_mean_squared_error = -1125188842.3807063\n",
      "VARIANCE : 27319968.778915524 (fold 1 = -1097868873.6017907, fold 2 = -1152508811.1596217)\n",
      "CPU time: 0.5934391021728516 seconds\n",
      "##################################################### testing hyper-parameters... #####################################################\n",
      ">>> NA ENCODER :{'numerical_strategy': 'mean', 'categorical_strategy': '<NULL>'}\n",
      ">>> CA ENCODER :{'strategy': 'label_encoding'}\n",
      ">>> ESTIMATOR :{'strategy': 'LightGBM', 'colsample_bytree': 0.8594527862673412, 'learning_rate': 0.023003111199021636, 'max_depth': 5, 'n_estimators': 100, 'subsample': 0.861369744793305, 'boosting_type': 'gbdt', 'class_weight': None, 'importance_type': 'split', 'min_child_samples': 20, 'min_child_weight': 0.001, 'min_split_gain': 0.0, 'n_jobs': -1, 'num_leaves': 31, 'objective': None, 'random_state': None, 'reg_alpha': 0.0, 'reg_lambda': 0.0, 'silent': True, 'subsample_for_bin': 200000, 'subsample_freq': 0, 'nthread': -1, 'seed': 0}\n",
      "MEAN SCORE : neg_mean_squared_error = -1068025302.9776022\n",
      "VARIANCE : 24840834.022603452 (fold 1 = -1043184468.9549989, fold 2 = -1092866137.0002058)\n",
      "CPU time: 0.504542350769043 seconds\n",
      "##################################################### testing hyper-parameters... #####################################################\n",
      ">>> NA ENCODER :{'numerical_strategy': 'mean', 'categorical_strategy': '<NULL>'}\n",
      ">>> CA ENCODER :{'strategy': 'label_encoding'}\n",
      ">>> ESTIMATOR :{'strategy': 'LightGBM', 'colsample_bytree': 0.8040453169733032, 'learning_rate': 0.06328588613737722, 'max_depth': 5, 'n_estimators': 50, 'subsample': 0.6923167377907888, 'boosting_type': 'gbdt', 'class_weight': None, 'importance_type': 'split', 'min_child_samples': 20, 'min_child_weight': 0.001, 'min_split_gain': 0.0, 'n_jobs': -1, 'num_leaves': 31, 'objective': None, 'random_state': None, 'reg_alpha': 0.0, 'reg_lambda': 0.0, 'silent': True, 'subsample_for_bin': 200000, 'subsample_freq': 0, 'nthread': -1, 'seed': 0}\n",
      "MEAN SCORE : neg_mean_squared_error = -947907579.346252\n",
      "VARIANCE : 21237446.03584349 (fold 1 = -926670133.3104085, fold 2 = -969145025.3820955)\n",
      "CPU time: 0.4191739559173584 seconds\n",
      "##################################################### testing hyper-parameters... #####################################################\n",
      ">>> NA ENCODER :{'numerical_strategy': 'mean', 'categorical_strategy': '<NULL>'}\n",
      ">>> CA ENCODER :{'strategy': 'label_encoding'}\n",
      ">>> ESTIMATOR :{'strategy': 'LightGBM', 'colsample_bytree': 0.9292072570697584, 'learning_rate': 0.06976398207711848, 'max_depth': 7, 'n_estimators': 50, 'subsample': 0.9486111504134507, 'boosting_type': 'gbdt', 'class_weight': None, 'importance_type': 'split', 'min_child_samples': 20, 'min_child_weight': 0.001, 'min_split_gain': 0.0, 'n_jobs': -1, 'num_leaves': 31, 'objective': None, 'random_state': None, 'reg_alpha': 0.0, 'reg_lambda': 0.0, 'silent': True, 'subsample_for_bin': 200000, 'subsample_freq': 0, 'nthread': -1, 'seed': 0}\n",
      "MEAN SCORE : neg_mean_squared_error = -920166218.4213123\n",
      "VARIANCE : 24093955.47274202 (fold 1 = -896072262.9485703, fold 2 = -944260173.8940543)\n",
      "CPU time: 0.446073055267334 seconds\n",
      "##################################################### testing hyper-parameters... #####################################################\n",
      ">>> NA ENCODER :{'numerical_strategy': 'mean', 'categorical_strategy': '<NULL>'}\n",
      ">>> CA ENCODER :{'strategy': 'label_encoding'}\n",
      ">>> ESTIMATOR :{'strategy': 'LightGBM', 'colsample_bytree': 0.8548337065568474, 'learning_rate': 0.09932148009794722, 'max_depth': 9, 'n_estimators': 150, 'subsample': 0.8034019581997428, 'boosting_type': 'gbdt', 'class_weight': None, 'importance_type': 'split', 'min_child_samples': 20, 'min_child_weight': 0.001, 'min_split_gain': 0.0, 'n_jobs': -1, 'num_leaves': 31, 'objective': None, 'random_state': None, 'reg_alpha': 0.0, 'reg_lambda': 0.0, 'silent': True, 'subsample_for_bin': 200000, 'subsample_freq': 0, 'nthread': -1, 'seed': 0}\n",
      "MEAN SCORE : neg_mean_squared_error = -911599917.62288\n",
      "VARIANCE : 19159569.059149206 (fold 1 = -892440348.5637307, fold 2 = -930759486.6820291)\n",
      "CPU time: 0.601341962814331 seconds\n",
      "##################################################### testing hyper-parameters... #####################################################\n",
      ">>> NA ENCODER :{'numerical_strategy': 'mean', 'categorical_strategy': '<NULL>'}\n",
      ">>> CA ENCODER :{'strategy': 'label_encoding'}\n",
      ">>> ESTIMATOR :{'strategy': 'LightGBM', 'colsample_bytree': 0.893768020644091, 'learning_rate': 0.020553995044344395, 'max_depth': 10, 'n_estimators': 100, 'subsample': 0.7117332781719222, 'boosting_type': 'gbdt', 'class_weight': None, 'importance_type': 'split', 'min_child_samples': 20, 'min_child_weight': 0.001, 'min_split_gain': 0.0, 'n_jobs': -1, 'num_leaves': 31, 'objective': None, 'random_state': None, 'reg_alpha': 0.0, 'reg_lambda': 0.0, 'silent': True, 'subsample_for_bin': 200000, 'subsample_freq': 0, 'nthread': -1, 'seed': 0}\n",
      "MEAN SCORE : neg_mean_squared_error = -1106927596.9318497\n",
      "VARIANCE : 30441722.22028804 (fold 1 = -1076485874.7115617, fold 2 = -1137369319.1521378)\n",
      "CPU time: 0.5937936305999756 seconds\n",
      "##################################################### testing hyper-parameters... #####################################################\n",
      ">>> NA ENCODER :{'numerical_strategy': 'mean', 'categorical_strategy': '<NULL>'}\n",
      ">>> CA ENCODER :{'strategy': 'label_encoding'}\n",
      ">>> ESTIMATOR :{'strategy': 'LightGBM', 'colsample_bytree': 0.9126780842146245, 'learning_rate': 0.05469389195181699, 'max_depth': 10, 'n_estimators': 50, 'subsample': 0.7073861949924494, 'boosting_type': 'gbdt', 'class_weight': None, 'importance_type': 'split', 'min_child_samples': 20, 'min_child_weight': 0.001, 'min_split_gain': 0.0, 'n_jobs': -1, 'num_leaves': 31, 'objective': None, 'random_state': None, 'reg_alpha': 0.0, 'reg_lambda': 0.0, 'silent': True, 'subsample_for_bin': 200000, 'subsample_freq': 0, 'nthread': -1, 'seed': 0}\n",
      "MEAN SCORE : neg_mean_squared_error = -963513842.3463329\n",
      "VARIANCE : 35816437.87046051 (fold 1 = -927697404.4758724, fold 2 = -999330280.2167934)\n",
      "CPU time: 0.4757099151611328 seconds\n",
      "##################################################### testing hyper-parameters... #####################################################\n",
      ">>> NA ENCODER :{'numerical_strategy': 'mean', 'categorical_strategy': '<NULL>'}\n",
      ">>> CA ENCODER :{'strategy': 'label_encoding'}\n",
      ">>> ESTIMATOR :{'strategy': 'LightGBM', 'colsample_bytree': 0.8902168898133273, 'learning_rate': 0.076180849701738, 'max_depth': 6, 'n_estimators': 100, 'subsample': 0.63052646674535, 'boosting_type': 'gbdt', 'class_weight': None, 'importance_type': 'split', 'min_child_samples': 20, 'min_child_weight': 0.001, 'min_split_gain': 0.0, 'n_jobs': -1, 'num_leaves': 31, 'objective': None, 'random_state': None, 'reg_alpha': 0.0, 'reg_lambda': 0.0, 'silent': True, 'subsample_for_bin': 200000, 'subsample_freq': 0, 'nthread': -1, 'seed': 0}\n",
      "MEAN SCORE : neg_mean_squared_error = -873389864.6574562\n",
      "VARIANCE : 9985967.094088018 (fold 1 = -863403897.5633681, fold 2 = -883375831.7515441)\n",
      "CPU time: 0.5120091438293457 seconds\n",
      "##################################################### testing hyper-parameters... #####################################################\n",
      ">>> NA ENCODER :{'numerical_strategy': 'mean', 'categorical_strategy': '<NULL>'}\n",
      ">>> CA ENCODER :{'strategy': 'label_encoding'}\n",
      ">>> ESTIMATOR :{'strategy': 'LightGBM', 'colsample_bytree': 0.8280680180633581, 'learning_rate': 0.08426382346962823, 'max_depth': 10, 'n_estimators': 100, 'subsample': 0.7082525365753105, 'boosting_type': 'gbdt', 'class_weight': None, 'importance_type': 'split', 'min_child_samples': 20, 'min_child_weight': 0.001, 'min_split_gain': 0.0, 'n_jobs': -1, 'num_leaves': 31, 'objective': None, 'random_state': None, 'reg_alpha': 0.0, 'reg_lambda': 0.0, 'silent': True, 'subsample_for_bin': 200000, 'subsample_freq': 0, 'nthread': -1, 'seed': 0}\n",
      "MEAN SCORE : neg_mean_squared_error = -888137501.9983237\n",
      "VARIANCE : 20138799.878646553 (fold 1 = -867998702.1196771, fold 2 = -908276301.8769702)\n",
      "CPU time: 0.5475292205810547 seconds\n",
      "##################################################### testing hyper-parameters... #####################################################\n",
      ">>> NA ENCODER :{'numerical_strategy': 'mean', 'categorical_strategy': '<NULL>'}\n",
      ">>> CA ENCODER :{'strategy': 'label_encoding'}\n",
      ">>> ESTIMATOR :{'strategy': 'LightGBM', 'colsample_bytree': 0.8247155372155281, 'learning_rate': 0.08874043591837709, 'max_depth': 7, 'n_estimators': 100, 'subsample': 0.7126831808054834, 'boosting_type': 'gbdt', 'class_weight': None, 'importance_type': 'split', 'min_child_samples': 20, 'min_child_weight': 0.001, 'min_split_gain': 0.0, 'n_jobs': -1, 'num_leaves': 31, 'objective': None, 'random_state': None, 'reg_alpha': 0.0, 'reg_lambda': 0.0, 'silent': True, 'subsample_for_bin': 200000, 'subsample_freq': 0, 'nthread': -1, 'seed': 0}\n",
      "MEAN SCORE : neg_mean_squared_error = -894067684.3536671\n",
      "VARIANCE : 17459588.186930776 (fold 1 = -876608096.1667364, fold 2 = -911527272.5405979)\n",
      "CPU time: 0.5130681991577148 seconds\n",
      "##################################################### testing hyper-parameters... #####################################################\n",
      ">>> NA ENCODER :{'numerical_strategy': 'mean', 'categorical_strategy': '<NULL>'}\n",
      ">>> CA ENCODER :{'strategy': 'label_encoding'}\n",
      ">>> ESTIMATOR :{'strategy': 'LightGBM', 'colsample_bytree': 0.8135772507377808, 'learning_rate': 0.05332731926907275, 'max_depth': 9, 'n_estimators': 100, 'subsample': 0.7309258467495131, 'boosting_type': 'gbdt', 'class_weight': None, 'importance_type': 'split', 'min_child_samples': 20, 'min_child_weight': 0.001, 'min_split_gain': 0.0, 'n_jobs': -1, 'num_leaves': 31, 'objective': None, 'random_state': None, 'reg_alpha': 0.0, 'reg_lambda': 0.0, 'silent': True, 'subsample_for_bin': 200000, 'subsample_freq': 0, 'nthread': -1, 'seed': 0}\n",
      "MEAN SCORE : neg_mean_squared_error = -893863373.3226075\n",
      "VARIANCE : 7373754.327201188 (fold 1 = -886489618.9954063, fold 2 = -901237127.6498086)\n",
      "CPU time: 0.5697474479675293 seconds\n",
      "##################################################### testing hyper-parameters... #####################################################\n",
      ">>> NA ENCODER :{'numerical_strategy': 'mean', 'categorical_strategy': '<NULL>'}\n",
      ">>> CA ENCODER :{'strategy': 'label_encoding'}\n",
      ">>> ESTIMATOR :{'strategy': 'LightGBM', 'colsample_bytree': 0.8655509946587379, 'learning_rate': 0.05569299557790586, 'max_depth': 9, 'n_estimators': 100, 'subsample': 0.7481846012230776, 'boosting_type': 'gbdt', 'class_weight': None, 'importance_type': 'split', 'min_child_samples': 20, 'min_child_weight': 0.001, 'min_split_gain': 0.0, 'n_jobs': -1, 'num_leaves': 31, 'objective': None, 'random_state': None, 'reg_alpha': 0.0, 'reg_lambda': 0.0, 'silent': True, 'subsample_for_bin': 200000, 'subsample_freq': 0, 'nthread': -1, 'seed': 0}\n",
      "MEAN SCORE : neg_mean_squared_error = -879211269.3584509\n",
      "VARIANCE : 14133131.280952752 (fold 1 = -865078138.0774981, fold 2 = -893344400.6394036)\n",
      "CPU time: 0.5663213729858398 seconds\n",
      "##################################################### testing hyper-parameters... #####################################################\n",
      ">>> NA ENCODER :{'numerical_strategy': 'mean', 'categorical_strategy': '<NULL>'}\n",
      ">>> CA ENCODER :{'strategy': 'label_encoding'}\n",
      ">>> ESTIMATOR :{'strategy': 'LightGBM', 'colsample_bytree': 0.8916777209681683, 'learning_rate': 0.08037461746899176, 'max_depth': 9, 'n_estimators': 100, 'subsample': 0.6000754321502256, 'boosting_type': 'gbdt', 'class_weight': None, 'importance_type': 'split', 'min_child_samples': 20, 'min_child_weight': 0.001, 'min_split_gain': 0.0, 'n_jobs': -1, 'num_leaves': 31, 'objective': None, 'random_state': None, 'reg_alpha': 0.0, 'reg_lambda': 0.0, 'silent': True, 'subsample_for_bin': 200000, 'subsample_freq': 0, 'nthread': -1, 'seed': 0}\n",
      "MEAN SCORE : neg_mean_squared_error = -879596759.3471014\n",
      "VARIANCE : 1388696.5891866088 (fold 1 = -878208062.7579148, fold 2 = -880985455.936288)\n",
      "CPU time: 0.5437681674957275 seconds\n",
      "##################################################### testing hyper-parameters... #####################################################\n",
      ">>> NA ENCODER :{'numerical_strategy': 'mean', 'categorical_strategy': '<NULL>'}\n",
      ">>> CA ENCODER :{'strategy': 'label_encoding'}\n",
      ">>> ESTIMATOR :{'strategy': 'LightGBM', 'colsample_bytree': 0.9096580394473651, 'learning_rate': 0.038860514805583425, 'max_depth': 5, 'n_estimators': 150, 'subsample': 0.8417161453095281, 'boosting_type': 'gbdt', 'class_weight': None, 'importance_type': 'split', 'min_child_samples': 20, 'min_child_weight': 0.001, 'min_split_gain': 0.0, 'n_jobs': -1, 'num_leaves': 31, 'objective': None, 'random_state': None, 'reg_alpha': 0.0, 'reg_lambda': 0.0, 'silent': True, 'subsample_for_bin': 200000, 'subsample_freq': 0, 'nthread': -1, 'seed': 0}\n",
      "MEAN SCORE : neg_mean_squared_error = -887271693.6083713\n",
      "VARIANCE : 12697294.610147059 (fold 1 = -874574398.9982241, fold 2 = -899968988.2185183)\n",
      "CPU time: 0.5601201057434082 seconds\n",
      "##################################################### testing hyper-parameters... #####################################################\n",
      ">>> NA ENCODER :{'numerical_strategy': 'mean', 'categorical_strategy': '<NULL>'}\n",
      ">>> CA ENCODER :{'strategy': 'label_encoding'}\n",
      ">>> ESTIMATOR :{'strategy': 'LightGBM', 'colsample_bytree': 0.8370258642784162, 'learning_rate': 0.08185620150674085, 'max_depth': 6, 'n_estimators': 150, 'subsample': 0.6369598075786801, 'boosting_type': 'gbdt', 'class_weight': None, 'importance_type': 'split', 'min_child_samples': 20, 'min_child_weight': 0.001, 'min_split_gain': 0.0, 'n_jobs': -1, 'num_leaves': 31, 'objective': None, 'random_state': None, 'reg_alpha': 0.0, 'reg_lambda': 0.0, 'silent': True, 'subsample_for_bin': 200000, 'subsample_freq': 0, 'nthread': -1, 'seed': 0}\n",
      "MEAN SCORE : neg_mean_squared_error = -900911713.4297174\n",
      "VARIANCE : 28068779.164834023 (fold 1 = -872842934.2648834, fold 2 = -928980492.5945514)\n",
      "CPU time: 0.5433118343353271 seconds\n",
      "##################################################### testing hyper-parameters... #####################################################\n",
      ">>> NA ENCODER :{'numerical_strategy': 'mean', 'categorical_strategy': '<NULL>'}\n",
      ">>> CA ENCODER :{'strategy': 'label_encoding'}\n",
      ">>> ESTIMATOR :{'strategy': 'LightGBM', 'colsample_bytree': 0.9304792954517525, 'learning_rate': 0.08896210221195194, 'max_depth': 6, 'n_estimators': 150, 'subsample': 0.8162303808915943, 'boosting_type': 'gbdt', 'class_weight': None, 'importance_type': 'split', 'min_child_samples': 20, 'min_child_weight': 0.001, 'min_split_gain': 0.0, 'n_jobs': -1, 'num_leaves': 31, 'objective': None, 'random_state': None, 'reg_alpha': 0.0, 'reg_lambda': 0.0, 'silent': True, 'subsample_for_bin': 200000, 'subsample_freq': 0, 'nthread': -1, 'seed': 0}\n",
      "MEAN SCORE : neg_mean_squared_error = -883047671.9223683\n",
      "VARIANCE : 8378805.724467456 (fold 1 = -874668866.1979008, fold 2 = -891426477.6468357)\n",
      "CPU time: 0.5478405952453613 seconds\n",
      "##################################################### testing hyper-parameters... #####################################################\n",
      ">>> NA ENCODER :{'numerical_strategy': 'mean', 'categorical_strategy': '<NULL>'}\n",
      ">>> CA ENCODER :{'strategy': 'label_encoding'}\n",
      ">>> ESTIMATOR :{'strategy': 'LightGBM', 'colsample_bytree': 0.8068114014656554, 'learning_rate': 0.01039507492633054, 'max_depth': 9, 'n_estimators': 100, 'subsample': 0.8829611226192373, 'boosting_type': 'gbdt', 'class_weight': None, 'importance_type': 'split', 'min_child_samples': 20, 'min_child_weight': 0.001, 'min_split_gain': 0.0, 'n_jobs': -1, 'num_leaves': 31, 'objective': None, 'random_state': None, 'reg_alpha': 0.0, 'reg_lambda': 0.0, 'silent': True, 'subsample_for_bin': 200000, 'subsample_freq': 0, 'nthread': -1, 'seed': 0}\n",
      "MEAN SCORE : neg_mean_squared_error = -1864532600.9235063\n",
      "VARIANCE : 9836228.729693532 (fold 1 = -1854696372.1938128, fold 2 = -1874368829.6532)\n",
      "CPU time: 0.5997121334075928 seconds\n",
      "100%|██████████| 20/20 [00:10<00:00,  1.82trial/s, best loss: 873389864.6574562]\n",
      "\n",
      "\n",
      "~~~~~~~~~~~~~~~~~~~~~~~~~~~~~~~~~~~~~~~~~~~~~~~~~~~~~~~~~~~~~~~~~~~~~~~~~~~~~~~~~~~~~~~~~~~~~~~~~~~~~~~~~~~~~~~~~~~~~~~~~~~~~~~~~~~~~~~~~\n",
      "~~~~~~~~~~~~~~~~~~~~~~~~~~~~~~~~~~~~~~~~~~~~~~~~~~~~~~~~~ BEST HYPER-PARAMETERS ~~~~~~~~~~~~~~~~~~~~~~~~~~~~~~~~~~~~~~~~~~~~~~~~~~~~~~~~~\n",
      "~~~~~~~~~~~~~~~~~~~~~~~~~~~~~~~~~~~~~~~~~~~~~~~~~~~~~~~~~~~~~~~~~~~~~~~~~~~~~~~~~~~~~~~~~~~~~~~~~~~~~~~~~~~~~~~~~~~~~~~~~~~~~~~~~~~~~~~~~\n",
      "\n",
      "{'est__colsample_bytree': 0.8902168898133273, 'est__learning_rate': 0.076180849701738, 'est__max_depth': 6, 'est__n_estimators': 100, 'est__strategy': 'LightGBM', 'est__subsample': 0.63052646674535}\n"
     ]
    }
   ],
   "source": [
    "space = {\n",
    "    \n",
    "        'est__strategy':{\"search\":\"choice\",\n",
    "                                  \"space\":[\"LightGBM\"]},    \n",
    "        'est__n_estimators':{\"search\":\"choice\",\n",
    "                                  \"space\":[50,100, 150]},    \n",
    "        'est__colsample_bytree':{\"search\":\"uniform\",\n",
    "                                  \"space\":[0.8,0.95]},\n",
    "        'est__subsample':{\"search\":\"uniform\",\n",
    "                                  \"space\":[0.6,0.95]},\n",
    "        'est__max_depth':{\"search\":\"choice\",\n",
    "                                  \"space\":[5,6,7,8,9,10]},\n",
    "        'est__learning_rate':{\"search\":\"uniform\",\n",
    "                                  \"space\":[0.01, 0.10]} \n",
    "    \n",
    "        }\n",
    "params = Optimiser().optimise(space, df,20)"
   ]
  },
  {
   "cell_type": "code",
   "execution_count": 65,
   "metadata": {
    "id": "jhECgl5Ee4Vo"
   },
   "outputs": [],
   "source": [
    "# BEST HYPER-PARAMETERS\n",
    "# {'est__colsample_bytree': 0.888448620550488, 'est__learning_rate': 0.07, \n",
    "# 'est__max_depth': 9, 'est__n_estimators': 150, \n",
    "# 'est__strategy': 'LightGBM', 'est__subsample': 0.9236160644538745}"
   ]
  },
  {
   "cell_type": "code",
   "execution_count": 66,
   "metadata": {
    "colab": {
     "base_uri": "https://localhost:8080/"
    },
    "id": "Cf9G1JRvDRNL",
    "outputId": "d7d47224-4e0a-479f-9c67-3bd6f99e4d65"
   },
   "outputs": [
    {
     "data": {
      "text/plain": [
       "{'est__colsample_bytree': 0.8902168898133273,\n",
       " 'est__learning_rate': 0.076180849701738,\n",
       " 'est__max_depth': 6,\n",
       " 'est__n_estimators': 100,\n",
       " 'est__strategy': 'LightGBM',\n",
       " 'est__subsample': 0.63052646674535}"
      ]
     },
     "execution_count": 66,
     "metadata": {},
     "output_type": "execute_result"
    }
   ],
   "source": [
    "params"
   ]
  },
  {
   "cell_type": "code",
   "execution_count": 67,
   "metadata": {
    "colab": {
     "base_uri": "https://localhost:8080/",
     "height": 680
    },
    "id": "o-5qTdi88Dkn",
    "outputId": "4337b427-89f5-4c9b-d4d0-cab573ac1911"
   },
   "outputs": [
    {
     "name": "stdout",
     "output_type": "stream",
     "text": [
      "\n",
      "fitting the pipeline ...\n",
      "CPU time: 0.24222183227539062 seconds\n"
     ]
    },
    {
     "data": {
      "image/png": "[encoded data removed]",
      "text/plain": [
       "<Figure size 1440x288 with 1 Axes>"
      ]
     },
     "metadata": {
      "needs_background": "light"
     },
     "output_type": "display_data"
    },
    {
     "name": "stdout",
     "output_type": "stream",
     "text": [
      "\n",
      "> Feature importances dumped into directory : save\n",
      "\n",
      "predicting...\n",
      "CPU time: 0.08385396003723145 seconds\n",
      "\n",
      "> Overview on predictions : \n",
      "\n",
      "   SalePrice_predicted\n",
      "0        127432.385034\n",
      "1        154360.141018\n",
      "2        176617.333763\n",
      "3        183947.658495\n",
      "4        191623.308236\n",
      "5        172049.635344\n",
      "6        169343.560905\n",
      "7        167698.690321\n",
      "8        183900.601198\n",
      "9        122360.533002\n",
      "\n",
      "dumping predictions into directory : save ...\n"
     ]
    },
    {
     "data": {
      "text/plain": [
       "<mlbox.prediction.predictor.Predictor at 0x7f252fd51650>"
      ]
     },
     "execution_count": 67,
     "metadata": {},
     "output_type": "execute_result"
    }
   ],
   "source": [
    "prd = Predictor()\n",
    "prd.fit_predict(params,df)"
   ]
  },
  {
   "cell_type": "code",
   "execution_count": 67,
   "metadata": {
    "id": "HZHepesr8WOC"
   },
   "outputs": [],
   "source": []
  }
 ],
 "metadata": {
  "colab": {
   "machine_shape": "hm",
   "name": "Copy of Untitled55.ipynb",
   "provenance": []
  },
  "kernelspec": {
   "display_name": "Python 3 (ipykernel)",
   "language": "python",
   "name": "python3"
  },
  "language_info": {
   "codemirror_mode": {
    "name": "ipython",
    "version": 3
   },
   "file_extension": ".py",
   "mimetype": "text/x-python",
   "name": "python",
   "nbconvert_exporter": "python",
   "pygments_lexer": "ipython3",
   "version": "3.8.12"
  }
 },
 "nbformat": 4,
 "nbformat_minor": 1
}
