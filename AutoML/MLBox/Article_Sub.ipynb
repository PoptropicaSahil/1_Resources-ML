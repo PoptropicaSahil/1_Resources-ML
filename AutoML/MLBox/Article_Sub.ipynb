{
 "cells": [
  {
   "cell_type": "markdown",
   "id": "5f25c608",
   "metadata": {},
   "source": [
    "source http://darques.eu/blog/index.php/2017/07/27/mlbox-a-short-regression_tutorial/"
   ]
  },
  {
   "cell_type": "code",
   "execution_count": 1,
   "id": "9a484200",
   "metadata": {},
   "outputs": [
    {
     "ename": "ModuleNotFoundError",
     "evalue": "No module named 'mlbox'",
     "output_type": "error",
     "traceback": [
      "\u001b[1;31m---------------------------------------------------------------------------\u001b[0m",
      "\u001b[1;31mModuleNotFoundError\u001b[0m                       Traceback (most recent call last)",
      "\u001b[1;32mC:\\Users\\SAHILG~1\\AppData\\Local\\Temp/ipykernel_21368/3623092344.py\u001b[0m in \u001b[0;36m<module>\u001b[1;34m\u001b[0m\n\u001b[0;32m      1\u001b[0m \u001b[1;31m#Import MLBox and other packages\u001b[0m\u001b[1;33m\u001b[0m\u001b[1;33m\u001b[0m\u001b[1;33m\u001b[0m\u001b[0m\n\u001b[1;32m----> 2\u001b[1;33m \u001b[1;32mimport\u001b[0m \u001b[0mmlbox\u001b[0m \u001b[1;32mas\u001b[0m \u001b[0mmlb\u001b[0m \u001b[1;31m#I don't really like * imports\u001b[0m\u001b[1;33m\u001b[0m\u001b[1;33m\u001b[0m\u001b[0m\n\u001b[0m",
      "\u001b[1;31mModuleNotFoundError\u001b[0m: No module named 'mlbox'"
     ]
    }
   ],
   "source": [
    "#Import MLBox and other packages\n",
    "import mlbox as mlb #I don't really like * imports"
   ]
  },
  {
   "cell_type": "code",
   "execution_count": null,
   "id": "5ab5daff",
   "metadata": {},
   "outputs": [],
   "source": [
    "# Read files using preprocessing.reader\n",
    "# Usage: train_test_split(path to training data,path to test data,target)\n",
    "# Target is \"SalePrice\", i.e. the price the houses are sold\n",
    "data = mlb.preprocessing.Reader(sep = \",\").train_test_split([\"data.csv\",\"test.csv\"], 'SalePrice')"
   ]
  },
  {
   "cell_type": "code",
   "execution_count": null,
   "id": "551259b9",
   "metadata": {},
   "outputs": [],
   "source": [
    "data"
   ]
  },
  {
   "cell_type": "code",
   "execution_count": null,
   "id": "63753dd2",
   "metadata": {},
   "outputs": [],
   "source": [
    "# Preprocess data\n",
    "# 1/ Remove Ids\n",
    "# 2/ Delete drifting data between train and test sets\n",
    "data = mlb.preprocessing.Drift_thresholder().fit_transform(data)"
   ]
  },
  {
   "cell_type": "code",
   "execution_count": null,
   "id": "9383e9a0",
   "metadata": {},
   "outputs": [],
   "source": [
    "space_ligtgbm = {\n",
    "                'ne__numerical_strategy'    :{\"search\":\"choice\",\n",
    "                                              \"space\":[0,'mean','median','most_frequent']},\n",
    "                'ne__categorical_strategy'  :{\"search\":\"choice\",\n",
    "                                              \"space\":[np.NaN,\"None\"]},\n",
    "                'ce__strategy'              :{\"search\":\"choice\",\n",
    "                                              \"space\":['label_encoding','entity_embedding','dummification']},\n",
    "                'fs__strategy'              :{\"search\":\"choice\",\n",
    "                                              \"space\":['l1','variance','rf_feature_importance']},\n",
    "                'fs__threshold'             :{\"search\":\"uniform\",\n",
    "                                              \"space\":[0.01,0.6]},\n",
    "                'est__strategy'             :{\"search\":\"choice\",\n",
    "                                              \"space\":[\"LightGBM\"]},\n",
    "                'est__max_depth'            :{\"search\":\"choice\",\n",
    "                                              \"space\":[3,4,5,6,7]},\n",
    "                'est__learning_rate'        :{\"search\":\"uniform\",\n",
    "                                              \"space\":[0.01,0.1]},\n",
    "                'est__subsample'            :{\"search\":\"uniform\",\n",
    "                                              \"space\":[0.4,0.9]},\n",
    "                'est__reg_alpha'            :{\"search\":\"uniform\",\n",
    "                                              \"space\":[0,10]},\n",
    "                'est__reg_lambda'           :{\"search\":\"uniform\",\n",
    "                                              \"space\":[0,10]},\n",
    "                'est__n_estimators'         :{\"search\":\"choice\",\n",
    "                                              \"space\":[1000,1250,1500]}\n",
    "                }"
   ]
  },
  {
   "cell_type": "code",
   "execution_count": null,
   "id": "14eaeab0",
   "metadata": {},
   "outputs": [],
   "source": [
    "# Optimisation\n",
    "best_lightgbm = mlb.optimisation.Optimiser(scoring = \"r2\",n_folds = 5).optimise(space_ligtgbm, data, 120)"
   ]
  },
  {
   "cell_type": "code",
   "execution_count": null,
   "id": "94395723",
   "metadata": {},
   "outputs": [],
   "source": [
    "best_lightgbm"
   ]
  },
  {
   "cell_type": "code",
   "execution_count": null,
   "id": "da93f671",
   "metadata": {},
   "outputs": [],
   "source": [
    "# Predict on the test data using best parameters\n",
    "mlb.prediction.Predictor().fit_predict(best_lightgbm, data)"
   ]
  },
  {
   "cell_type": "code",
   "execution_count": null,
   "id": "9a625339",
   "metadata": {},
   "outputs": [],
   "source": [
    "# Train and evaluate with default parameters\n",
    "# best is a set of parameters that were estimated as being the best\n",
    "# default = mlb.optimisation.Optimiser().evaluate(None, data)"
   ]
  },
  {
   "cell_type": "code",
   "execution_count": null,
   "id": "dcaee8e0",
   "metadata": {},
   "outputs": [],
   "source": []
  }
 ],
 "metadata": {
  "kernelspec": {
   "display_name": "Python 3 (ipykernel)",
   "language": "python",
   "name": "python3"
  },
  "language_info": {
   "codemirror_mode": {
    "name": "ipython",
    "version": 3
   },
   "file_extension": ".py",
   "mimetype": "text/x-python",
   "name": "python",
   "nbconvert_exporter": "python",
   "pygments_lexer": "ipython3",
   "version": "3.8.12"
  }
 },
 "nbformat": 4,
 "nbformat_minor": 5
}
