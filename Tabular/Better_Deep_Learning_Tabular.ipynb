{
 "cells": [
  {
   "cell_type": "markdown",
   "metadata": {
    "colab_type": "text",
    "id": "uh2Y1u6JkBVG"
   },
   "source": [
    "# Import libraries\n"
   ]
  },
  {
   "cell_type": "code",
   "execution_count": null,
   "metadata": {
    "colab": {
     "base_uri": "https://localhost:8080/",
     "height": 129
    },
    "colab_type": "code",
    "id": "3256OFoIjIrM",
    "outputId": "93204591-7324-43e5-8f68-f7bd3de0c7f1"
   },
   "outputs": [
    {
     "ename": "SyntaxError",
     "evalue": "ignored",
     "output_type": "error",
     "traceback": [
      "\u001b[0;36m  File \u001b[0;32m\"<ipython-input-1-3a234d03c137>\"\u001b[0;36m, line \u001b[0;32m37\u001b[0m\n\u001b[0;31m    mport matplotlib.ticker as ticker\u001b[0m\n\u001b[0m                   ^\u001b[0m\n\u001b[0;31mSyntaxError\u001b[0m\u001b[0;31m:\u001b[0m invalid syntax\n"
     ]
    }
   ],
   "source": [
    "## import libraries\n",
    "\n",
    "#PyTorch \n",
    "\n",
    "import torch\n",
    "import torch.nn as nn\n",
    "from torch.utils.data import Dataset, DataLoader\n",
    "import torch.optim as torch_optim\n",
    "from torchvision import models\n",
    "from torch.nn import init\n",
    "import torch.optim as optim\n",
    "from torch.autograd import Variable\n",
    "import torch.nn.functional as F\n",
    "from torch.utils import data\n",
    "from torch.optim import lr_scheduler\n",
    "\n",
    "#sklearn\n",
    "from sklearn.model_selection import train_test_split\n",
    "from sklearn.preprocessing import LabelEncoder\n",
    "from sklearn.metrics import mean_squared_error\n",
    "from sklearn import preprocessing\n",
    "\n",
    "\n",
    "#other\n",
    "from IPython.core.debugger import set_trace\n",
    "import pandas as pd\n",
    "import numpy as np\n",
    "from collections import Counter\n",
    "from datetime import datetime\n",
    "import math \n",
    "from google.colab import files\n",
    "import io\n",
    "import datetime as dt\n",
    "import re\n",
    "import pandas_profiling\n",
    "import pandas_profiling as pp\n",
    "from math import sqrt\n",
    "\n",
    "#graphs\n",
    "import seaborn as sns\n",
    "import matplotlib.pyplot as plt\n",
    "import matplotlib.ticker as ticker\n",
    "import matplotlib.dates as mdates\n",
    "import matplotlib.cbook as cbook\n",
    "import pylab as plt\n",
    "import matplotlib.dates as dates\n",
    "import seaborn as sns\n",
    "import pylab\n",
    "import matplotlib\n",
    "import matplotlib.dates\n",
    "from IPython.display import display\n",
    "import plotly.graph_objects as go\n",
    "\n",
    "\n",
    "%matplotlib inline"
   ]
  },
  {
   "cell_type": "code",
   "execution_count": null,
   "metadata": {
    "colab": {
     "base_uri": "https://localhost:8080/",
     "height": 34
    },
    "colab_type": "code",
    "id": "jENRWz7YBP8v",
    "outputId": "c5d99c03-cd32-4769-f502-cdc0f82b9bc5"
   },
   "outputs": [
    {
     "data": {
      "text/plain": [
       "device(type='cuda', index=0)"
      ]
     },
     "execution_count": 3,
     "metadata": {
      "tags": []
     },
     "output_type": "execute_result"
    }
   ],
   "source": [
    "# load tqdm\n",
    "#!pip install --force https://github.com/chengs/tqdm/archive/colab.zip\n",
    "from tqdm import tqdm, tqdm_notebook, tnrange\n",
    "\n",
    "device = torch.device(\"cuda:0\" if torch.cuda.is_available() else \"cpu\")\n",
    "device"
   ]
  },
  {
   "cell_type": "markdown",
   "metadata": {
    "colab_type": "text",
    "id": "0PVX-6qokEWI"
   },
   "source": [
    "# Help Functions"
   ]
  },
  {
   "cell_type": "code",
   "execution_count": null,
   "metadata": {
    "colab": {},
    "colab_type": "code",
    "id": "uJoaYsqKjjTu"
   },
   "outputs": [],
   "source": [
    "def haversine_distance(df, lat1, long1, lat2, long2):\n",
    "    \"\"\"\n",
    "    Calculates the haversine distance between 2 sets of GPS coordinates in df\n",
    "    \"\"\"\n",
    "    r = 6371  # average radius of Earth in kilometers\n",
    "       \n",
    "    phi1 = np.radians(df[lat1])\n",
    "    phi2 = np.radians(df[lat2])\n",
    "    \n",
    "    delta_phi = np.radians(df[lat2]-df[lat1])\n",
    "    delta_lambda = np.radians(df[long2]-df[long1])\n",
    "     \n",
    "    a = np.sin(delta_phi/2)**2 + np.cos(phi1) * np.cos(phi2) * np.sin(delta_lambda/2)**2\n",
    "    c = 2 * np.arctan2(np.sqrt(a), np.sqrt(1-a))\n",
    "    d = (r * c) # in kilometers\n",
    "\n",
    "    return d"
   ]
  },
  {
   "cell_type": "markdown",
   "metadata": {
    "colab_type": "text",
    "id": "HVH9aII2kHSj"
   },
   "source": [
    "# Upload Data"
   ]
  },
  {
   "cell_type": "code",
   "execution_count": null,
   "metadata": {
    "colab": {
     "base_uri": "https://localhost:8080/",
     "height": 74,
     "resources": {
      "http://localhost:8080/nbextensions/google.colab/files.js": {
       "data": "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",
       "headers": [
        [
         "content-type",
         "application/javascript"
        ]
       ],
       "ok": true,
       "status": 200,
       "status_text": ""
      }
     }
    },
    "colab_type": "code",
    "id": "nSDuT6AWj_Dt",
    "outputId": "6d193cc6-5b27-493d-eab5-a8789edbc756"
   },
   "outputs": [
    {
     "data": {
      "text/html": [
       "\n",
       "     <input type=\"file\" id=\"files-fbf08753-3d6b-4eb4-b2c6-a7c9c2059dc8\" name=\"files[]\" multiple disabled />\n",
       "     <output id=\"result-fbf08753-3d6b-4eb4-b2c6-a7c9c2059dc8\">\n",
       "      Upload widget is only available when the cell has been executed in the\n",
       "      current browser session. Please rerun this cell to enable.\n",
       "      </output>\n",
       "      <script src=\"/nbextensions/google.colab/files.js\"></script> "
      ],
      "text/plain": [
       "<IPython.core.display.HTML object>"
      ]
     },
     "metadata": {
      "tags": []
     },
     "output_type": "display_data"
    },
    {
     "name": "stdout",
     "output_type": "stream",
     "text": [
      "Saving sub_train.csv to sub_train (3).csv\n"
     ]
    }
   ],
   "source": [
    "# upload df_train csv file\n",
    "\n",
    "uploaded = files.upload()\n",
    "df_train = pd.read_csv(io.BytesIO(uploaded['sub_train.csv']))\n"
   ]
  },
  {
   "cell_type": "code",
   "execution_count": null,
   "metadata": {
    "colab": {
     "base_uri": "https://localhost:8080/",
     "height": 204
    },
    "colab_type": "code",
    "id": "XSb19Baik5G8",
    "outputId": "c9864f30-e5a4-4880-a77b-30db9a63025f"
   },
   "outputs": [
    {
     "data": {
      "text/html": [
       "<div>\n",
       "<style scoped>\n",
       "    .dataframe tbody tr th:only-of-type {\n",
       "        vertical-align: middle;\n",
       "    }\n",
       "\n",
       "    .dataframe tbody tr th {\n",
       "        vertical-align: top;\n",
       "    }\n",
       "\n",
       "    .dataframe thead th {\n",
       "        text-align: right;\n",
       "    }\n",
       "</style>\n",
       "<table border=\"1\" class=\"dataframe\">\n",
       "  <thead>\n",
       "    <tr style=\"text-align: right;\">\n",
       "      <th></th>\n",
       "      <th>Unnamed: 0</th>\n",
       "      <th>key</th>\n",
       "      <th>fare_amount</th>\n",
       "      <th>pickup_datetime</th>\n",
       "      <th>pickup_longitude</th>\n",
       "      <th>pickup_latitude</th>\n",
       "      <th>dropoff_longitude</th>\n",
       "      <th>dropoff_latitude</th>\n",
       "      <th>passenger_count</th>\n",
       "    </tr>\n",
       "  </thead>\n",
       "  <tbody>\n",
       "    <tr>\n",
       "      <th>0</th>\n",
       "      <td>0</td>\n",
       "      <td>00:00.0</td>\n",
       "      <td>11.0</td>\n",
       "      <td>2013-01-02 21:00:00 UTC</td>\n",
       "      <td>-73.974270</td>\n",
       "      <td>40.756035</td>\n",
       "      <td>-73.968990</td>\n",
       "      <td>40.785887</td>\n",
       "      <td>1</td>\n",
       "    </tr>\n",
       "    <tr>\n",
       "      <th>1</th>\n",
       "      <td>1</td>\n",
       "      <td>36:26.0</td>\n",
       "      <td>17.3</td>\n",
       "      <td>2009-04-06 09:36:26 UTC</td>\n",
       "      <td>-74.015830</td>\n",
       "      <td>40.711327</td>\n",
       "      <td>-73.980663</td>\n",
       "      <td>40.744378</td>\n",
       "      <td>1</td>\n",
       "    </tr>\n",
       "    <tr>\n",
       "      <th>2</th>\n",
       "      <td>2</td>\n",
       "      <td>00:37.0</td>\n",
       "      <td>9.3</td>\n",
       "      <td>2011-01-22 20:00:37 UTC</td>\n",
       "      <td>-73.977800</td>\n",
       "      <td>40.725955</td>\n",
       "      <td>-73.988308</td>\n",
       "      <td>40.749000</td>\n",
       "      <td>3</td>\n",
       "    </tr>\n",
       "    <tr>\n",
       "      <th>3</th>\n",
       "      <td>3</td>\n",
       "      <td>28:00.0</td>\n",
       "      <td>12.9</td>\n",
       "      <td>2010-08-08 19:28:00 UTC</td>\n",
       "      <td>-73.986797</td>\n",
       "      <td>40.756503</td>\n",
       "      <td>-73.954817</td>\n",
       "      <td>40.777915</td>\n",
       "      <td>1</td>\n",
       "    </tr>\n",
       "    <tr>\n",
       "      <th>4</th>\n",
       "      <td>4</td>\n",
       "      <td>39:19.0</td>\n",
       "      <td>10.9</td>\n",
       "      <td>2011-02-03 07:39:19 UTC</td>\n",
       "      <td>-73.984237</td>\n",
       "      <td>40.765598</td>\n",
       "      <td>-73.987143</td>\n",
       "      <td>40.736413</td>\n",
       "      <td>1</td>\n",
       "    </tr>\n",
       "  </tbody>\n",
       "</table>\n",
       "</div>"
      ],
      "text/plain": [
       "   Unnamed: 0      key  ...  dropoff_latitude passenger_count\n",
       "0           0  00:00.0  ...         40.785887               1\n",
       "1           1  36:26.0  ...         40.744378               1\n",
       "2           2  00:37.0  ...         40.749000               3\n",
       "3           3  28:00.0  ...         40.777915               1\n",
       "4           4  39:19.0  ...         40.736413               1\n",
       "\n",
       "[5 rows x 9 columns]"
      ]
     },
     "execution_count": 7,
     "metadata": {
      "tags": []
     },
     "output_type": "execute_result"
    }
   ],
   "source": [
    "df_train.head()"
   ]
  },
  {
   "cell_type": "code",
   "execution_count": null,
   "metadata": {
    "colab": {
     "base_uri": "https://localhost:8080/",
     "height": 261,
     "resources": {
      "http://localhost:8080/nbextensions/google.colab/files.js": {
       "data": "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",
       "headers": [
        [
         "content-type",
         "application/javascript"
        ]
       ],
       "ok": true,
       "status": 200,
       "status_text": ""
      }
     }
    },
    "colab_type": "code",
    "id": "wZvWttcVkIub",
    "outputId": "8c6af6d0-c575-40ba-dcc1-55cf28886d58"
   },
   "outputs": [
    {
     "data": {
      "text/html": [
       "\n",
       "     <input type=\"file\" id=\"files-3049e950-1c2b-4803-9bc0-5e7f712725c3\" name=\"files[]\" multiple disabled />\n",
       "     <output id=\"result-3049e950-1c2b-4803-9bc0-5e7f712725c3\">\n",
       "      Upload widget is only available when the cell has been executed in the\n",
       "      current browser session. Please rerun this cell to enable.\n",
       "      </output>\n",
       "      <script src=\"/nbextensions/google.colab/files.js\"></script> "
      ],
      "text/plain": [
       "<IPython.core.display.HTML object>"
      ]
     },
     "metadata": {
      "tags": []
     },
     "output_type": "display_data"
    },
    {
     "name": "stdout",
     "output_type": "stream",
     "text": [
      "Saving test.csv to test (3).csv\n"
     ]
    },
    {
     "data": {
      "text/html": [
       "<div>\n",
       "<style scoped>\n",
       "    .dataframe tbody tr th:only-of-type {\n",
       "        vertical-align: middle;\n",
       "    }\n",
       "\n",
       "    .dataframe tbody tr th {\n",
       "        vertical-align: top;\n",
       "    }\n",
       "\n",
       "    .dataframe thead th {\n",
       "        text-align: right;\n",
       "    }\n",
       "</style>\n",
       "<table border=\"1\" class=\"dataframe\">\n",
       "  <thead>\n",
       "    <tr style=\"text-align: right;\">\n",
       "      <th></th>\n",
       "      <th>key</th>\n",
       "      <th>pickup_datetime</th>\n",
       "      <th>pickup_longitude</th>\n",
       "      <th>pickup_latitude</th>\n",
       "      <th>dropoff_longitude</th>\n",
       "      <th>dropoff_latitude</th>\n",
       "      <th>passenger_count</th>\n",
       "    </tr>\n",
       "  </thead>\n",
       "  <tbody>\n",
       "    <tr>\n",
       "      <th>0</th>\n",
       "      <td>2015-01-27 13:08:24.0000002</td>\n",
       "      <td>2015-01-27 13:08:24 UTC</td>\n",
       "      <td>-73.973320</td>\n",
       "      <td>40.763805</td>\n",
       "      <td>-73.981430</td>\n",
       "      <td>40.743835</td>\n",
       "      <td>1</td>\n",
       "    </tr>\n",
       "    <tr>\n",
       "      <th>1</th>\n",
       "      <td>2015-01-27 13:08:24.0000003</td>\n",
       "      <td>2015-01-27 13:08:24 UTC</td>\n",
       "      <td>-73.986862</td>\n",
       "      <td>40.719383</td>\n",
       "      <td>-73.998886</td>\n",
       "      <td>40.739201</td>\n",
       "      <td>1</td>\n",
       "    </tr>\n",
       "    <tr>\n",
       "      <th>2</th>\n",
       "      <td>2011-10-08 11:53:44.0000002</td>\n",
       "      <td>2011-10-08 11:53:44 UTC</td>\n",
       "      <td>-73.982524</td>\n",
       "      <td>40.751260</td>\n",
       "      <td>-73.979654</td>\n",
       "      <td>40.746139</td>\n",
       "      <td>1</td>\n",
       "    </tr>\n",
       "    <tr>\n",
       "      <th>3</th>\n",
       "      <td>2012-12-01 21:12:12.0000002</td>\n",
       "      <td>2012-12-01 21:12:12 UTC</td>\n",
       "      <td>-73.981160</td>\n",
       "      <td>40.767807</td>\n",
       "      <td>-73.990448</td>\n",
       "      <td>40.751635</td>\n",
       "      <td>1</td>\n",
       "    </tr>\n",
       "    <tr>\n",
       "      <th>4</th>\n",
       "      <td>2012-12-01 21:12:12.0000003</td>\n",
       "      <td>2012-12-01 21:12:12 UTC</td>\n",
       "      <td>-73.966046</td>\n",
       "      <td>40.789775</td>\n",
       "      <td>-73.988565</td>\n",
       "      <td>40.744427</td>\n",
       "      <td>1</td>\n",
       "    </tr>\n",
       "  </tbody>\n",
       "</table>\n",
       "</div>"
      ],
      "text/plain": [
       "                           key  ... passenger_count\n",
       "0  2015-01-27 13:08:24.0000002  ...               1\n",
       "1  2015-01-27 13:08:24.0000003  ...               1\n",
       "2  2011-10-08 11:53:44.0000002  ...               1\n",
       "3  2012-12-01 21:12:12.0000002  ...               1\n",
       "4  2012-12-01 21:12:12.0000003  ...               1\n",
       "\n",
       "[5 rows x 7 columns]"
      ]
     },
     "execution_count": 9,
     "metadata": {
      "tags": []
     },
     "output_type": "execute_result"
    }
   ],
   "source": [
    "# upload df_Test csv file\n",
    "\n",
    "uploaded = files.upload()\n",
    "df_test = pd.read_csv(io.BytesIO(uploaded['test.csv']))\n",
    "df_test.head()"
   ]
  },
  {
   "cell_type": "markdown",
   "metadata": {
    "colab_type": "text",
    "id": "QSAiBGfNkbhb"
   },
   "source": [
    "# Data preprocessing"
   ]
  },
  {
   "cell_type": "markdown",
   "metadata": {
    "colab_type": "text",
    "id": "I3gHYEONknVv"
   },
   "source": [
    "## Stacking train and test set so that they undergo the same preprocessing"
   ]
  },
  {
   "cell_type": "code",
   "execution_count": null,
   "metadata": {
    "colab": {
     "base_uri": "https://localhost:8080/",
     "height": 221
    },
    "colab_type": "code",
    "id": "0cgon_xSHSvk",
    "outputId": "ab5baabd-d1c2-4ba0-b4f4-1b670dc51320"
   },
   "outputs": [
    {
     "data": {
      "text/plain": [
       "0       2015-01-27 13:08:24.0000002\n",
       "1       2015-01-27 13:08:24.0000003\n",
       "2       2011-10-08 11:53:44.0000002\n",
       "3       2012-12-01 21:12:12.0000002\n",
       "4       2012-12-01 21:12:12.0000003\n",
       "                   ...             \n",
       "9909    2015-05-10 12:37:51.0000002\n",
       "9910    2015-01-12 17:05:51.0000001\n",
       "9911    2015-04-19 20:44:15.0000001\n",
       "9912    2015-01-31 01:05:19.0000005\n",
       "9913    2015-01-18 14:06:23.0000006\n",
       "Name: key, Length: 9914, dtype: object"
      ]
     },
     "execution_count": 10,
     "metadata": {
      "tags": []
     },
     "output_type": "execute_result"
    }
   ],
   "source": [
    "# copy for subbmision\n",
    "\n",
    "df_test_for_sub = df_test['key']\n",
    "df_test_for_sub"
   ]
  },
  {
   "cell_type": "code",
   "execution_count": null,
   "metadata": {
    "colab": {
     "base_uri": "https://localhost:8080/",
     "height": 34
    },
    "colab_type": "code",
    "id": "ePzgk3cTYnuY",
    "outputId": "169aa7b9-48fc-44fb-e073-4e1ec8f7aca0"
   },
   "outputs": [
    {
     "data": {
      "text/plain": [
       "0.01"
      ]
     },
     "execution_count": 11,
     "metadata": {
      "tags": []
     },
     "output_type": "execute_result"
    }
   ],
   "source": [
    "# delete the fares that are less than 0\n",
    "df_train = df_train.loc[df_train.fare_amount > 0]\n",
    "df_train.fare_amount.min()"
   ]
  },
  {
   "cell_type": "code",
   "execution_count": null,
   "metadata": {
    "colab": {
     "base_uri": "https://localhost:8080/",
     "height": 34
    },
    "colab_type": "code",
    "id": "0mzao1s4a2zB",
    "outputId": "91afc351-671d-4737-f38d-37922cb168e1"
   },
   "outputs": [
    {
     "data": {
      "text/plain": [
       "99990"
      ]
     },
     "execution_count": 12,
     "metadata": {
      "tags": []
     },
     "output_type": "execute_result"
    }
   ],
   "source": [
    "len(df_train)"
   ]
  },
  {
   "cell_type": "code",
   "execution_count": null,
   "metadata": {
    "colab": {},
    "colab_type": "code",
    "id": "b5updpaUljUB"
   },
   "outputs": [],
   "source": [
    "train_X = df_train.drop(columns=['fare_amount'])\n",
    "Y = np.log(df_train.fare_amount)\n",
    "\n",
    "#Y = df_train['fare_amount']\n",
    "test_X = df_test\n"
   ]
  },
  {
   "cell_type": "code",
   "execution_count": null,
   "metadata": {
    "colab": {},
    "colab_type": "code",
    "id": "kNycFQdVkl1q"
   },
   "outputs": [],
   "source": [
    "df = train_X.append(test_X,sort=False)"
   ]
  },
  {
   "cell_type": "markdown",
   "metadata": {
    "colab_type": "text",
    "id": "lbRO0s7mmtOz"
   },
   "source": [
    "##Calculate the distance traveled"
   ]
  },
  {
   "cell_type": "code",
   "execution_count": null,
   "metadata": {
    "colab": {
     "base_uri": "https://localhost:8080/",
     "height": 204
    },
    "colab_type": "code",
    "id": "U6prpp5lmivr",
    "outputId": "ed2759a2-d7df-41d8-96d1-1d212a4b5fb4"
   },
   "outputs": [
    {
     "data": {
      "text/html": [
       "<div>\n",
       "<style scoped>\n",
       "    .dataframe tbody tr th:only-of-type {\n",
       "        vertical-align: middle;\n",
       "    }\n",
       "\n",
       "    .dataframe tbody tr th {\n",
       "        vertical-align: top;\n",
       "    }\n",
       "\n",
       "    .dataframe thead th {\n",
       "        text-align: right;\n",
       "    }\n",
       "</style>\n",
       "<table border=\"1\" class=\"dataframe\">\n",
       "  <thead>\n",
       "    <tr style=\"text-align: right;\">\n",
       "      <th></th>\n",
       "      <th>Unnamed: 0</th>\n",
       "      <th>key</th>\n",
       "      <th>pickup_datetime</th>\n",
       "      <th>pickup_longitude</th>\n",
       "      <th>pickup_latitude</th>\n",
       "      <th>dropoff_longitude</th>\n",
       "      <th>dropoff_latitude</th>\n",
       "      <th>passenger_count</th>\n",
       "      <th>dist_km</th>\n",
       "    </tr>\n",
       "  </thead>\n",
       "  <tbody>\n",
       "    <tr>\n",
       "      <th>0</th>\n",
       "      <td>0.0</td>\n",
       "      <td>00:00.0</td>\n",
       "      <td>2013-01-02 21:00:00 UTC</td>\n",
       "      <td>-73.974270</td>\n",
       "      <td>40.756035</td>\n",
       "      <td>-73.968990</td>\n",
       "      <td>40.785887</td>\n",
       "      <td>1</td>\n",
       "      <td>3.349038</td>\n",
       "    </tr>\n",
       "    <tr>\n",
       "      <th>1</th>\n",
       "      <td>1.0</td>\n",
       "      <td>36:26.0</td>\n",
       "      <td>2009-04-06 09:36:26 UTC</td>\n",
       "      <td>-74.015830</td>\n",
       "      <td>40.711327</td>\n",
       "      <td>-73.980663</td>\n",
       "      <td>40.744378</td>\n",
       "      <td>1</td>\n",
       "      <td>4.721006</td>\n",
       "    </tr>\n",
       "    <tr>\n",
       "      <th>2</th>\n",
       "      <td>2.0</td>\n",
       "      <td>00:37.0</td>\n",
       "      <td>2011-01-22 20:00:37 UTC</td>\n",
       "      <td>-73.977800</td>\n",
       "      <td>40.725955</td>\n",
       "      <td>-73.988308</td>\n",
       "      <td>40.749000</td>\n",
       "      <td>3</td>\n",
       "      <td>2.711117</td>\n",
       "    </tr>\n",
       "    <tr>\n",
       "      <th>3</th>\n",
       "      <td>3.0</td>\n",
       "      <td>28:00.0</td>\n",
       "      <td>2010-08-08 19:28:00 UTC</td>\n",
       "      <td>-73.986797</td>\n",
       "      <td>40.756503</td>\n",
       "      <td>-73.954817</td>\n",
       "      <td>40.777915</td>\n",
       "      <td>1</td>\n",
       "      <td>3.594734</td>\n",
       "    </tr>\n",
       "    <tr>\n",
       "      <th>4</th>\n",
       "      <td>4.0</td>\n",
       "      <td>39:19.0</td>\n",
       "      <td>2011-02-03 07:39:19 UTC</td>\n",
       "      <td>-73.984237</td>\n",
       "      <td>40.765598</td>\n",
       "      <td>-73.987143</td>\n",
       "      <td>40.736413</td>\n",
       "      <td>1</td>\n",
       "      <td>3.254443</td>\n",
       "    </tr>\n",
       "  </tbody>\n",
       "</table>\n",
       "</div>"
      ],
      "text/plain": [
       "   Unnamed: 0      key  ... passenger_count   dist_km\n",
       "0         0.0  00:00.0  ...               1  3.349038\n",
       "1         1.0  36:26.0  ...               1  4.721006\n",
       "2         2.0  00:37.0  ...               3  2.711117\n",
       "3         3.0  28:00.0  ...               1  3.594734\n",
       "4         4.0  39:19.0  ...               1  3.254443\n",
       "\n",
       "[5 rows x 9 columns]"
      ]
     },
     "execution_count": 15,
     "metadata": {
      "tags": []
     },
     "output_type": "execute_result"
    }
   ],
   "source": [
    "df['dist_km'] = haversine_distance(df,'pickup_latitude', 'pickup_longitude', 'dropoff_latitude', 'dropoff_longitude')\n",
    "df.head()"
   ]
  },
  {
   "cell_type": "markdown",
   "metadata": {
    "colab_type": "text",
    "id": "mxYVYQ3lm2dI"
   },
   "source": [
    "##Add a datetime column and derive useful statistics"
   ]
  },
  {
   "cell_type": "code",
   "execution_count": null,
   "metadata": {
    "colab": {
     "base_uri": "https://localhost:8080/",
     "height": 204
    },
    "colab_type": "code",
    "id": "HLmdLkipktOK",
    "outputId": "e7aebcd4-82f6-448d-b5c2-ef58099f6add"
   },
   "outputs": [
    {
     "data": {
      "text/html": [
       "<div>\n",
       "<style scoped>\n",
       "    .dataframe tbody tr th:only-of-type {\n",
       "        vertical-align: middle;\n",
       "    }\n",
       "\n",
       "    .dataframe tbody tr th {\n",
       "        vertical-align: top;\n",
       "    }\n",
       "\n",
       "    .dataframe thead th {\n",
       "        text-align: right;\n",
       "    }\n",
       "</style>\n",
       "<table border=\"1\" class=\"dataframe\">\n",
       "  <thead>\n",
       "    <tr style=\"text-align: right;\">\n",
       "      <th></th>\n",
       "      <th>Unnamed: 0</th>\n",
       "      <th>key</th>\n",
       "      <th>pickup_datetime</th>\n",
       "      <th>pickup_longitude</th>\n",
       "      <th>pickup_latitude</th>\n",
       "      <th>dropoff_longitude</th>\n",
       "      <th>dropoff_latitude</th>\n",
       "      <th>passenger_count</th>\n",
       "      <th>dist_km</th>\n",
       "      <th>EDTdate</th>\n",
       "      <th>Hour</th>\n",
       "      <th>AMorPM</th>\n",
       "      <th>Weekday</th>\n",
       "    </tr>\n",
       "  </thead>\n",
       "  <tbody>\n",
       "    <tr>\n",
       "      <th>0</th>\n",
       "      <td>0.0</td>\n",
       "      <td>00:00.0</td>\n",
       "      <td>2013-01-02 21:00:00 UTC</td>\n",
       "      <td>-73.974270</td>\n",
       "      <td>40.756035</td>\n",
       "      <td>-73.968990</td>\n",
       "      <td>40.785887</td>\n",
       "      <td>1</td>\n",
       "      <td>3.349038</td>\n",
       "      <td>2013-01-02 17:00:00</td>\n",
       "      <td>17</td>\n",
       "      <td>pm</td>\n",
       "      <td>Wed</td>\n",
       "    </tr>\n",
       "    <tr>\n",
       "      <th>1</th>\n",
       "      <td>1.0</td>\n",
       "      <td>36:26.0</td>\n",
       "      <td>2009-04-06 09:36:26 UTC</td>\n",
       "      <td>-74.015830</td>\n",
       "      <td>40.711327</td>\n",
       "      <td>-73.980663</td>\n",
       "      <td>40.744378</td>\n",
       "      <td>1</td>\n",
       "      <td>4.721006</td>\n",
       "      <td>2009-04-06 05:36:26</td>\n",
       "      <td>5</td>\n",
       "      <td>am</td>\n",
       "      <td>Mon</td>\n",
       "    </tr>\n",
       "    <tr>\n",
       "      <th>2</th>\n",
       "      <td>2.0</td>\n",
       "      <td>00:37.0</td>\n",
       "      <td>2011-01-22 20:00:37 UTC</td>\n",
       "      <td>-73.977800</td>\n",
       "      <td>40.725955</td>\n",
       "      <td>-73.988308</td>\n",
       "      <td>40.749000</td>\n",
       "      <td>3</td>\n",
       "      <td>2.711117</td>\n",
       "      <td>2011-01-22 16:00:37</td>\n",
       "      <td>16</td>\n",
       "      <td>pm</td>\n",
       "      <td>Sat</td>\n",
       "    </tr>\n",
       "    <tr>\n",
       "      <th>3</th>\n",
       "      <td>3.0</td>\n",
       "      <td>28:00.0</td>\n",
       "      <td>2010-08-08 19:28:00 UTC</td>\n",
       "      <td>-73.986797</td>\n",
       "      <td>40.756503</td>\n",
       "      <td>-73.954817</td>\n",
       "      <td>40.777915</td>\n",
       "      <td>1</td>\n",
       "      <td>3.594734</td>\n",
       "      <td>2010-08-08 15:28:00</td>\n",
       "      <td>15</td>\n",
       "      <td>pm</td>\n",
       "      <td>Sun</td>\n",
       "    </tr>\n",
       "    <tr>\n",
       "      <th>4</th>\n",
       "      <td>4.0</td>\n",
       "      <td>39:19.0</td>\n",
       "      <td>2011-02-03 07:39:19 UTC</td>\n",
       "      <td>-73.984237</td>\n",
       "      <td>40.765598</td>\n",
       "      <td>-73.987143</td>\n",
       "      <td>40.736413</td>\n",
       "      <td>1</td>\n",
       "      <td>3.254443</td>\n",
       "      <td>2011-02-03 03:39:19</td>\n",
       "      <td>3</td>\n",
       "      <td>am</td>\n",
       "      <td>Thu</td>\n",
       "    </tr>\n",
       "  </tbody>\n",
       "</table>\n",
       "</div>"
      ],
      "text/plain": [
       "   Unnamed: 0      key          pickup_datetime  ...  Hour  AMorPM  Weekday\n",
       "0         0.0  00:00.0  2013-01-02 21:00:00 UTC  ...    17      pm      Wed\n",
       "1         1.0  36:26.0  2009-04-06 09:36:26 UTC  ...     5      am      Mon\n",
       "2         2.0  00:37.0  2011-01-22 20:00:37 UTC  ...    16      pm      Sat\n",
       "3         3.0  28:00.0  2010-08-08 19:28:00 UTC  ...    15      pm      Sun\n",
       "4         4.0  39:19.0  2011-02-03 07:39:19 UTC  ...     3      am      Thu\n",
       "\n",
       "[5 rows x 13 columns]"
      ]
     },
     "execution_count": 16,
     "metadata": {
      "tags": []
     },
     "output_type": "execute_result"
    }
   ],
   "source": [
    "df['EDTdate'] = pd.to_datetime(df['pickup_datetime'].str[:19]) - pd.Timedelta(hours=4)\n",
    "df['Hour'] = df['EDTdate'].dt.hour\n",
    "df['AMorPM'] = np.where(df['Hour']<12,'am','pm')\n",
    "df['Weekday'] = df['EDTdate'].dt.strftime(\"%a\")\n",
    "df.head()"
   ]
  },
  {
   "cell_type": "markdown",
   "metadata": {
    "colab_type": "text",
    "id": "KFNfBofHn2OV"
   },
   "source": [
    "# Prepare the model"
   ]
  },
  {
   "cell_type": "markdown",
   "metadata": {
    "colab_type": "text",
    "id": "G-0h_LjXn8ha"
   },
   "source": [
    "## define Categorical and continuous columns"
   ]
  },
  {
   "cell_type": "code",
   "execution_count": null,
   "metadata": {
    "colab": {},
    "colab_type": "code",
    "id": "mN0xUIP0nH-K"
   },
   "outputs": [],
   "source": [
    "cat_cols = ['Hour', 'AMorPM', 'Weekday']\n",
    "cont_cols = ['pickup_latitude', 'pickup_longitude', 'dropoff_latitude', 'dropoff_longitude', 'passenger_count', 'dist_km']"
   ]
  },
  {
   "cell_type": "code",
   "execution_count": null,
   "metadata": {
    "colab": {},
    "colab_type": "code",
    "id": "Gv4IhHNqqFkJ"
   },
   "outputs": [],
   "source": [
    "#df.head()\n",
    "#df.info()"
   ]
  },
  {
   "cell_type": "code",
   "execution_count": null,
   "metadata": {
    "colab": {},
    "colab_type": "code",
    "id": "G91bMyUroUMw"
   },
   "outputs": [],
   "source": [
    "#make the cat categories as \"category\" and label encoder it.\n",
    "for col in df.columns:\n",
    "  if col in cat_cols:\n",
    "    df[col] = LabelEncoder().fit_transform(df[col])\n",
    "    df[col]= df[col].astype('category')\n",
    "\n"
   ]
  },
  {
   "cell_type": "code",
   "execution_count": null,
   "metadata": {
    "colab": {
     "base_uri": "https://localhost:8080/",
     "height": 204
    },
    "colab_type": "code",
    "id": "TtN1pnhIox7K",
    "outputId": "bb98003e-63e9-4291-858e-140a5284d14d"
   },
   "outputs": [
    {
     "data": {
      "text/html": [
       "<div>\n",
       "<style scoped>\n",
       "    .dataframe tbody tr th:only-of-type {\n",
       "        vertical-align: middle;\n",
       "    }\n",
       "\n",
       "    .dataframe tbody tr th {\n",
       "        vertical-align: top;\n",
       "    }\n",
       "\n",
       "    .dataframe thead th {\n",
       "        text-align: right;\n",
       "    }\n",
       "</style>\n",
       "<table border=\"1\" class=\"dataframe\">\n",
       "  <thead>\n",
       "    <tr style=\"text-align: right;\">\n",
       "      <th></th>\n",
       "      <th>Unnamed: 0</th>\n",
       "      <th>key</th>\n",
       "      <th>pickup_datetime</th>\n",
       "      <th>pickup_longitude</th>\n",
       "      <th>pickup_latitude</th>\n",
       "      <th>dropoff_longitude</th>\n",
       "      <th>dropoff_latitude</th>\n",
       "      <th>passenger_count</th>\n",
       "      <th>dist_km</th>\n",
       "      <th>EDTdate</th>\n",
       "      <th>Hour</th>\n",
       "      <th>AMorPM</th>\n",
       "      <th>Weekday</th>\n",
       "    </tr>\n",
       "  </thead>\n",
       "  <tbody>\n",
       "    <tr>\n",
       "      <th>0</th>\n",
       "      <td>0.0</td>\n",
       "      <td>00:00.0</td>\n",
       "      <td>2013-01-02 21:00:00 UTC</td>\n",
       "      <td>-73.974270</td>\n",
       "      <td>40.756035</td>\n",
       "      <td>-73.968990</td>\n",
       "      <td>40.785887</td>\n",
       "      <td>1</td>\n",
       "      <td>3.349038</td>\n",
       "      <td>2013-01-02 17:00:00</td>\n",
       "      <td>17</td>\n",
       "      <td>1</td>\n",
       "      <td>6</td>\n",
       "    </tr>\n",
       "    <tr>\n",
       "      <th>1</th>\n",
       "      <td>1.0</td>\n",
       "      <td>36:26.0</td>\n",
       "      <td>2009-04-06 09:36:26 UTC</td>\n",
       "      <td>-74.015830</td>\n",
       "      <td>40.711327</td>\n",
       "      <td>-73.980663</td>\n",
       "      <td>40.744378</td>\n",
       "      <td>1</td>\n",
       "      <td>4.721006</td>\n",
       "      <td>2009-04-06 05:36:26</td>\n",
       "      <td>5</td>\n",
       "      <td>0</td>\n",
       "      <td>1</td>\n",
       "    </tr>\n",
       "    <tr>\n",
       "      <th>2</th>\n",
       "      <td>2.0</td>\n",
       "      <td>00:37.0</td>\n",
       "      <td>2011-01-22 20:00:37 UTC</td>\n",
       "      <td>-73.977800</td>\n",
       "      <td>40.725955</td>\n",
       "      <td>-73.988308</td>\n",
       "      <td>40.749000</td>\n",
       "      <td>3</td>\n",
       "      <td>2.711117</td>\n",
       "      <td>2011-01-22 16:00:37</td>\n",
       "      <td>16</td>\n",
       "      <td>1</td>\n",
       "      <td>2</td>\n",
       "    </tr>\n",
       "    <tr>\n",
       "      <th>3</th>\n",
       "      <td>3.0</td>\n",
       "      <td>28:00.0</td>\n",
       "      <td>2010-08-08 19:28:00 UTC</td>\n",
       "      <td>-73.986797</td>\n",
       "      <td>40.756503</td>\n",
       "      <td>-73.954817</td>\n",
       "      <td>40.777915</td>\n",
       "      <td>1</td>\n",
       "      <td>3.594734</td>\n",
       "      <td>2010-08-08 15:28:00</td>\n",
       "      <td>15</td>\n",
       "      <td>1</td>\n",
       "      <td>3</td>\n",
       "    </tr>\n",
       "    <tr>\n",
       "      <th>4</th>\n",
       "      <td>4.0</td>\n",
       "      <td>39:19.0</td>\n",
       "      <td>2011-02-03 07:39:19 UTC</td>\n",
       "      <td>-73.984237</td>\n",
       "      <td>40.765598</td>\n",
       "      <td>-73.987143</td>\n",
       "      <td>40.736413</td>\n",
       "      <td>1</td>\n",
       "      <td>3.254443</td>\n",
       "      <td>2011-02-03 03:39:19</td>\n",
       "      <td>3</td>\n",
       "      <td>0</td>\n",
       "      <td>4</td>\n",
       "    </tr>\n",
       "  </tbody>\n",
       "</table>\n",
       "</div>"
      ],
      "text/plain": [
       "   Unnamed: 0      key          pickup_datetime  ...  Hour  AMorPM  Weekday\n",
       "0         0.0  00:00.0  2013-01-02 21:00:00 UTC  ...    17       1        6\n",
       "1         1.0  36:26.0  2009-04-06 09:36:26 UTC  ...     5       0        1\n",
       "2         2.0  00:37.0  2011-01-22 20:00:37 UTC  ...    16       1        2\n",
       "3         3.0  28:00.0  2010-08-08 19:28:00 UTC  ...    15       1        3\n",
       "4         4.0  39:19.0  2011-02-03 07:39:19 UTC  ...     3       0        4\n",
       "\n",
       "[5 rows x 13 columns]"
      ]
     },
     "execution_count": 20,
     "metadata": {
      "tags": []
     },
     "output_type": "execute_result"
    }
   ],
   "source": [
    "df.head()"
   ]
  },
  {
   "cell_type": "code",
   "execution_count": null,
   "metadata": {
    "colab": {
     "base_uri": "https://localhost:8080/",
     "height": 323
    },
    "colab_type": "code",
    "id": "ZwW1Ubgeo5ea",
    "outputId": "602e641f-359e-40aa-b32b-b7b1b050303a"
   },
   "outputs": [
    {
     "name": "stdout",
     "output_type": "stream",
     "text": [
      "<class 'pandas.core.frame.DataFrame'>\n",
      "Int64Index: 109904 entries, 0 to 9913\n",
      "Data columns (total 13 columns):\n",
      "Unnamed: 0           99990 non-null float64\n",
      "key                  109904 non-null object\n",
      "pickup_datetime      109904 non-null object\n",
      "pickup_longitude     109904 non-null float64\n",
      "pickup_latitude      109904 non-null float64\n",
      "dropoff_longitude    109904 non-null float64\n",
      "dropoff_latitude     109904 non-null float64\n",
      "passenger_count      109904 non-null int64\n",
      "dist_km              109904 non-null float64\n",
      "EDTdate              109904 non-null datetime64[ns]\n",
      "Hour                 109904 non-null category\n",
      "AMorPM               109904 non-null category\n",
      "Weekday              109904 non-null category\n",
      "dtypes: category(3), datetime64[ns](1), float64(6), int64(1), object(2)\n",
      "memory usage: 9.5+ MB\n"
     ]
    }
   ],
   "source": [
    "df.info()"
   ]
  },
  {
   "cell_type": "markdown",
   "metadata": {
    "colab_type": "text",
    "id": "QsebxQMFrLkr"
   },
   "source": [
    "##Take the relevent columns for the Model and Split back to train and test"
   ]
  },
  {
   "cell_type": "code",
   "execution_count": null,
   "metadata": {
    "colab": {
     "base_uri": "https://localhost:8080/",
     "height": 85
    },
    "colab_type": "code",
    "id": "DMk-Q1RC0-aL",
    "outputId": "7ace62aa-8350-4043-85af-53fde61ec350"
   },
   "outputs": [
    {
     "data": {
      "text/plain": [
       "Index(['Unnamed: 0', 'key', 'pickup_datetime', 'pickup_longitude',\n",
       "       'pickup_latitude', 'dropoff_longitude', 'dropoff_latitude',\n",
       "       'passenger_count', 'dist_km', 'EDTdate', 'Hour', 'AMorPM', 'Weekday'],\n",
       "      dtype='object')"
      ]
     },
     "execution_count": 22,
     "metadata": {
      "tags": []
     },
     "output_type": "execute_result"
    }
   ],
   "source": [
    "df.columns"
   ]
  },
  {
   "cell_type": "code",
   "execution_count": null,
   "metadata": {
    "colab": {},
    "colab_type": "code",
    "id": "AoSYRIUD1Dbc"
   },
   "outputs": [],
   "source": [
    "# keep only the cols for the model\n",
    "df = df[['Hour', 'AMorPM', 'Weekday','pickup_latitude', 'pickup_longitude', 'dropoff_latitude', 'dropoff_longitude', 'passenger_count', 'dist_km']]"
   ]
  },
  {
   "cell_type": "code",
   "execution_count": null,
   "metadata": {
    "colab": {},
    "colab_type": "code",
    "id": "6pyrDASAqcxM"
   },
   "outputs": [],
   "source": [
    "df_train = df[:99990]\n",
    "df_test = df[99990:]"
   ]
  },
  {
   "cell_type": "markdown",
   "metadata": {
    "colab_type": "text",
    "id": "2bxdhrdTrdOv"
   },
   "source": [
    "##Continuous values"
   ]
  },
  {
   "cell_type": "code",
   "execution_count": null,
   "metadata": {
    "colab": {
     "base_uri": "https://localhost:8080/",
     "height": 153
    },
    "colab_type": "code",
    "id": "vgjHk0wzrb_L",
    "outputId": "471e43a9-e63b-4f08-ca63-f36574560675"
   },
   "outputs": [
    {
     "name": "stderr",
     "output_type": "stream",
     "text": [
      "/usr/local/lib/python3.6/dist-packages/ipykernel_launcher.py:11: SettingWithCopyWarning:\n",
      "\n",
      "\n",
      "A value is trying to be set on a copy of a slice from a DataFrame.\n",
      "Try using .loc[row_indexer,col_indexer] = value instead\n",
      "\n",
      "See the caveats in the documentation: http://pandas.pydata.org/pandas-docs/stable/user_guide/indexing.html#returning-a-view-versus-a-copy\n",
      "\n"
     ]
    }
   ],
   "source": [
    "#Normalizing \n",
    "\n",
    "from pandas.api.types import is_numeric_dtype\n",
    "\n",
    "#\"Compute the means and stds of `self.cont_names` columns to normalize them.\"\n",
    "def Normalize(df):\n",
    "  means,stds = {},{}\n",
    "  cont_names = ['pickup_latitude', 'pickup_longitude', 'dropoff_latitude', 'dropoff_longitude', 'passenger_count', 'dist_km']\n",
    "  for n in cont_names:\n",
    "    assert is_numeric_dtype(df[n]), (f\"\"\"Cannot normalize '{n}' column as it isn't numerical. Are you sure it doesn't belong in the categorical set of columns?\"\"\")\n",
    "    means[n],stds[n] = df[n].mean(),df[n].std()\n",
    "    df[n] = (df[n]-means[n]) / (1e-7 + stds[n])\n",
    "\n",
    "\n",
    "Normalize(df_train)\n",
    "Normalize(df_test)\n",
    "X = df_train"
   ]
  },
  {
   "cell_type": "code",
   "execution_count": null,
   "metadata": {
    "colab": {
     "base_uri": "https://localhost:8080/",
     "height": 204
    },
    "colab_type": "code",
    "id": "5cmS2F6crnFq",
    "outputId": "be97cf52-3243-4423-833a-8be87232b3ad"
   },
   "outputs": [
    {
     "data": {
      "text/html": [
       "<div>\n",
       "<style scoped>\n",
       "    .dataframe tbody tr th:only-of-type {\n",
       "        vertical-align: middle;\n",
       "    }\n",
       "\n",
       "    .dataframe tbody tr th {\n",
       "        vertical-align: top;\n",
       "    }\n",
       "\n",
       "    .dataframe thead th {\n",
       "        text-align: right;\n",
       "    }\n",
       "</style>\n",
       "<table border=\"1\" class=\"dataframe\">\n",
       "  <thead>\n",
       "    <tr style=\"text-align: right;\">\n",
       "      <th></th>\n",
       "      <th>Hour</th>\n",
       "      <th>AMorPM</th>\n",
       "      <th>Weekday</th>\n",
       "      <th>pickup_latitude</th>\n",
       "      <th>pickup_longitude</th>\n",
       "      <th>dropoff_latitude</th>\n",
       "      <th>dropoff_longitude</th>\n",
       "      <th>passenger_count</th>\n",
       "      <th>dist_km</th>\n",
       "    </tr>\n",
       "  </thead>\n",
       "  <tbody>\n",
       "    <tr>\n",
       "      <th>0</th>\n",
       "      <td>17</td>\n",
       "      <td>1</td>\n",
       "      <td>6</td>\n",
       "      <td>0.063325</td>\n",
       "      <td>-0.105675</td>\n",
       "      <td>0.059963</td>\n",
       "      <td>-0.103717</td>\n",
       "      <td>-0.526090</td>\n",
       "      <td>-0.041797</td>\n",
       "    </tr>\n",
       "    <tr>\n",
       "      <th>1</th>\n",
       "      <td>5</td>\n",
       "      <td>0</td>\n",
       "      <td>1</td>\n",
       "      <td>0.059902</td>\n",
       "      <td>-0.108589</td>\n",
       "      <td>0.057104</td>\n",
       "      <td>-0.104555</td>\n",
       "      <td>-0.526090</td>\n",
       "      <td>-0.037805</td>\n",
       "    </tr>\n",
       "    <tr>\n",
       "      <th>2</th>\n",
       "      <td>16</td>\n",
       "      <td>1</td>\n",
       "      <td>2</td>\n",
       "      <td>0.061022</td>\n",
       "      <td>-0.105923</td>\n",
       "      <td>0.057423</td>\n",
       "      <td>-0.105105</td>\n",
       "      <td>0.996626</td>\n",
       "      <td>-0.043653</td>\n",
       "    </tr>\n",
       "    <tr>\n",
       "      <th>3</th>\n",
       "      <td>15</td>\n",
       "      <td>1</td>\n",
       "      <td>3</td>\n",
       "      <td>0.063361</td>\n",
       "      <td>-0.106553</td>\n",
       "      <td>0.059414</td>\n",
       "      <td>-0.102698</td>\n",
       "      <td>-0.526090</td>\n",
       "      <td>-0.041082</td>\n",
       "    </tr>\n",
       "    <tr>\n",
       "      <th>4</th>\n",
       "      <td>3</td>\n",
       "      <td>0</td>\n",
       "      <td>4</td>\n",
       "      <td>0.064058</td>\n",
       "      <td>-0.106374</td>\n",
       "      <td>0.056556</td>\n",
       "      <td>-0.105021</td>\n",
       "      <td>-0.526090</td>\n",
       "      <td>-0.042072</td>\n",
       "    </tr>\n",
       "  </tbody>\n",
       "</table>\n",
       "</div>"
      ],
      "text/plain": [
       "  Hour AMorPM Weekday  ...  dropoff_longitude  passenger_count   dist_km\n",
       "0   17      1       6  ...          -0.103717        -0.526090 -0.041797\n",
       "1    5      0       1  ...          -0.104555        -0.526090 -0.037805\n",
       "2   16      1       2  ...          -0.105105         0.996626 -0.043653\n",
       "3   15      1       3  ...          -0.102698        -0.526090 -0.041082\n",
       "4    3      0       4  ...          -0.105021        -0.526090 -0.042072\n",
       "\n",
       "[5 rows x 9 columns]"
      ]
     },
     "execution_count": 26,
     "metadata": {
      "tags": []
     },
     "output_type": "execute_result"
    }
   ],
   "source": [
    "df_train.head()"
   ]
  },
  {
   "cell_type": "code",
   "execution_count": null,
   "metadata": {
    "colab": {
     "base_uri": "https://localhost:8080/",
     "height": 34
    },
    "colab_type": "code",
    "id": "4urVKk9NxDCx",
    "outputId": "8d522adf-a5d4-4567-c69c-4f2157116093"
   },
   "outputs": [
    {
     "data": {
      "text/plain": [
       "(99990, 9)"
      ]
     },
     "execution_count": 27,
     "metadata": {
      "tags": []
     },
     "output_type": "execute_result"
    }
   ],
   "source": [
    "X.shape"
   ]
  },
  {
   "cell_type": "code",
   "execution_count": null,
   "metadata": {
    "colab": {
     "base_uri": "https://localhost:8080/",
     "height": 255
    },
    "colab_type": "code",
    "id": "7vV8_9do4-Oo",
    "outputId": "9c7939f2-04aa-47fa-d407-0740f3c2b51a"
   },
   "outputs": [
    {
     "name": "stdout",
     "output_type": "stream",
     "text": [
      "<class 'pandas.core.frame.DataFrame'>\n",
      "Int64Index: 99990 entries, 0 to 99999\n",
      "Data columns (total 9 columns):\n",
      "Hour                 99990 non-null category\n",
      "AMorPM               99990 non-null category\n",
      "Weekday              99990 non-null category\n",
      "pickup_latitude      99990 non-null float64\n",
      "pickup_longitude     99990 non-null float64\n",
      "dropoff_latitude     99990 non-null float64\n",
      "dropoff_longitude    99990 non-null float64\n",
      "passenger_count      99990 non-null float64\n",
      "dist_km              99990 non-null float64\n",
      "dtypes: category(3), float64(6)\n",
      "memory usage: 5.6 MB\n"
     ]
    }
   ],
   "source": [
    "X.info()"
   ]
  },
  {
   "cell_type": "markdown",
   "metadata": {
    "colab_type": "text",
    "id": "fTHaK8PusKx9"
   },
   "source": [
    "## train-valid split"
   ]
  },
  {
   "cell_type": "code",
   "execution_count": null,
   "metadata": {
    "colab": {
     "base_uri": "https://localhost:8080/",
     "height": 204
    },
    "colab_type": "code",
    "id": "_RdHsihKtYLK",
    "outputId": "e22cd7c9-a2f2-4c13-e171-38f89e74ad6e"
   },
   "outputs": [
    {
     "data": {
      "text/html": [
       "<div>\n",
       "<style scoped>\n",
       "    .dataframe tbody tr th:only-of-type {\n",
       "        vertical-align: middle;\n",
       "    }\n",
       "\n",
       "    .dataframe tbody tr th {\n",
       "        vertical-align: top;\n",
       "    }\n",
       "\n",
       "    .dataframe thead th {\n",
       "        text-align: right;\n",
       "    }\n",
       "</style>\n",
       "<table border=\"1\" class=\"dataframe\">\n",
       "  <thead>\n",
       "    <tr style=\"text-align: right;\">\n",
       "      <th></th>\n",
       "      <th>Hour</th>\n",
       "      <th>AMorPM</th>\n",
       "      <th>Weekday</th>\n",
       "      <th>pickup_latitude</th>\n",
       "      <th>pickup_longitude</th>\n",
       "      <th>dropoff_latitude</th>\n",
       "      <th>dropoff_longitude</th>\n",
       "      <th>passenger_count</th>\n",
       "      <th>dist_km</th>\n",
       "    </tr>\n",
       "  </thead>\n",
       "  <tbody>\n",
       "    <tr>\n",
       "      <th>58528</th>\n",
       "      <td>3</td>\n",
       "      <td>0</td>\n",
       "      <td>5</td>\n",
       "      <td>0.054532</td>\n",
       "      <td>-0.092567</td>\n",
       "      <td>0.053360</td>\n",
       "      <td>-0.105123</td>\n",
       "      <td>-0.526090</td>\n",
       "      <td>0.000312</td>\n",
       "    </tr>\n",
       "    <tr>\n",
       "      <th>38244</th>\n",
       "      <td>15</td>\n",
       "      <td>1</td>\n",
       "      <td>6</td>\n",
       "      <td>0.063374</td>\n",
       "      <td>-0.104986</td>\n",
       "      <td>0.058639</td>\n",
       "      <td>-0.104457</td>\n",
       "      <td>-0.526090</td>\n",
       "      <td>-0.046671</td>\n",
       "    </tr>\n",
       "    <tr>\n",
       "      <th>3806</th>\n",
       "      <td>11</td>\n",
       "      <td>0</td>\n",
       "      <td>2</td>\n",
       "      <td>0.062391</td>\n",
       "      <td>-0.107446</td>\n",
       "      <td>0.055513</td>\n",
       "      <td>-0.106662</td>\n",
       "      <td>-0.526090</td>\n",
       "      <td>-0.043807</td>\n",
       "    </tr>\n",
       "    <tr>\n",
       "      <th>27927</th>\n",
       "      <td>15</td>\n",
       "      <td>1</td>\n",
       "      <td>4</td>\n",
       "      <td>0.064137</td>\n",
       "      <td>-0.105959</td>\n",
       "      <td>0.059360</td>\n",
       "      <td>-0.105151</td>\n",
       "      <td>2.519342</td>\n",
       "      <td>-0.047260</td>\n",
       "    </tr>\n",
       "    <tr>\n",
       "      <th>6006</th>\n",
       "      <td>9</td>\n",
       "      <td>0</td>\n",
       "      <td>0</td>\n",
       "      <td>0.063754</td>\n",
       "      <td>-0.107077</td>\n",
       "      <td>0.058307</td>\n",
       "      <td>-0.105548</td>\n",
       "      <td>-0.526090</td>\n",
       "      <td>-0.051457</td>\n",
       "    </tr>\n",
       "  </tbody>\n",
       "</table>\n",
       "</div>"
      ],
      "text/plain": [
       "      Hour AMorPM Weekday  ...  dropoff_longitude  passenger_count   dist_km\n",
       "58528    3      0       5  ...          -0.105123        -0.526090  0.000312\n",
       "38244   15      1       6  ...          -0.104457        -0.526090 -0.046671\n",
       "3806    11      0       2  ...          -0.106662        -0.526090 -0.043807\n",
       "27927   15      1       4  ...          -0.105151         2.519342 -0.047260\n",
       "6006     9      0       0  ...          -0.105548        -0.526090 -0.051457\n",
       "\n",
       "[5 rows x 9 columns]"
      ]
     },
     "execution_count": 29,
     "metadata": {
      "tags": []
     },
     "output_type": "execute_result"
    }
   ],
   "source": [
    "X_train, X_val, y_train, y_val = train_test_split(X, Y, test_size=0.20, random_state=42,shuffle=True ) \n",
    "X_train.head()"
   ]
  },
  {
   "cell_type": "markdown",
   "metadata": {
    "colab_type": "text",
    "id": "_oCxNy_X3Mp9"
   },
   "source": [
    "## Embeddings"
   ]
  },
  {
   "cell_type": "code",
   "execution_count": null,
   "metadata": {
    "colab": {
     "base_uri": "https://localhost:8080/",
     "height": 34
    },
    "colab_type": "code",
    "id": "vCvmV8v1wMPs",
    "outputId": "6ecf9255-1a1d-4bea-f2eb-5cea72194fc6"
   },
   "outputs": [
    {
     "data": {
      "text/plain": [
       "[(24, 12), (2, 1), (7, 4)]"
      ]
     },
     "execution_count": 30,
     "metadata": {
      "tags": []
     },
     "output_type": "execute_result"
    }
   ],
   "source": [
    "#df.info()\n",
    "cat_szs = [len(df[col].cat.categories) for col in cat_cols]\n",
    "emb_szs = [(size, min(50, (size+1)//2)) for size in cat_szs]\n",
    "emb_szs"
   ]
  },
  {
   "cell_type": "code",
   "execution_count": null,
   "metadata": {
    "colab": {
     "base_uri": "https://localhost:8080/",
     "height": 34
    },
    "colab_type": "code",
    "id": "i_4YuUvx46la",
    "outputId": "35b488f7-c2c0-45a5-91fb-6e76a54cf6ca"
   },
   "outputs": [
    {
     "data": {
      "text/plain": [
       "list"
      ]
     },
     "execution_count": 31,
     "metadata": {
      "tags": []
     },
     "output_type": "execute_result"
    }
   ],
   "source": [
    "type(emb_szs)"
   ]
  },
  {
   "cell_type": "code",
   "execution_count": null,
   "metadata": {
    "colab": {
     "base_uri": "https://localhost:8080/",
     "height": 34
    },
    "colab_type": "code",
    "id": "xB0WRovpW2Ui",
    "outputId": "47b2dd98-6354-487a-9270-0004406c7a66"
   },
   "outputs": [
    {
     "data": {
      "text/plain": [
       "(79992, 9)"
      ]
     },
     "execution_count": 32,
     "metadata": {
      "tags": []
     },
     "output_type": "execute_result"
    }
   ],
   "source": [
    "X_train.shape\n"
   ]
  },
  {
   "cell_type": "code",
   "execution_count": null,
   "metadata": {
    "colab": {
     "base_uri": "https://localhost:8080/",
     "height": 34
    },
    "colab_type": "code",
    "id": "AL4mUwLxW5Xa",
    "outputId": "edda55a6-1e7e-4f9e-960b-fe5b22edf33f"
   },
   "outputs": [
    {
     "data": {
      "text/plain": [
       "(19998, 9)"
      ]
     },
     "execution_count": 33,
     "metadata": {
      "tags": []
     },
     "output_type": "execute_result"
    }
   ],
   "source": [
    "X_val.shape"
   ]
  },
  {
   "cell_type": "code",
   "execution_count": null,
   "metadata": {
    "colab": {
     "base_uri": "https://localhost:8080/",
     "height": 34
    },
    "colab_type": "code",
    "id": "I-N__07EXSo2",
    "outputId": "ffe87e3f-8aec-4cdd-a178-65371ff9210d"
   },
   "outputs": [
    {
     "data": {
      "text/plain": [
       "(79992,)"
      ]
     },
     "execution_count": 34,
     "metadata": {
      "tags": []
     },
     "output_type": "execute_result"
    }
   ],
   "source": [
    "y_train.shape"
   ]
  },
  {
   "cell_type": "code",
   "execution_count": null,
   "metadata": {
    "colab": {
     "base_uri": "https://localhost:8080/",
     "height": 34
    },
    "colab_type": "code",
    "id": "7Hvf57M-XVw4",
    "outputId": "22792873-e02f-4755-e766-6019661b3559"
   },
   "outputs": [
    {
     "data": {
      "text/plain": [
       "(19998,)"
      ]
     },
     "execution_count": 35,
     "metadata": {
      "tags": []
     },
     "output_type": "execute_result"
    }
   ],
   "source": [
    "y_val.shape"
   ]
  },
  {
   "cell_type": "markdown",
   "metadata": {
    "colab_type": "text",
    "id": "DPSMOoA_5cRV"
   },
   "source": [
    "#Model"
   ]
  },
  {
   "cell_type": "markdown",
   "metadata": {
    "colab_type": "text",
    "id": "PUt8V_eR56DU"
   },
   "source": [
    "##Pytorch data set datasets and dataloaders"
   ]
  },
  {
   "cell_type": "code",
   "execution_count": null,
   "metadata": {
    "colab": {},
    "colab_type": "code",
    "id": "q2uUbOcllJdF"
   },
   "outputs": [],
   "source": [
    "class RegressionColumnarDataset(data.Dataset):\n",
    "    def __init__(self, df, cats, y):\n",
    "        \n",
    "        \n",
    "        self.dfcats = df[cats] #type: pandas.core.frame.DataFrame\n",
    "        self.dfconts = df.drop(cats, axis=1) #type: pandas.core.frame.DataFrame\n",
    "        \n",
    "        \n",
    "        self.cats = np.stack([c.values for n, c in self.dfcats.items()], axis=1).astype(np.int64) #tpye: numpy.ndarray\n",
    "        self.conts = np.stack([c.values for n, c in self.dfconts.items()], axis=1).astype(np.float32) #tpye: numpy.ndarray\n",
    "        self.y = y.values.astype(np.float32)\n",
    "        \n",
    "        \n",
    "    def __len__(self): return len(self.y)\n",
    "\n",
    "    def __getitem__(self, idx):\n",
    "        \n",
    "        return [self.cats[idx], self.conts[idx], self.y[idx]]\n",
    "        \n",
    "        "
   ]
  },
  {
   "cell_type": "code",
   "execution_count": null,
   "metadata": {
    "colab": {},
    "colab_type": "code",
    "id": "kJ2KTRgolJA7"
   },
   "outputs": [],
   "source": [
    "trainds = RegressionColumnarDataset(X_train, cat_cols, y_train) #type: __main__.RegressionColumnarDataset\n",
    "valds = RegressionColumnarDataset(X_val, cat_cols, y_val) #type: __main__.RegressionColumnarDataset"
   ]
  },
  {
   "cell_type": "code",
   "execution_count": null,
   "metadata": {
    "colab": {},
    "colab_type": "code",
    "id": "4iJaFR-24gFf"
   },
   "outputs": [],
   "source": [
    "params = {'batch_size': 128,\n",
    "          'shuffle': True}\n",
    "\n",
    "\n",
    "traindl = DataLoader(trainds, **params) #type: torch.utils.data.dataloader.DataLoader\n",
    "valdl = DataLoader(valds, **params) #type: torch.utils.data.dataloader.DataLoader"
   ]
  },
  {
   "cell_type": "markdown",
   "metadata": {
    "colab_type": "text",
    "id": "HXMjyAMC-hNo"
   },
   "source": [
    "##Tabular Model"
   ]
  },
  {
   "cell_type": "code",
   "execution_count": null,
   "metadata": {
    "colab": {},
    "colab_type": "code",
    "id": "dynnFczJ8UhL"
   },
   "outputs": [],
   "source": [
    "# help functions\n",
    "\n",
    "from collections.abc import Iterable\n",
    "\n",
    "\n",
    "def bn_drop_lin(n_in:int, n_out:int, bn:bool=True, p:float=0., actn=None):\n",
    "    \"Sequence of batchnorm (if `bn`), dropout (with `p`) and linear (`n_in`,`n_out`) layers followed by `actn`.\"\n",
    "    layers = [nn.BatchNorm1d(n_in)] if bn else []\n",
    "    if p != 0: layers.append(nn.Dropout(p))\n",
    "    layers.append(nn.Linear(n_in, n_out))\n",
    "    if actn is not None: layers.append(actn)\n",
    "    return layers\n",
    "\n",
    "def ifnone(a,b):\n",
    "    \"`a` if `a` is not None, otherwise `b`.\"\n",
    "    return b if a is None else a\n",
    "\n",
    "def listify(p, q):\n",
    "    \"Make `p` listy and the same length as `q`.\"\n",
    "    if p is None: p=[]\n",
    "    elif isinstance(p, str):          p = [p]\n",
    "    elif not isinstance(p, Iterable): p = [p]\n",
    "    #Rank 0 tensors in PyTorch are Iterable but don't have a length.\n",
    "    else:\n",
    "        try: a = len(p)\n",
    "        except: p = [p]\n",
    "    n = q if type(q)==int else len(p) if q is None else len(q)\n",
    "    if len(p)==1: p = p * n\n",
    "    assert len(p)==n, f'List len mismatch ({len(p)} vs {n})'\n",
    "    return list(p)\n",
    "\n",
    "              \n",
    "\n",
    "class TabularModel(nn.Module):\n",
    "    \"Basic model for tabular data.\"\n",
    "    def __init__(self, emb_szs, n_cont:int, out_sz:int, layers, ps=None,\n",
    "                 emb_drop:float=0., y_range=None, use_bn:bool=True, bn_final:bool=False):\n",
    "        super().__init__()\n",
    "        ps = ifnone(ps, [0]*len(layers))\n",
    "        ps = listify(ps, layers)\n",
    "        self.embeds = nn.ModuleList([nn.Embedding(ni, nf) for ni,nf in emb_szs]) #type: torch.nn.modules.container.ModuleList\n",
    "        self.emb_drop = nn.Dropout(emb_drop) #type: torch.nn.modules.dropout.Dropout\n",
    "        self.bn_cont = nn.BatchNorm1d(n_cont) #type torch.nn.modules.batchnorm.BatchNorm1d\n",
    "        n_emb = sum(e.embedding_dim for e in self.embeds) # n_emb = 17 , type: int\n",
    "        self.n_emb,self.n_cont,self.y_range = n_emb,n_cont,y_range\n",
    "        sizes = [n_emb + n_cont] + layers + [out_sz] #typeL list, len: 4\n",
    "        actns = [nn.ReLU(inplace=True) for _ in range(len(sizes)-2)] + [None] #type: list, len: 3.  the last in None because we finish with linear\n",
    "        layers = []\n",
    "        for i,(n_in,n_out,dp,act) in enumerate(zip(sizes[:-1],sizes[1:],[0.]+ps,actns)):\n",
    "            layers += bn_drop_lin(n_in, n_out, bn=use_bn and i!=0, p=dp, actn=act)\n",
    "        if bn_final: layers.append(nn.BatchNorm1d(sizes[-1]))\n",
    "        self.layers = nn.Sequential(*layers) #type: torch.nn.modules.container.Sequential\n",
    "        \n",
    "\n",
    "\n",
    "\n",
    "    def forward(self, x_cat, x_cont):\n",
    "        if self.n_emb != 0:\n",
    "            x = [e(x_cat[:,i]) for i,e in enumerate(self.embeds)] #take the embedding list and grab an embedding and pass in our single row of data.        \n",
    "            x = torch.cat(x, 1) # concatenate it on dim 1 ## remeber that the len is the batch size\n",
    "            x = self.emb_drop(x) # pass it through a dropout layer\n",
    "        if self.n_cont != 0:\n",
    "            x_cont = self.bn_cont(x_cont) # batchnorm1d\n",
    "            x = torch.cat([x, x_cont], 1) if self.n_emb != 0 else x_cont # combine the categircal and continous variables on dim 1\n",
    "        x = self.layers(x)\n",
    "        if self.y_range is not None:\n",
    "            x = (self.y_range[1]-self.y_range[0]) * torch.sigmoid(x) + self.y_range[0] # deal with y_range\n",
    "        return x.squeeze()\n",
    "    "
   ]
  },
  {
   "cell_type": "code",
   "execution_count": null,
   "metadata": {
    "colab": {
     "base_uri": "https://localhost:8080/",
     "height": 34
    },
    "colab_type": "code",
    "id": "voS5fTPF-mFb",
    "outputId": "196cb136-05e3-4569-99bf-f1d57184d204"
   },
   "outputs": [
    {
     "data": {
      "text/plain": [
       "<torch._C.Generator at 0x7f44ca32b450>"
      ]
     },
     "execution_count": 40,
     "metadata": {
      "tags": []
     },
     "output_type": "execute_result"
    }
   ],
   "source": [
    "torch.manual_seed(33)"
   ]
  },
  {
   "cell_type": "code",
   "execution_count": null,
   "metadata": {
    "colab": {
     "base_uri": "https://localhost:8080/",
     "height": 34
    },
    "colab_type": "code",
    "id": "Qdy8Vq-eRPvh",
    "outputId": "d9a0ec1f-12fa-4517-9b39-e311f20c94cc"
   },
   "outputs": [
    {
     "data": {
      "text/plain": [
       "(0, 6.411030745454829)"
      ]
     },
     "execution_count": 41,
     "metadata": {
      "tags": []
     },
     "output_type": "execute_result"
    }
   ],
   "source": [
    "y_range = (0, y_train.max()*1.2)\n",
    "y_range"
   ]
  },
  {
   "cell_type": "code",
   "execution_count": null,
   "metadata": {
    "colab": {
     "base_uri": "https://localhost:8080/",
     "height": 425
    },
    "colab_type": "code",
    "id": "UxDTmxl6_N_8",
    "outputId": "41537c94-fa4f-415b-a635-4cc75cd9ac20"
   },
   "outputs": [
    {
     "data": {
      "text/plain": [
       "TabularModel(\n",
       "  (embeds): ModuleList(\n",
       "    (0): Embedding(24, 12)\n",
       "    (1): Embedding(2, 1)\n",
       "    (2): Embedding(7, 4)\n",
       "  )\n",
       "  (emb_drop): Dropout(p=0.04, inplace=False)\n",
       "  (bn_cont): BatchNorm1d(6, eps=1e-05, momentum=0.1, affine=True, track_running_stats=True)\n",
       "  (layers): Sequential(\n",
       "    (0): Linear(in_features=23, out_features=1000, bias=True)\n",
       "    (1): ReLU(inplace=True)\n",
       "    (2): BatchNorm1d(1000, eps=1e-05, momentum=0.1, affine=True, track_running_stats=True)\n",
       "    (3): Dropout(p=0.001, inplace=False)\n",
       "    (4): Linear(in_features=1000, out_features=500, bias=True)\n",
       "    (5): ReLU(inplace=True)\n",
       "    (6): BatchNorm1d(500, eps=1e-05, momentum=0.1, affine=True, track_running_stats=True)\n",
       "    (7): Dropout(p=0.01, inplace=False)\n",
       "    (8): Linear(in_features=500, out_features=250, bias=True)\n",
       "    (9): ReLU(inplace=True)\n",
       "    (10): BatchNorm1d(250, eps=1e-05, momentum=0.1, affine=True, track_running_stats=True)\n",
       "    (11): Dropout(p=0.01, inplace=False)\n",
       "    (12): Linear(in_features=250, out_features=1, bias=True)\n",
       "  )\n",
       ")"
      ]
     },
     "execution_count": 42,
     "metadata": {
      "tags": []
     },
     "output_type": "execute_result"
    }
   ],
   "source": [
    "model = TabularModel(emb_szs = emb_szs,n_cont = len(cont_cols),out_sz = 1,layers = [1000,500,250],ps= [0.001,0.01,0.01],emb_drop=0.04, y_range=y_range).to(device)\n",
    "model"
   ]
  },
  {
   "cell_type": "markdown",
   "metadata": {
    "colab_type": "text",
    "id": "mCqq3sfY_mku"
   },
   "source": [
    "## optimizer"
   ]
  },
  {
   "cell_type": "code",
   "execution_count": null,
   "metadata": {
    "colab": {},
    "colab_type": "code",
    "id": "sOkFdhVN4Z6_"
   },
   "outputs": [],
   "source": [
    "from collections import defaultdict\n",
    "opt = torch.optim.Adam(model.parameters(), lr=1e-2) # can add: weight_decay=\n",
    "#lr_cosine = lr_scheduler.CosineAnnealingLR(opt,T_max = 350) #1000 ## if you want to add lr_cosine\n",
    "\n",
    "\n",
    "\n",
    "lr = defaultdict(list)\n",
    "tloss = defaultdict(list)\n",
    "vloss = defaultdict(list)"
   ]
  },
  {
   "cell_type": "markdown",
   "metadata": {
    "colab_type": "text",
    "id": "dgSawsRpCd40"
   },
   "source": [
    "##Train and Fit"
   ]
  },
  {
   "cell_type": "code",
   "execution_count": null,
   "metadata": {
    "colab": {},
    "colab_type": "code",
    "id": "IQ4sEx4NsAjO"
   },
   "outputs": [],
   "source": [
    "def inv_y(y): return np.exp(y)\n",
    "\n",
    "def rmse(targ, y_pred):\n",
    "    return np.sqrt(mean_squared_error(inv_y(y_pred), inv_y(targ))) #.detach().numpy()\n",
    "    \n",
    "\n",
    "def rmse(targ, y_pred):\n",
    "   return np.sqrt(mean_squared_error(y_pred, targ)) #.detach().numpy()\n",
    "\n",
    "\n",
    "#def fit(model, train_dl, val_dl, loss_fn, opt, scheduler, epochs=3): ## if you want to add schedular\n",
    "def fit(model, train_dl, val_dl, loss_fn, opt, epochs=3):\n",
    "    num_batch = len(train_dl)\n",
    "    for epoch in tnrange(epochs):      \n",
    "        y_true_train = list()\n",
    "        y_pred_train = list()\n",
    "        total_loss_train = 0          \n",
    "        \n",
    "        t = tqdm_notebook(iter(train_dl), leave=False, total=num_batch)\n",
    "        for cat, cont, y in t:\n",
    "            cat = cat.cuda()\n",
    "            cont = cont.cuda()\n",
    "            y = y.cuda()\n",
    "            \n",
    "            t.set_description(f'Epoch {epoch}')\n",
    "            \n",
    "            opt.zero_grad() #find where the grads are zero\n",
    "            pred = model(cat, cont)\n",
    "            loss = loss_fn(pred, y)\n",
    "            \n",
    "            loss.backward() # do backprop\n",
    "            lr[epoch].append(opt.param_groups[0]['lr'])\n",
    "            tloss[epoch].append(loss.item())\n",
    "            opt.step()\n",
    "            #scheduler.step()\n",
    "            \n",
    "            \n",
    "            t.set_postfix(loss=loss.item())\n",
    "            \n",
    "            y_true_train += list(y.cpu().data.numpy())\n",
    "            y_pred_train += list(pred.cpu().data.numpy())\n",
    "            total_loss_train += loss.item()\n",
    "            \n",
    "        train_acc = rmse(y_true_train, y_pred_train)\n",
    "        train_loss = total_loss_train/len(train_dl) # len train_dl = 704. the calc is number of train examples (89991) / batch size (128)\n",
    "        \n",
    "        if val_dl:\n",
    "            y_true_val = list()\n",
    "            y_pred_val = list()\n",
    "            total_loss_val = 0\n",
    "            for cat, cont, y in tqdm_notebook(val_dl, leave=False):\n",
    "                cat = cat.cuda()\n",
    "                cont = cont.cuda()\n",
    "                y = y.cuda()\n",
    "                pred = model(cat, cont)\n",
    "                loss = loss_fn(pred, y)\n",
    "                \n",
    "                y_true_val += list(y.cpu().data.numpy())\n",
    "                y_pred_val += list(pred.cpu().data.numpy())\n",
    "                total_loss_val += loss.item()\n",
    "                vloss[epoch].append(loss.item())\n",
    "            valacc = rmse(y_true_val, y_pred_val)\n",
    "            valloss = total_loss_val/len(valdl)\n",
    "            print(f'Epoch {epoch}: train_loss: {train_loss:.4f} train_rmse: {train_acc:.4f} | val_loss: {valloss:.4f} val_rmse: {valacc:.4f}')\n",
    "        else:\n",
    "            print(f'Epoch {epoch}: train_loss: {train_loss:.4f} train_rmse: {train_acc:.4f}')\n",
    "    \n",
    "    return lr, tloss, vloss"
   ]
  },
  {
   "cell_type": "markdown",
   "metadata": {
    "colab_type": "text",
    "id": "CUORRsg-CWKp"
   },
   "source": [
    "## Train the model"
   ]
  },
  {
   "cell_type": "code",
   "execution_count": null,
   "metadata": {
    "colab": {
     "base_uri": "https://localhost:8080/",
     "height": 236,
     "referenced_widgets": [
      "66ed3496c2f3441f81785052b10b6804",
      "7e95f116a4714d288e0f8be2649ce540",
      "c68f424ce1714d7bbc6e473fec8bfba5",
      "e5b5cfeb14274f9383bac5e5379b866b",
      "259caff9355842c58b71d79230ee9410",
      "c3370baec798423aae0fee8cd2bb3639",
      "486c3c3438574bffb7e645eddf06232f",
      "95abc79f3e8548b29f862974d7b425d6",
      "cd00df4e52624fd0a44c62691bc522e2",
      "8e511a47fff34ccfad4ae3bbc5a43370",
      "e055d11880a64931a368053ce86de98e",
      "367742a3fd1e4f328d1c1ba71138757e",
      "87338d3fd6e34c729189c6c770abf012",
      "843d8d7154904e468259d950a5e80187",
      "599330002e4649b3a0d494d97c838b0f",
      "c69535aa7be140ff87a9bf1f90b35434",
      "10ae8a4cb49542f5bdbe18efd7289222",
      "1da521e78f064b678e78beeb06014229",
      "a0b10f2f17b7470f8bef69a4c342f54e",
      "768df21082174a398a90df5661f0b784",
      "a2a3c31b574b4a4d99333a6c70299446",
      "aefdaede27424f2fb61c961e9376e37c",
      "50b7b28a23b147589c89843f7eb1aeb9",
      "53a885ed927d4beea0b9c37c13984b1a",
      "a155d831bde8448e8b8bb278a00dd6c1",
      "c5afcb1bc83c4e96b3f1bd25d0d8f8ff",
      "505b0bdc1156424d93559774436a857a",
      "a62bf153de5d42a7815c9380387a6d63",
      "55c6201e2ae3499b919ac1b174829033",
      "0fa8c073e21240f2bed836042c65495f",
      "c14a5a8db7f8405eb87c5b5953c8acb6",
      "31b712bfb0b844b1b8454743df0e805b",
      "47a2b649721b46b1933959a62eb2208a",
      "3ce034b0bd734c1d895df6729cf86d6e",
      "3b333d4ed75b4162b398e58e160efa4e",
      "0f8deee44689495a9783f7314470e62e",
      "fdf3b83375124f02bd237e1b8fca65c7",
      "12713b66e05f4feab4996d2ce879a0e0",
      "cdee532fbe3d4b058f2e6661da3ba379",
      "7f75281fd761439b9263526e47eb5a59",
      "ce8823cb71c5424dbb6bb7a749bcca9e",
      "7a33165267414bc1aaf574ee6e7c3921",
      "5647ba43ca664eacb2383bb9a3d5c141",
      "642081a23d5b4e198f71fcec6474d5f7",
      "3f976cdce8db49308e30f04bdff17d2e",
      "7621795467b04fe8a3e501ac12fd0597",
      "ece51029905e4801a5873ffce8becf9c",
      "a73e2d5df87347b9b9168fdaca5daff0",
      "b9b541166cc74a398ad7ebfa7cd886f7",
      "7a206261c92a461788cbb4dcda420991",
      "93c01018f4bc4503ba1b1d3065c97100",
      "fba82571c2c44c7d84673b48bffbb974",
      "63d8b644d4f54d5e94cdf7234ffe916c",
      "b015c915bced4104af627154cf6e4663",
      "1e063c748c104c16b7f2c850dcb45012",
      "7ffa3e4885de477e8f9659eb9d60b84d",
      "9862af498a7744879966a7769149e669",
      "69406851f61740b38c4b60101aa738f6",
      "61af928b3e024209b147f589b4ac3786",
      "7dd7bcddc2674d5599a0a6f598850b8f",
      "2e02956d567648ce80a06cd4f46d01fe",
      "0d71e442df584780a368f732658f0341",
      "9016428933ee4e5cb5f3b0c2862dc729",
      "95e294647bd64668942c4e0b10105c7e",
      "5fd0d9a2aa0c4ae48111ffc5b43f42d1",
      "6a5349307f5446b6b4db92e82b391333",
      "23c157257dd64b9dade29042a73727ec",
      "a1795ea72f1a4fd88b3b1f475a83f03d",
      "ccc6268ab855484eafb2b8121f13fbfe",
      "68356553ad534793867e1335802f6c94",
      "f4d52b09951a4e2f9760e6112c8b57fd",
      "6497a11205324290bf35e02afd512a25",
      "9a9ff611f8204b69935e86c0bb48261e",
      "62f1ca93721b4e70b390edbb9616bff3",
      "674d28aa120d4f4bbdfebe239f40fd51",
      "ee15a9c09fd44b25b06120df30272035",
      "2ce2409494aa4a92a4745b71a67d75b9",
      "42919307923849b9bfa495e3e3f08d1a",
      "fd95680eb12b44479a5133d85c53daac",
      "3240e2dad4454677a385ab038c464107",
      "e59d652aaa794d9da0e7ca38ab8af837",
      "9ec7e2df4c53447caeef9078eac48e16",
      "5951ccd5305a43bcbaed8ffaa27e7b04",
      "b6d64a3add0b4bcbbdd613561b755446",
      "80c3b7c22e9741c4b95c08469dab74a7",
      "7d760dd5378443a5a042df6428280197",
      "a90983892778412789e4855f384ce9d5",
      "8b1056e953d8401e91b46a643cf44ac4",
      "6391881b571b4038bcb03d416f9b570a",
      "975ece13f561432fbd17a5b8dd0468d9",
      "d84ab2675e5840e4b885a0e6209865e4",
      "017cf135cdde41efae1e609a8920eed3",
      "f6b3ba9a33b04b53ab9b75e3a3c15e12",
      "abd9d9b686b64fd8be2c009f99f461c9",
      "b323593bcc05479184bfc5cca3296905",
      "84adebf7c23245f289d8286c3097b214",
      "b22315f7300d4e7d8946af4906a33516",
      "f37239ab4dea498fa1484d70c7fb7aaa",
      "1a5f94b40f4546f48fa195841f0ed3fc",
      "19a77be4b67c44b2a711ab54eae9426e",
      "c1a2b49906fd4d8f981f82cf38461c3d",
      "33aca26dcc90437785c742bbe70eae16",
      "b2572c5bccb74b068549cf63948c950f",
      "e5011d1d3a8e47a19f7b121bc6ce6be6",
      "964cd61b1a994956ae800f315245d2f0",
      "cdc77c2d7b724f27b883e95e90c18638",
      "10d52390f9634657b0e7f21198ac3f71",
      "df7e6b77f602452b9b8787ce79303ca9",
      "e1a9c3515efd4cf0867c0cbe5639f591",
      "214969e009554a368c01545987240022",
      "2d9e8a1e4f144fe0a57ae274b62482ed",
      "8a9b99193e3642de93ceb5a9630a6c63",
      "a43696ae6adb49d6892b63a1b8a0b6be",
      "2a4b1a8c57cb4eaf89050126d4e0145e",
      "51c8008838b946e7b458c297094d55c7",
      "6f9350ffd68d4656bfc6b03f3bf5f15c",
      "67a6c81434d94b4fbbb9d92248747d14",
      "12d68a952e014224948397004b1512e8",
      "706c167648264fb88836f343cbad79a2",
      "0b540dc6912b430ebac688c6c721bb33",
      "ebfb7274c1854a63aa2d49dcff236907",
      "69292f97735b459ab4ed5a7edc297034",
      "ae85e703fcec4a16b7f50373428048e2",
      "e159e1c4b6734b7cbb84325195b33b6c",
      "7b40e426a9a341efb99088b64c600f4f",
      "56f2a6b4f6eb4c26a2e37efe566c5dbb",
      "734ed14957944459bbe5522fac6c2b9d",
      "4d1544cdc04b4f288282ab70356290e0",
      "6df18a7271734224b52c77bcb22c372e",
      "e980266ef9864f16a70d95c4a2c07a48",
      "0a52ffeb7e0248949f07ba0456153c44",
      "47ec84fd7e7f49efb7cf0cf352298a78",
      "e3f4c13d2c994fb0813ddf53cdb4199c",
      "44f0d58720e341ae915bea6bbfce89f3",
      "5c657e8e076c4725902f042152c5c0c1",
      "5b048defb8804314beeb66292732831c",
      "9c58229892fd49c78bb0d9ef0decf434",
      "fc2ed7aca7744f4fab0515782f835c17",
      "3ddfb0cb31c645ca85de272835124b46",
      "4760d731a3cb4bc5a84a620a431fd0b5",
      "5bd188a5a4734871a959de0bceafa7d2",
      "db75b8d3ae324198b199d5ef3a59ecc4",
      "a282e0342a0f4690b2e92ff43e6d71a8",
      "b3b49990c489447fb05fdcf0a5d413ed",
      "02d56a62ff6c496ead788d703a71a293",
      "21b3d0d4358849dbbd5767c9057b0d94",
      "9c49842a671945edbb87e146965becaf",
      "3f2cbadfeb4b4230881601df9fcb1513",
      "1dbdcba0214146aeb316bed8fdf5e082",
      "6f01964274f7414e819b3cc48835975d",
      "1fbbab5dcbe1473a8910efaa0a753cb8",
      "655357e7ab5143fd8a3bf04c1b0d205d",
      "18e7bb3ce7f4414ba14735c1614becd4",
      "dea6e24932a44672b660c1dffce85673",
      "7e52f67b56834d0c83ec48c359ba378a",
      "dd39e59819c544dd8668c91c3132be9d",
      "91c7cbd574db4f0ba547ed7b6112d774",
      "75bd7410ea214d96b30d098259cfb64a",
      "2cc6fcfed49943f69b4bf14ac3ca02de",
      "0a24117c0a934333ab550002e4d08890",
      "dc506befac824422a81735ea5a02084c",
      "9ee703ae01f040818f15e60e969d1d0d",
      "af5e0d81c00c4213ab00cbc2f0dd947d",
      "8059df93e65e4c5a844f78e5dce24a11",
      "a433fac65ad84cccb7509fda3c58368c",
      "603eebad090b46b99cef2107b447bf92",
      "38d6bf33433c4a22842b3dca0875d74f",
      "dcffb6a41c934d70b381632228befafc"
     ]
    },
    "colab_type": "code",
    "id": "wAD4aful_uFX",
    "outputId": "0a23beac-0ffa-4e2b-9c74-376267e3f479"
   },
   "outputs": [
    {
     "data": {
      "application/vnd.jupyter.widget-view+json": {
       "model_id": "66ed3496c2f3441f81785052b10b6804",
       "version_major": 2,
       "version_minor": 0
      },
      "text/plain": [
       "HBox(children=(IntProgress(value=0, max=10), HTML(value='')))"
      ]
     },
     "metadata": {
      "tags": []
     },
     "output_type": "display_data"
    },
    {
     "data": {
      "application/vnd.jupyter.widget-view+json": {
       "model_id": "cd00df4e52624fd0a44c62691bc522e2",
       "version_major": 2,
       "version_minor": 0
      },
      "text/plain": [
       "HBox(children=(IntProgress(value=0, max=625), HTML(value='')))"
      ]
     },
     "metadata": {
      "tags": []
     },
     "output_type": "display_data"
    },
    {
     "data": {
      "application/vnd.jupyter.widget-view+json": {
       "model_id": "10ae8a4cb49542f5bdbe18efd7289222",
       "version_major": 2,
       "version_minor": 0
      },
      "text/plain": [
       "HBox(children=(IntProgress(value=0, max=157), HTML(value='')))"
      ]
     },
     "metadata": {
      "tags": []
     },
     "output_type": "display_data"
    },
    {
     "name": "stdout",
     "output_type": "stream",
     "text": [
      "Epoch 0: train_loss: 0.2869 train_rmse: 25.8551 | val_loss: 0.2126 val_rmse: 8.1270\n"
     ]
    },
    {
     "data": {
      "application/vnd.jupyter.widget-view+json": {
       "model_id": "a155d831bde8448e8b8bb278a00dd6c1",
       "version_major": 2,
       "version_minor": 0
      },
      "text/plain": [
       "HBox(children=(IntProgress(value=0, max=625), HTML(value='')))"
      ]
     },
     "metadata": {
      "tags": []
     },
     "output_type": "display_data"
    },
    {
     "data": {
      "application/vnd.jupyter.widget-view+json": {
       "model_id": "47a2b649721b46b1933959a62eb2208a",
       "version_major": 2,
       "version_minor": 0
      },
      "text/plain": [
       "HBox(children=(IntProgress(value=0, max=157), HTML(value='')))"
      ]
     },
     "metadata": {
      "tags": []
     },
     "output_type": "display_data"
    },
    {
     "name": "stdout",
     "output_type": "stream",
     "text": [
      "Epoch 1: train_loss: 0.1698 train_rmse: 7.0632 | val_loss: 0.1738 val_rmse: 6.7945\n"
     ]
    },
    {
     "data": {
      "application/vnd.jupyter.widget-view+json": {
       "model_id": "ce8823cb71c5424dbb6bb7a749bcca9e",
       "version_major": 2,
       "version_minor": 0
      },
      "text/plain": [
       "HBox(children=(IntProgress(value=0, max=625), HTML(value='')))"
      ]
     },
     "metadata": {
      "tags": []
     },
     "output_type": "display_data"
    },
    {
     "data": {
      "application/vnd.jupyter.widget-view+json": {
       "model_id": "b9b541166cc74a398ad7ebfa7cd886f7",
       "version_major": 2,
       "version_minor": 0
      },
      "text/plain": [
       "HBox(children=(IntProgress(value=0, max=157), HTML(value='')))"
      ]
     },
     "metadata": {
      "tags": []
     },
     "output_type": "display_data"
    },
    {
     "name": "stdout",
     "output_type": "stream",
     "text": [
      "Epoch 2: train_loss: 0.1471 train_rmse: 6.5143 | val_loss: 0.1385 val_rmse: 6.2124\n"
     ]
    },
    {
     "data": {
      "application/vnd.jupyter.widget-view+json": {
       "model_id": "9862af498a7744879966a7769149e669",
       "version_major": 2,
       "version_minor": 0
      },
      "text/plain": [
       "HBox(children=(IntProgress(value=0, max=625), HTML(value='')))"
      ]
     },
     "metadata": {
      "tags": []
     },
     "output_type": "display_data"
    },
    {
     "data": {
      "application/vnd.jupyter.widget-view+json": {
       "model_id": "5fd0d9a2aa0c4ae48111ffc5b43f42d1",
       "version_major": 2,
       "version_minor": 0
      },
      "text/plain": [
       "HBox(children=(IntProgress(value=0, max=157), HTML(value='')))"
      ]
     },
     "metadata": {
      "tags": []
     },
     "output_type": "display_data"
    },
    {
     "name": "stdout",
     "output_type": "stream",
     "text": [
      "Epoch 3: train_loss: 0.1134 train_rmse: 5.9052 | val_loss: 0.1044 val_rmse: 5.4288\n"
     ]
    },
    {
     "data": {
      "application/vnd.jupyter.widget-view+json": {
       "model_id": "9a9ff611f8204b69935e86c0bb48261e",
       "version_major": 2,
       "version_minor": 0
      },
      "text/plain": [
       "HBox(children=(IntProgress(value=0, max=625), HTML(value='')))"
      ]
     },
     "metadata": {
      "tags": []
     },
     "output_type": "display_data"
    },
    {
     "data": {
      "application/vnd.jupyter.widget-view+json": {
       "model_id": "e59d652aaa794d9da0e7ca38ab8af837",
       "version_major": 2,
       "version_minor": 0
      },
      "text/plain": [
       "HBox(children=(IntProgress(value=0, max=157), HTML(value='')))"
      ]
     },
     "metadata": {
      "tags": []
     },
     "output_type": "display_data"
    },
    {
     "name": "stdout",
     "output_type": "stream",
     "text": [
      "Epoch 4: train_loss: 0.1035 train_rmse: 5.6922 | val_loss: 0.1035 val_rmse: 5.3923\n"
     ]
    },
    {
     "data": {
      "application/vnd.jupyter.widget-view+json": {
       "model_id": "6391881b571b4038bcb03d416f9b570a",
       "version_major": 2,
       "version_minor": 0
      },
      "text/plain": [
       "HBox(children=(IntProgress(value=0, max=625), HTML(value='')))"
      ]
     },
     "metadata": {
      "tags": []
     },
     "output_type": "display_data"
    },
    {
     "data": {
      "application/vnd.jupyter.widget-view+json": {
       "model_id": "b22315f7300d4e7d8946af4906a33516",
       "version_major": 2,
       "version_minor": 0
      },
      "text/plain": [
       "HBox(children=(IntProgress(value=0, max=157), HTML(value='')))"
      ]
     },
     "metadata": {
      "tags": []
     },
     "output_type": "display_data"
    },
    {
     "name": "stdout",
     "output_type": "stream",
     "text": [
      "Epoch 5: train_loss: 0.1027 train_rmse: 5.6388 | val_loss: 0.1110 val_rmse: 5.4810\n"
     ]
    },
    {
     "data": {
      "application/vnd.jupyter.widget-view+json": {
       "model_id": "964cd61b1a994956ae800f315245d2f0",
       "version_major": 2,
       "version_minor": 0
      },
      "text/plain": [
       "HBox(children=(IntProgress(value=0, max=625), HTML(value='')))"
      ]
     },
     "metadata": {
      "tags": []
     },
     "output_type": "display_data"
    },
    {
     "data": {
      "application/vnd.jupyter.widget-view+json": {
       "model_id": "a43696ae6adb49d6892b63a1b8a0b6be",
       "version_major": 2,
       "version_minor": 0
      },
      "text/plain": [
       "HBox(children=(IntProgress(value=0, max=157), HTML(value='')))"
      ]
     },
     "metadata": {
      "tags": []
     },
     "output_type": "display_data"
    },
    {
     "name": "stdout",
     "output_type": "stream",
     "text": [
      "Epoch 6: train_loss: 0.1014 train_rmse: 5.6022 | val_loss: 0.1067 val_rmse: 5.8756\n"
     ]
    },
    {
     "data": {
      "application/vnd.jupyter.widget-view+json": {
       "model_id": "ebfb7274c1854a63aa2d49dcff236907",
       "version_major": 2,
       "version_minor": 0
      },
      "text/plain": [
       "HBox(children=(IntProgress(value=0, max=625), HTML(value='')))"
      ]
     },
     "metadata": {
      "tags": []
     },
     "output_type": "display_data"
    },
    {
     "data": {
      "application/vnd.jupyter.widget-view+json": {
       "model_id": "6df18a7271734224b52c77bcb22c372e",
       "version_major": 2,
       "version_minor": 0
      },
      "text/plain": [
       "HBox(children=(IntProgress(value=0, max=157), HTML(value='')))"
      ]
     },
     "metadata": {
      "tags": []
     },
     "output_type": "display_data"
    },
    {
     "name": "stdout",
     "output_type": "stream",
     "text": [
      "Epoch 7: train_loss: 0.1018 train_rmse: 5.6900 | val_loss: 0.1019 val_rmse: 5.3782\n"
     ]
    },
    {
     "data": {
      "application/vnd.jupyter.widget-view+json": {
       "model_id": "9c58229892fd49c78bb0d9ef0decf434",
       "version_major": 2,
       "version_minor": 0
      },
      "text/plain": [
       "HBox(children=(IntProgress(value=0, max=625), HTML(value='')))"
      ]
     },
     "metadata": {
      "tags": []
     },
     "output_type": "display_data"
    },
    {
     "data": {
      "application/vnd.jupyter.widget-view+json": {
       "model_id": "02d56a62ff6c496ead788d703a71a293",
       "version_major": 2,
       "version_minor": 0
      },
      "text/plain": [
       "HBox(children=(IntProgress(value=0, max=157), HTML(value='')))"
      ]
     },
     "metadata": {
      "tags": []
     },
     "output_type": "display_data"
    },
    {
     "name": "stdout",
     "output_type": "stream",
     "text": [
      "Epoch 8: train_loss: 0.1022 train_rmse: 5.6712 | val_loss: 0.1028 val_rmse: 5.7051\n"
     ]
    },
    {
     "data": {
      "application/vnd.jupyter.widget-view+json": {
       "model_id": "18e7bb3ce7f4414ba14735c1614becd4",
       "version_major": 2,
       "version_minor": 0
      },
      "text/plain": [
       "HBox(children=(IntProgress(value=0, max=625), HTML(value='')))"
      ]
     },
     "metadata": {
      "tags": []
     },
     "output_type": "display_data"
    },
    {
     "data": {
      "application/vnd.jupyter.widget-view+json": {
       "model_id": "dc506befac824422a81735ea5a02084c",
       "version_major": 2,
       "version_minor": 0
      },
      "text/plain": [
       "HBox(children=(IntProgress(value=0, max=157), HTML(value='')))"
      ]
     },
     "metadata": {
      "tags": []
     },
     "output_type": "display_data"
    },
    {
     "name": "stdout",
     "output_type": "stream",
     "text": [
      "Epoch 9: train_loss: 0.1014 train_rmse: 5.6271 | val_loss: 0.1052 val_rmse: 5.6581\n",
      "\n"
     ]
    }
   ],
   "source": [
    "#if you want to add lr_cosine\n",
    "#lr, tloss, vloss = fit(model=model, train_dl=traindl, val_dl=valdl, loss_fn=nn.MSELoss(), opt=opt, scheduler=lr_cosine, epochs=10)\n",
    "\n",
    "\n",
    "lr, tloss, vloss = fit(model=model, train_dl=traindl, val_dl=valdl, loss_fn=nn.MSELoss(), opt=opt,  epochs=10)"
   ]
  },
  {
   "cell_type": "markdown",
   "metadata": {
    "colab_type": "text",
    "id": "dg-YyTMzChI7"
   },
   "source": [
    "## Plots"
   ]
  },
  {
   "cell_type": "code",
   "execution_count": null,
   "metadata": {
    "colab": {
     "base_uri": "https://localhost:8080/",
     "height": 281
    },
    "colab_type": "code",
    "id": "SyqjNOfiIFGB",
    "outputId": "aa31813b-2adf-4360-cc14-e4b48eee5824"
   },
   "outputs": [
    {
     "data": {
      "image/png": "[encoded data removed]",
      "text/plain": [
       "<Figure size 432x288 with 1 Axes>"
      ]
     },
     "metadata": {
      "tags": []
     },
     "output_type": "display_data"
    }
   ],
   "source": [
    "#Plot the Learning rate\n",
    "_ = plt.plot(lr[0])\n",
    "_ = plt.title('LR over Epoch (Epoch 0)')"
   ]
  },
  {
   "cell_type": "code",
   "execution_count": null,
   "metadata": {
    "colab": {},
    "colab_type": "code",
    "id": "Y35tlzFRrCPZ"
   },
   "outputs": [],
   "source": []
  },
  {
   "cell_type": "code",
   "execution_count": null,
   "metadata": {
    "colab": {
     "base_uri": "https://localhost:8080/",
     "height": 312
    },
    "colab_type": "code",
    "id": "4q-a7-Ylp6JN",
    "outputId": "67c453cf-5479-40ba-c3c4-71f2b42f024d"
   },
   "outputs": [
    {
     "data": {
      "text/plain": [
       "<matplotlib.legend.Legend at 0x7f449efd3e48>"
      ]
     },
     "execution_count": 47,
     "metadata": {
      "tags": []
     },
     "output_type": "execute_result"
    },
    {
     "data": {
      "image/png": "[encoded data removed]",
      "text/plain": [
       "<Figure size 432x288 with 1 Axes>"
      ]
     },
     "metadata": {
      "tags": []
     },
     "output_type": "display_data"
    }
   ],
   "source": [
    "#inspired from: https://nbviewer.jupyter.org/github/FraPochetti/KagglePlaygrounds/blob/master/NYC%20Taxi%20Fares%20Prediction.ipynb \n",
    "# Train VS Validaton Loss\n",
    "\n",
    "t = [np.mean(tloss[el]) for el in tloss]\n",
    "v = [np.mean(vloss[el]) for el in vloss]\n",
    "\n",
    "plt.plot(t, label='Training loss')\n",
    "plt.plot(v, label='Validation loss')\n",
    "plt.title(\"Train VS Validation Loss over Epochs\")\n",
    "plt.xlabel(\"Epochs\")\n",
    "plt.legend(frameon=False)"
   ]
  },
  {
   "cell_type": "markdown",
   "metadata": {
    "colab_type": "text",
    "id": "e0lSOupcxzIZ"
   },
   "source": [
    "# Test "
   ]
  },
  {
   "cell_type": "code",
   "execution_count": null,
   "metadata": {
    "colab": {
     "base_uri": "https://localhost:8080/",
     "height": 255
    },
    "colab_type": "code",
    "id": "_xsc3FhFbsGz",
    "outputId": "abc0d876-7a84-42f8-e9f0-3217d20a2460"
   },
   "outputs": [
    {
     "name": "stdout",
     "output_type": "stream",
     "text": [
      "<class 'pandas.core.frame.DataFrame'>\n",
      "Int64Index: 9914 entries, 0 to 9913\n",
      "Data columns (total 9 columns):\n",
      "Hour                 9914 non-null category\n",
      "AMorPM               9914 non-null category\n",
      "Weekday              9914 non-null category\n",
      "pickup_latitude      9914 non-null float64\n",
      "pickup_longitude     9914 non-null float64\n",
      "dropoff_latitude     9914 non-null float64\n",
      "dropoff_longitude    9914 non-null float64\n",
      "passenger_count      9914 non-null float64\n",
      "dist_km              9914 non-null float64\n",
      "dtypes: category(3), float64(6)\n",
      "memory usage: 572.5 KB\n"
     ]
    }
   ],
   "source": [
    "df_test.info()"
   ]
  },
  {
   "cell_type": "code",
   "execution_count": null,
   "metadata": {
    "colab": {},
    "colab_type": "code",
    "id": "3nrV9kSilNCS"
   },
   "outputs": [],
   "source": [
    "# divide to cats and conts columns + make them a tensor + to.cuda()\n",
    "\n",
    "df_test_cats = df_test[['Hour', 'AMorPM', 'Weekday']]\n",
    "test_cats = df_test_cats.astype(np.int64)\n",
    "test_cats = torch.tensor(test_cats.values).cuda()\n",
    "\n",
    "df_test_conts = df_test[['pickup_latitude', 'pickup_longitude', 'dropoff_latitude', 'dropoff_longitude', 'passenger_count', 'dist_km']]\n",
    "test_conts = df_test_conts.astype(np.float32)\n",
    "test_conts = torch.tensor(test_conts.values).cuda()"
   ]
  },
  {
   "cell_type": "code",
   "execution_count": null,
   "metadata": {
    "colab": {},
    "colab_type": "code",
    "id": "jgYTtfyVxUFJ"
   },
   "outputs": [],
   "source": [
    "# make prediction\n",
    "\n",
    "with torch.no_grad():\n",
    "    model.eval()\n",
    "    output = model.forward(test_cats,test_conts).cuda()"
   ]
  },
  {
   "cell_type": "code",
   "execution_count": null,
   "metadata": {
    "colab": {
     "base_uri": "https://localhost:8080/",
     "height": 34
    },
    "colab_type": "code",
    "id": "E8Rl4zVZ93ag",
    "outputId": "3237d4e8-7b78-49ef-8957-fabea4d05707"
   },
   "outputs": [
    {
     "data": {
      "text/plain": [
       "tensor([2.2710, 2.3483, 1.7619,  ..., 3.9787, 3.0327, 1.5780], device='cuda:0')"
      ]
     },
     "execution_count": 52,
     "metadata": {
      "tags": []
     },
     "output_type": "execute_result"
    }
   ],
   "source": [
    "output"
   ]
  },
  {
   "cell_type": "code",
   "execution_count": null,
   "metadata": {
    "colab": {
     "base_uri": "https://localhost:8080/",
     "height": 34
    },
    "colab_type": "code",
    "id": "nw6AZdZXAfv7",
    "outputId": "9c1cf20e-ec75-41eb-9baa-1e265d19d20b"
   },
   "outputs": [
    {
     "data": {
      "text/plain": [
       "9914"
      ]
     },
     "execution_count": 53,
     "metadata": {
      "tags": []
     },
     "output_type": "execute_result"
    }
   ],
   "source": [
    "len(output)"
   ]
  },
  {
   "cell_type": "code",
   "execution_count": null,
   "metadata": {
    "colab": {
     "base_uri": "https://localhost:8080/",
     "height": 34
    },
    "colab_type": "code",
    "id": "AFJ9Ny5nAjWA",
    "outputId": "f05d052b-c34e-4de1-b21e-bd71c9ecea1f"
   },
   "outputs": [
    {
     "data": {
      "text/plain": [
       "torch.Tensor"
      ]
     },
     "execution_count": 54,
     "metadata": {
      "tags": []
     },
     "output_type": "execute_result"
    }
   ],
   "source": [
    "type(output)"
   ]
  },
  {
   "cell_type": "code",
   "execution_count": null,
   "metadata": {
    "colab": {},
    "colab_type": "code",
    "id": "iLEtdrOoDIBA"
   },
   "outputs": [],
   "source": [
    "# convert to numpy array\n",
    "np_output = output.cpu().numpy()"
   ]
  },
  {
   "cell_type": "code",
   "execution_count": null,
   "metadata": {
    "colab": {
     "base_uri": "https://localhost:8080/",
     "height": 34
    },
    "colab_type": "code",
    "id": "s4HOvUYIE7jx",
    "outputId": "20507bab-22d8-49ab-f64e-eae5f55e7998"
   },
   "outputs": [
    {
     "data": {
      "text/plain": [
       "numpy.ndarray"
      ]
     },
     "execution_count": 56,
     "metadata": {
      "tags": []
     },
     "output_type": "execute_result"
    }
   ],
   "source": [
    "type(np_output)"
   ]
  },
  {
   "cell_type": "code",
   "execution_count": null,
   "metadata": {
    "colab": {
     "base_uri": "https://localhost:8080/",
     "height": 51
    },
    "colab_type": "code",
    "id": "CKp9G4XTDZNI",
    "outputId": "487b5fe7-9348-4e5c-8984-66e7c51b5117"
   },
   "outputs": [
    {
     "data": {
      "text/plain": [
       "array([2.2710056, 2.348294 , 1.7618616, ..., 3.9786932, 3.032723 ,\n",
       "       1.5780466], dtype=float32)"
      ]
     },
     "execution_count": 57,
     "metadata": {
      "tags": []
     },
     "output_type": "execute_result"
    }
   ],
   "source": [
    "np_output"
   ]
  },
  {
   "cell_type": "code",
   "execution_count": null,
   "metadata": {
    "colab": {},
    "colab_type": "code",
    "id": "EHo-Vq3AE5zE"
   },
   "outputs": [],
   "source": [
    "#  exp to the output data\n",
    "\n",
    "np_output_exp = np.exp(np_output)"
   ]
  },
  {
   "cell_type": "code",
   "execution_count": null,
   "metadata": {
    "colab": {
     "base_uri": "https://localhost:8080/",
     "height": 51
    },
    "colab_type": "code",
    "id": "hCeCxOKpFayL",
    "outputId": "e4ed1cf2-5975-41b6-dcf3-9ffbacac84e7"
   },
   "outputs": [
    {
     "data": {
      "text/plain": [
       "array([ 9.689139 , 10.467697 ,  5.8232675, ..., 53.447147 , 20.753668 ,\n",
       "        4.8454814], dtype=float32)"
      ]
     },
     "execution_count": 59,
     "metadata": {
      "tags": []
     },
     "output_type": "execute_result"
    }
   ],
   "source": [
    "np_output_exp"
   ]
  },
  {
   "cell_type": "code",
   "execution_count": null,
   "metadata": {
    "colab": {},
    "colab_type": "code",
    "id": "wC-v0WfmCwEw"
   },
   "outputs": [],
   "source": [
    "# CONVERT to pandas data frame \n",
    "\n",
    "df_output =  pd.DataFrame(np_output_exp)"
   ]
  },
  {
   "cell_type": "code",
   "execution_count": null,
   "metadata": {
    "colab": {
     "base_uri": "https://localhost:8080/",
     "height": 419
    },
    "colab_type": "code",
    "id": "EWeienWcC2t1",
    "outputId": "43d9ae75-59d4-4bfe-913c-adca0d9cf564"
   },
   "outputs": [
    {
     "data": {
      "text/html": [
       "<div>\n",
       "<style scoped>\n",
       "    .dataframe tbody tr th:only-of-type {\n",
       "        vertical-align: middle;\n",
       "    }\n",
       "\n",
       "    .dataframe tbody tr th {\n",
       "        vertical-align: top;\n",
       "    }\n",
       "\n",
       "    .dataframe thead th {\n",
       "        text-align: right;\n",
       "    }\n",
       "</style>\n",
       "<table border=\"1\" class=\"dataframe\">\n",
       "  <thead>\n",
       "    <tr style=\"text-align: right;\">\n",
       "      <th></th>\n",
       "      <th>0</th>\n",
       "    </tr>\n",
       "  </thead>\n",
       "  <tbody>\n",
       "    <tr>\n",
       "      <th>0</th>\n",
       "      <td>9.689139</td>\n",
       "    </tr>\n",
       "    <tr>\n",
       "      <th>1</th>\n",
       "      <td>10.467697</td>\n",
       "    </tr>\n",
       "    <tr>\n",
       "      <th>2</th>\n",
       "      <td>5.823267</td>\n",
       "    </tr>\n",
       "    <tr>\n",
       "      <th>3</th>\n",
       "      <td>6.496717</td>\n",
       "    </tr>\n",
       "    <tr>\n",
       "      <th>4</th>\n",
       "      <td>15.717172</td>\n",
       "    </tr>\n",
       "    <tr>\n",
       "      <th>...</th>\n",
       "      <td>...</td>\n",
       "    </tr>\n",
       "    <tr>\n",
       "      <th>9909</th>\n",
       "      <td>6.708517</td>\n",
       "    </tr>\n",
       "    <tr>\n",
       "      <th>9910</th>\n",
       "      <td>10.375310</td>\n",
       "    </tr>\n",
       "    <tr>\n",
       "      <th>9911</th>\n",
       "      <td>53.447147</td>\n",
       "    </tr>\n",
       "    <tr>\n",
       "      <th>9912</th>\n",
       "      <td>20.753668</td>\n",
       "    </tr>\n",
       "    <tr>\n",
       "      <th>9913</th>\n",
       "      <td>4.845481</td>\n",
       "    </tr>\n",
       "  </tbody>\n",
       "</table>\n",
       "<p>9914 rows × 1 columns</p>\n",
       "</div>"
      ],
      "text/plain": [
       "              0\n",
       "0      9.689139\n",
       "1     10.467697\n",
       "2      5.823267\n",
       "3      6.496717\n",
       "4     15.717172\n",
       "...         ...\n",
       "9909   6.708517\n",
       "9910  10.375310\n",
       "9911  53.447147\n",
       "9912  20.753668\n",
       "9913   4.845481\n",
       "\n",
       "[9914 rows x 1 columns]"
      ]
     },
     "execution_count": 61,
     "metadata": {
      "tags": []
     },
     "output_type": "execute_result"
    }
   ],
   "source": [
    "df_output"
   ]
  },
  {
   "cell_type": "code",
   "execution_count": null,
   "metadata": {
    "colab": {
     "base_uri": "https://localhost:8080/",
     "height": 34
    },
    "colab_type": "code",
    "id": "UtBEyhHPKCCO",
    "outputId": "8f0d184b-2f7f-4e4e-f1c3-a0a8a664e6eb"
   },
   "outputs": [
    {
     "data": {
      "text/plain": [
       "pandas.core.frame.DataFrame"
      ]
     },
     "execution_count": 82,
     "metadata": {
      "tags": []
     },
     "output_type": "execute_result"
    }
   ],
   "source": [
    "type(df_output)"
   ]
  },
  {
   "cell_type": "code",
   "execution_count": null,
   "metadata": {
    "colab": {},
    "colab_type": "code",
    "id": "BHl0PIlDH9ZU"
   },
   "outputs": [],
   "source": [
    "#output file\n",
    "\n",
    "df_output.to_csv('submission.csv', index=False)\n"
   ]
  },
  {
   "cell_type": "code",
   "execution_count": null,
   "metadata": {
    "colab": {},
    "colab_type": "code",
    "id": "1-y9qE3yIenz"
   },
   "outputs": [],
   "source": [
    "# function that takes in a dataframe and creates a text link to  \n",
    "# download it (will only work for files < 2MB or so)\n",
    "\n",
    "from IPython.display import HTML\n",
    "import base64\n",
    "\n",
    "def create_download_link(df, title = \"Download CSV file\", filename = \"submission.csv\"):  \n",
    "    csv = df.to_csv()\n",
    "    b64 = base64.b64encode(csv.encode())\n",
    "    payload = b64.decode()\n",
    "    html = '<a download=\"{filename}\" href=\"data:text/csv;base64,{payload}\" target=\"_blank\">{title}</a>'\n",
    "    html = html.format(payload=payload,title=title,filename=filename)\n",
    "    return HTML(html)"
   ]
  },
  {
   "cell_type": "code",
   "execution_count": null,
   "metadata": {
    "colab": {
     "base_uri": "https://localhost:8080/",
     "height": 34
    },
    "colab_type": "code",
    "id": "f_jMDav8I82M",
    "outputId": "24aa9a31-4311-4cb2-de30-5c6bab626743"
   },
   "outputs": [
    {
     "data": {
      "text/html": [
       "<a download=\"submission.csv\" href=\"data:text/csv;base64,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\" target=\"_blank\">Download CSV file</a>"
      ],
      "text/plain": [
       "<IPython.core.display.HTML object>"
      ]
     },
     "execution_count": 85,
     "metadata": {
      "tags": []
     },
     "output_type": "execute_result"
    }
   ],
   "source": [
    "# create a link to download the dataframe\n",
    "create_download_link(df_output)"
   ]
  },
  {
   "cell_type": "code",
   "execution_count": null,
   "metadata": {
    "colab": {},
    "colab_type": "code",
    "id": "2tqDiZSII-5m"
   },
   "outputs": [],
   "source": []
  }
 ],
 "metadata": {
  "accelerator": "GPU",
  "colab": {
   "collapsed_sections": [],
   "name": "NYC_Taxi_PyTorch",
   "provenance": [],
   "toc_visible": true
  },
  "kernelspec": {
   "display_name": "Python 3 (ipykernel)",
   "language": "python",
   "name": "python3"
  },
  "language_info": {
   "codemirror_mode": {
    "name": "ipython",
    "version": 3
   },
   "file_extension": ".py",
   "mimetype": "text/x-python",
   "name": "python",
   "nbconvert_exporter": "python",
   "pygments_lexer": "ipython3",
   "version": "3.8.12"
  },
  "widgets": {
   "application/vnd.jupyter.widget-state+json": {
    "017cf135cdde41efae1e609a8920eed3": {
     "model_module": "@jupyter-widgets/controls",
     "model_name": "HTMLModel",
     "state": {
      "_dom_classes": [],
      "_model_module": "@jupyter-widgets/controls",
      "_model_module_version": "1.5.0",
      "_model_name": "HTMLModel",
      "_view_count": null,
      "_view_module": "@jupyter-widgets/controls",
      "_view_module_version": "1.5.0",
      "_view_name": "HTMLView",
      "description": "",
      "description_tooltip": null,
      "layout": "IPY_MODEL_84adebf7c23245f289d8286c3097b214",
      "placeholder": "​",
      "style": "IPY_MODEL_b323593bcc05479184bfc5cca3296905",
      "value": " 99% 618/625 [00:04&lt;00:00, 128.62it/s, loss=0.0556]"
     }
    },
    "02d56a62ff6c496ead788d703a71a293": {
     "model_module": "@jupyter-widgets/controls",
     "model_name": "HBoxModel",
     "state": {
      "_dom_classes": [],
      "_model_module": "@jupyter-widgets/controls",
      "_model_module_version": "1.5.0",
      "_model_name": "HBoxModel",
      "_view_count": null,
      "_view_module": "@jupyter-widgets/controls",
      "_view_module_version": "1.5.0",
      "_view_name": "HBoxView",
      "box_style": "",
      "children": [
       "IPY_MODEL_9c49842a671945edbb87e146965becaf",
       "IPY_MODEL_3f2cbadfeb4b4230881601df9fcb1513"
      ],
      "layout": "IPY_MODEL_21b3d0d4358849dbbd5767c9057b0d94"
     }
    },
    "0a24117c0a934333ab550002e4d08890": {
     "model_module": "@jupyter-widgets/base",
     "model_name": "LayoutModel",
     "state": {
      "_model_module": "@jupyter-widgets/base",
      "_model_module_version": "1.2.0",
      "_model_name": "LayoutModel",
      "_view_count": null,
      "_view_module": "@jupyter-widgets/base",
      "_view_module_version": "1.2.0",
      "_view_name": "LayoutView",
      "align_content": null,
      "align_items": null,
      "align_self": null,
      "border": null,
      "bottom": null,
      "display": null,
      "flex": null,
      "flex_flow": null,
      "grid_area": null,
      "grid_auto_columns": null,
      "grid_auto_flow": null,
      "grid_auto_rows": null,
      "grid_column": null,
      "grid_gap": null,
      "grid_row": null,
      "grid_template_areas": null,
      "grid_template_columns": null,
      "grid_template_rows": null,
      "height": null,
      "justify_content": null,
      "justify_items": null,
      "left": null,
      "margin": null,
      "max_height": null,
      "max_width": null,
      "min_height": null,
      "min_width": null,
      "object_fit": null,
      "object_position": null,
      "order": null,
      "overflow": null,
      "overflow_x": null,
      "overflow_y": null,
      "padding": null,
      "right": null,
      "top": null,
      "visibility": null,
      "width": null
     }
    },
    "0a52ffeb7e0248949f07ba0456153c44": {
     "model_module": "@jupyter-widgets/controls",
     "model_name": "IntProgressModel",
     "state": {
      "_dom_classes": [],
      "_model_module": "@jupyter-widgets/controls",
      "_model_module_version": "1.5.0",
      "_model_name": "IntProgressModel",
      "_view_count": null,
      "_view_module": "@jupyter-widgets/controls",
      "_view_module_version": "1.5.0",
      "_view_name": "ProgressView",
      "bar_style": "",
      "description": "",
      "description_tooltip": null,
      "layout": "IPY_MODEL_44f0d58720e341ae915bea6bbfce89f3",
      "max": 157,
      "min": 0,
      "orientation": "horizontal",
      "style": "IPY_MODEL_e3f4c13d2c994fb0813ddf53cdb4199c",
      "value": 117
     }
    },
    "0b540dc6912b430ebac688c6c721bb33": {
     "model_module": "@jupyter-widgets/base",
     "model_name": "LayoutModel",
     "state": {
      "_model_module": "@jupyter-widgets/base",
      "_model_module_version": "1.2.0",
      "_model_name": "LayoutModel",
      "_view_count": null,
      "_view_module": "@jupyter-widgets/base",
      "_view_module_version": "1.2.0",
      "_view_name": "LayoutView",
      "align_content": null,
      "align_items": null,
      "align_self": null,
      "border": null,
      "bottom": null,
      "display": null,
      "flex": null,
      "flex_flow": null,
      "grid_area": null,
      "grid_auto_columns": null,
      "grid_auto_flow": null,
      "grid_auto_rows": null,
      "grid_column": null,
      "grid_gap": null,
      "grid_row": null,
      "grid_template_areas": null,
      "grid_template_columns": null,
      "grid_template_rows": null,
      "height": null,
      "justify_content": null,
      "justify_items": null,
      "left": null,
      "margin": null,
      "max_height": null,
      "max_width": null,
      "min_height": null,
      "min_width": null,
      "object_fit": null,
      "object_position": null,
      "order": null,
      "overflow": null,
      "overflow_x": null,
      "overflow_y": null,
      "padding": null,
      "right": null,
      "top": null,
      "visibility": null,
      "width": null
     }
    },
    "0d71e442df584780a368f732658f0341": {
     "model_module": "@jupyter-widgets/base",
     "model_name": "LayoutModel",
     "state": {
      "_model_module": "@jupyter-widgets/base",
      "_model_module_version": "1.2.0",
      "_model_name": "LayoutModel",
      "_view_count": null,
      "_view_module": "@jupyter-widgets/base",
      "_view_module_version": "1.2.0",
      "_view_name": "LayoutView",
      "align_content": null,
      "align_items": null,
      "align_self": null,
      "border": null,
      "bottom": null,
      "display": null,
      "flex": null,
      "flex_flow": null,
      "grid_area": null,
      "grid_auto_columns": null,
      "grid_auto_flow": null,
      "grid_auto_rows": null,
      "grid_column": null,
      "grid_gap": null,
      "grid_row": null,
      "grid_template_areas": null,
      "grid_template_columns": null,
      "grid_template_rows": null,
      "height": null,
      "justify_content": null,
      "justify_items": null,
      "left": null,
      "margin": null,
      "max_height": null,
      "max_width": null,
      "min_height": null,
      "min_width": null,
      "object_fit": null,
      "object_position": null,
      "order": null,
      "overflow": null,
      "overflow_x": null,
      "overflow_y": null,
      "padding": null,
      "right": null,
      "top": null,
      "visibility": null,
      "width": null
     }
    },
    "0f8deee44689495a9783f7314470e62e": {
     "model_module": "@jupyter-widgets/controls",
     "model_name": "HTMLModel",
     "state": {
      "_dom_classes": [],
      "_model_module": "@jupyter-widgets/controls",
      "_model_module_version": "1.5.0",
      "_model_name": "HTMLModel",
      "_view_count": null,
      "_view_module": "@jupyter-widgets/controls",
      "_view_module_version": "1.5.0",
      "_view_name": "HTMLView",
      "description": "",
      "description_tooltip": null,
      "layout": "IPY_MODEL_7f75281fd761439b9263526e47eb5a59",
      "placeholder": "​",
      "style": "IPY_MODEL_cdee532fbe3d4b058f2e6661da3ba379",
      "value": " 98% 154/157 [00:00&lt;00:00, 367.46it/s]"
     }
    },
    "0fa8c073e21240f2bed836042c65495f": {
     "model_module": "@jupyter-widgets/base",
     "model_name": "LayoutModel",
     "state": {
      "_model_module": "@jupyter-widgets/base",
      "_model_module_version": "1.2.0",
      "_model_name": "LayoutModel",
      "_view_count": null,
      "_view_module": "@jupyter-widgets/base",
      "_view_module_version": "1.2.0",
      "_view_name": "LayoutView",
      "align_content": null,
      "align_items": null,
      "align_self": null,
      "border": null,
      "bottom": null,
      "display": null,
      "flex": null,
      "flex_flow": null,
      "grid_area": null,
      "grid_auto_columns": null,
      "grid_auto_flow": null,
      "grid_auto_rows": null,
      "grid_column": null,
      "grid_gap": null,
      "grid_row": null,
      "grid_template_areas": null,
      "grid_template_columns": null,
      "grid_template_rows": null,
      "height": null,
      "justify_content": null,
      "justify_items": null,
      "left": null,
      "margin": null,
      "max_height": null,
      "max_width": null,
      "min_height": null,
      "min_width": null,
      "object_fit": null,
      "object_position": null,
      "order": null,
      "overflow": null,
      "overflow_x": null,
      "overflow_y": null,
      "padding": null,
      "right": null,
      "top": null,
      "visibility": null,
      "width": null
     }
    },
    "10ae8a4cb49542f5bdbe18efd7289222": {
     "model_module": "@jupyter-widgets/controls",
     "model_name": "HBoxModel",
     "state": {
      "_dom_classes": [],
      "_model_module": "@jupyter-widgets/controls",
      "_model_module_version": "1.5.0",
      "_model_name": "HBoxModel",
      "_view_count": null,
      "_view_module": "@jupyter-widgets/controls",
      "_view_module_version": "1.5.0",
      "_view_name": "HBoxView",
      "box_style": "",
      "children": [
       "IPY_MODEL_a0b10f2f17b7470f8bef69a4c342f54e",
       "IPY_MODEL_768df21082174a398a90df5661f0b784"
      ],
      "layout": "IPY_MODEL_1da521e78f064b678e78beeb06014229"
     }
    },
    "10d52390f9634657b0e7f21198ac3f71": {
     "model_module": "@jupyter-widgets/controls",
     "model_name": "IntProgressModel",
     "state": {
      "_dom_classes": [],
      "_model_module": "@jupyter-widgets/controls",
      "_model_module_version": "1.5.0",
      "_model_name": "IntProgressModel",
      "_view_count": null,
      "_view_module": "@jupyter-widgets/controls",
      "_view_module_version": "1.5.0",
      "_view_name": "ProgressView",
      "bar_style": "",
      "description": "Epoch 6",
      "description_tooltip": null,
      "layout": "IPY_MODEL_214969e009554a368c01545987240022",
      "max": 625,
      "min": 0,
      "orientation": "horizontal",
      "style": "IPY_MODEL_e1a9c3515efd4cf0867c0cbe5639f591",
      "value": 623
     }
    },
    "12713b66e05f4feab4996d2ce879a0e0": {
     "model_module": "@jupyter-widgets/base",
     "model_name": "LayoutModel",
     "state": {
      "_model_module": "@jupyter-widgets/base",
      "_model_module_version": "1.2.0",
      "_model_name": "LayoutModel",
      "_view_count": null,
      "_view_module": "@jupyter-widgets/base",
      "_view_module_version": "1.2.0",
      "_view_name": "LayoutView",
      "align_content": null,
      "align_items": null,
      "align_self": null,
      "border": null,
      "bottom": null,
      "display": null,
      "flex": null,
      "flex_flow": null,
      "grid_area": null,
      "grid_auto_columns": null,
      "grid_auto_flow": null,
      "grid_auto_rows": null,
      "grid_column": null,
      "grid_gap": null,
      "grid_row": null,
      "grid_template_areas": null,
      "grid_template_columns": null,
      "grid_template_rows": null,
      "height": null,
      "justify_content": null,
      "justify_items": null,
      "left": null,
      "margin": null,
      "max_height": null,
      "max_width": null,
      "min_height": null,
      "min_width": null,
      "object_fit": null,
      "object_position": null,
      "order": null,
      "overflow": null,
      "overflow_x": null,
      "overflow_y": null,
      "padding": null,
      "right": null,
      "top": null,
      "visibility": null,
      "width": null
     }
    },
    "12d68a952e014224948397004b1512e8": {
     "model_module": "@jupyter-widgets/base",
     "model_name": "LayoutModel",
     "state": {
      "_model_module": "@jupyter-widgets/base",
      "_model_module_version": "1.2.0",
      "_model_name": "LayoutModel",
      "_view_count": null,
      "_view_module": "@jupyter-widgets/base",
      "_view_module_version": "1.2.0",
      "_view_name": "LayoutView",
      "align_content": null,
      "align_items": null,
      "align_self": null,
      "border": null,
      "bottom": null,
      "display": null,
      "flex": null,
      "flex_flow": null,
      "grid_area": null,
      "grid_auto_columns": null,
      "grid_auto_flow": null,
      "grid_auto_rows": null,
      "grid_column": null,
      "grid_gap": null,
      "grid_row": null,
      "grid_template_areas": null,
      "grid_template_columns": null,
      "grid_template_rows": null,
      "height": null,
      "justify_content": null,
      "justify_items": null,
      "left": null,
      "margin": null,
      "max_height": null,
      "max_width": null,
      "min_height": null,
      "min_width": null,
      "object_fit": null,
      "object_position": null,
      "order": null,
      "overflow": null,
      "overflow_x": null,
      "overflow_y": null,
      "padding": null,
      "right": null,
      "top": null,
      "visibility": null,
      "width": null
     }
    },
    "18e7bb3ce7f4414ba14735c1614becd4": {
     "model_module": "@jupyter-widgets/controls",
     "model_name": "HBoxModel",
     "state": {
      "_dom_classes": [],
      "_model_module": "@jupyter-widgets/controls",
      "_model_module_version": "1.5.0",
      "_model_name": "HBoxModel",
      "_view_count": null,
      "_view_module": "@jupyter-widgets/controls",
      "_view_module_version": "1.5.0",
      "_view_name": "HBoxView",
      "box_style": "",
      "children": [
       "IPY_MODEL_7e52f67b56834d0c83ec48c359ba378a",
       "IPY_MODEL_dd39e59819c544dd8668c91c3132be9d"
      ],
      "layout": "IPY_MODEL_dea6e24932a44672b660c1dffce85673"
     }
    },
    "19a77be4b67c44b2a711ab54eae9426e": {
     "model_module": "@jupyter-widgets/controls",
     "model_name": "HTMLModel",
     "state": {
      "_dom_classes": [],
      "_model_module": "@jupyter-widgets/controls",
      "_model_module_version": "1.5.0",
      "_model_name": "HTMLModel",
      "_view_count": null,
      "_view_module": "@jupyter-widgets/controls",
      "_view_module_version": "1.5.0",
      "_view_name": "HTMLView",
      "description": "",
      "description_tooltip": null,
      "layout": "IPY_MODEL_e5011d1d3a8e47a19f7b121bc6ce6be6",
      "placeholder": "​",
      "style": "IPY_MODEL_b2572c5bccb74b068549cf63948c950f",
      "value": " 97% 152/157 [00:00&lt;00:00, 357.37it/s]"
     }
    },
    "1a5f94b40f4546f48fa195841f0ed3fc": {
     "model_module": "@jupyter-widgets/controls",
     "model_name": "IntProgressModel",
     "state": {
      "_dom_classes": [],
      "_model_module": "@jupyter-widgets/controls",
      "_model_module_version": "1.5.0",
      "_model_name": "IntProgressModel",
      "_view_count": null,
      "_view_module": "@jupyter-widgets/controls",
      "_view_module_version": "1.5.0",
      "_view_name": "ProgressView",
      "bar_style": "",
      "description": "",
      "description_tooltip": null,
      "layout": "IPY_MODEL_33aca26dcc90437785c742bbe70eae16",
      "max": 157,
      "min": 0,
      "orientation": "horizontal",
      "style": "IPY_MODEL_c1a2b49906fd4d8f981f82cf38461c3d",
      "value": 152
     }
    },
    "1da521e78f064b678e78beeb06014229": {
     "model_module": "@jupyter-widgets/base",
     "model_name": "LayoutModel",
     "state": {
      "_model_module": "@jupyter-widgets/base",
      "_model_module_version": "1.2.0",
      "_model_name": "LayoutModel",
      "_view_count": null,
      "_view_module": "@jupyter-widgets/base",
      "_view_module_version": "1.2.0",
      "_view_name": "LayoutView",
      "align_content": null,
      "align_items": null,
      "align_self": null,
      "border": null,
      "bottom": null,
      "display": null,
      "flex": null,
      "flex_flow": null,
      "grid_area": null,
      "grid_auto_columns": null,
      "grid_auto_flow": null,
      "grid_auto_rows": null,
      "grid_column": null,
      "grid_gap": null,
      "grid_row": null,
      "grid_template_areas": null,
      "grid_template_columns": null,
      "grid_template_rows": null,
      "height": null,
      "justify_content": null,
      "justify_items": null,
      "left": null,
      "margin": null,
      "max_height": null,
      "max_width": null,
      "min_height": null,
      "min_width": null,
      "object_fit": null,
      "object_position": null,
      "order": null,
      "overflow": null,
      "overflow_x": null,
      "overflow_y": null,
      "padding": null,
      "right": null,
      "top": null,
      "visibility": null,
      "width": null
     }
    },
    "1dbdcba0214146aeb316bed8fdf5e082": {
     "model_module": "@jupyter-widgets/controls",
     "model_name": "ProgressStyleModel",
     "state": {
      "_model_module": "@jupyter-widgets/controls",
      "_model_module_version": "1.5.0",
      "_model_name": "ProgressStyleModel",
      "_view_count": null,
      "_view_module": "@jupyter-widgets/base",
      "_view_module_version": "1.2.0",
      "_view_name": "StyleView",
      "bar_color": null,
      "description_width": ""
     }
    },
    "1e063c748c104c16b7f2c850dcb45012": {
     "model_module": "@jupyter-widgets/controls",
     "model_name": "DescriptionStyleModel",
     "state": {
      "_model_module": "@jupyter-widgets/controls",
      "_model_module_version": "1.5.0",
      "_model_name": "DescriptionStyleModel",
      "_view_count": null,
      "_view_module": "@jupyter-widgets/base",
      "_view_module_version": "1.2.0",
      "_view_name": "StyleView",
      "description_width": ""
     }
    },
    "1fbbab5dcbe1473a8910efaa0a753cb8": {
     "model_module": "@jupyter-widgets/controls",
     "model_name": "DescriptionStyleModel",
     "state": {
      "_model_module": "@jupyter-widgets/controls",
      "_model_module_version": "1.5.0",
      "_model_name": "DescriptionStyleModel",
      "_view_count": null,
      "_view_module": "@jupyter-widgets/base",
      "_view_module_version": "1.2.0",
      "_view_name": "StyleView",
      "description_width": ""
     }
    },
    "214969e009554a368c01545987240022": {
     "model_module": "@jupyter-widgets/base",
     "model_name": "LayoutModel",
     "state": {
      "_model_module": "@jupyter-widgets/base",
      "_model_module_version": "1.2.0",
      "_model_name": "LayoutModel",
      "_view_count": null,
      "_view_module": "@jupyter-widgets/base",
      "_view_module_version": "1.2.0",
      "_view_name": "LayoutView",
      "align_content": null,
      "align_items": null,
      "align_self": null,
      "border": null,
      "bottom": null,
      "display": null,
      "flex": null,
      "flex_flow": null,
      "grid_area": null,
      "grid_auto_columns": null,
      "grid_auto_flow": null,
      "grid_auto_rows": null,
      "grid_column": null,
      "grid_gap": null,
      "grid_row": null,
      "grid_template_areas": null,
      "grid_template_columns": null,
      "grid_template_rows": null,
      "height": null,
      "justify_content": null,
      "justify_items": null,
      "left": null,
      "margin": null,
      "max_height": null,
      "max_width": null,
      "min_height": null,
      "min_width": null,
      "object_fit": null,
      "object_position": null,
      "order": null,
      "overflow": null,
      "overflow_x": null,
      "overflow_y": null,
      "padding": null,
      "right": null,
      "top": null,
      "visibility": null,
      "width": null
     }
    },
    "21b3d0d4358849dbbd5767c9057b0d94": {
     "model_module": "@jupyter-widgets/base",
     "model_name": "LayoutModel",
     "state": {
      "_model_module": "@jupyter-widgets/base",
      "_model_module_version": "1.2.0",
      "_model_name": "LayoutModel",
      "_view_count": null,
      "_view_module": "@jupyter-widgets/base",
      "_view_module_version": "1.2.0",
      "_view_name": "LayoutView",
      "align_content": null,
      "align_items": null,
      "align_self": null,
      "border": null,
      "bottom": null,
      "display": null,
      "flex": null,
      "flex_flow": null,
      "grid_area": null,
      "grid_auto_columns": null,
      "grid_auto_flow": null,
      "grid_auto_rows": null,
      "grid_column": null,
      "grid_gap": null,
      "grid_row": null,
      "grid_template_areas": null,
      "grid_template_columns": null,
      "grid_template_rows": null,
      "height": null,
      "justify_content": null,
      "justify_items": null,
      "left": null,
      "margin": null,
      "max_height": null,
      "max_width": null,
      "min_height": null,
      "min_width": null,
      "object_fit": null,
      "object_position": null,
      "order": null,
      "overflow": null,
      "overflow_x": null,
      "overflow_y": null,
      "padding": null,
      "right": null,
      "top": null,
      "visibility": null,
      "width": null
     }
    },
    "23c157257dd64b9dade29042a73727ec": {
     "model_module": "@jupyter-widgets/controls",
     "model_name": "IntProgressModel",
     "state": {
      "_dom_classes": [],
      "_model_module": "@jupyter-widgets/controls",
      "_model_module_version": "1.5.0",
      "_model_name": "IntProgressModel",
      "_view_count": null,
      "_view_module": "@jupyter-widgets/controls",
      "_view_module_version": "1.5.0",
      "_view_name": "ProgressView",
      "bar_style": "",
      "description": "",
      "description_tooltip": null,
      "layout": "IPY_MODEL_68356553ad534793867e1335802f6c94",
      "max": 157,
      "min": 0,
      "orientation": "horizontal",
      "style": "IPY_MODEL_ccc6268ab855484eafb2b8121f13fbfe",
      "value": 151
     }
    },
    "259caff9355842c58b71d79230ee9410": {
     "model_module": "@jupyter-widgets/controls",
     "model_name": "ProgressStyleModel",
     "state": {
      "_model_module": "@jupyter-widgets/controls",
      "_model_module_version": "1.5.0",
      "_model_name": "ProgressStyleModel",
      "_view_count": null,
      "_view_module": "@jupyter-widgets/base",
      "_view_module_version": "1.2.0",
      "_view_name": "StyleView",
      "bar_color": null,
      "description_width": ""
     }
    },
    "2a4b1a8c57cb4eaf89050126d4e0145e": {
     "model_module": "@jupyter-widgets/base",
     "model_name": "LayoutModel",
     "state": {
      "_model_module": "@jupyter-widgets/base",
      "_model_module_version": "1.2.0",
      "_model_name": "LayoutModel",
      "_view_count": null,
      "_view_module": "@jupyter-widgets/base",
      "_view_module_version": "1.2.0",
      "_view_name": "LayoutView",
      "align_content": null,
      "align_items": null,
      "align_self": null,
      "border": null,
      "bottom": null,
      "display": null,
      "flex": null,
      "flex_flow": null,
      "grid_area": null,
      "grid_auto_columns": null,
      "grid_auto_flow": null,
      "grid_auto_rows": null,
      "grid_column": null,
      "grid_gap": null,
      "grid_row": null,
      "grid_template_areas": null,
      "grid_template_columns": null,
      "grid_template_rows": null,
      "height": null,
      "justify_content": null,
      "justify_items": null,
      "left": null,
      "margin": null,
      "max_height": null,
      "max_width": null,
      "min_height": null,
      "min_width": null,
      "object_fit": null,
      "object_position": null,
      "order": null,
      "overflow": null,
      "overflow_x": null,
      "overflow_y": null,
      "padding": null,
      "right": null,
      "top": null,
      "visibility": null,
      "width": null
     }
    },
    "2cc6fcfed49943f69b4bf14ac3ca02de": {
     "model_module": "@jupyter-widgets/controls",
     "model_name": "DescriptionStyleModel",
     "state": {
      "_model_module": "@jupyter-widgets/controls",
      "_model_module_version": "1.5.0",
      "_model_name": "DescriptionStyleModel",
      "_view_count": null,
      "_view_module": "@jupyter-widgets/base",
      "_view_module_version": "1.2.0",
      "_view_name": "StyleView",
      "description_width": ""
     }
    },
    "2ce2409494aa4a92a4745b71a67d75b9": {
     "model_module": "@jupyter-widgets/controls",
     "model_name": "ProgressStyleModel",
     "state": {
      "_model_module": "@jupyter-widgets/controls",
      "_model_module_version": "1.5.0",
      "_model_name": "ProgressStyleModel",
      "_view_count": null,
      "_view_module": "@jupyter-widgets/base",
      "_view_module_version": "1.2.0",
      "_view_name": "StyleView",
      "bar_color": null,
      "description_width": "initial"
     }
    },
    "2d9e8a1e4f144fe0a57ae274b62482ed": {
     "model_module": "@jupyter-widgets/controls",
     "model_name": "DescriptionStyleModel",
     "state": {
      "_model_module": "@jupyter-widgets/controls",
      "_model_module_version": "1.5.0",
      "_model_name": "DescriptionStyleModel",
      "_view_count": null,
      "_view_module": "@jupyter-widgets/base",
      "_view_module_version": "1.2.0",
      "_view_name": "StyleView",
      "description_width": ""
     }
    },
    "2e02956d567648ce80a06cd4f46d01fe": {
     "model_module": "@jupyter-widgets/controls",
     "model_name": "ProgressStyleModel",
     "state": {
      "_model_module": "@jupyter-widgets/controls",
      "_model_module_version": "1.5.0",
      "_model_name": "ProgressStyleModel",
      "_view_count": null,
      "_view_module": "@jupyter-widgets/base",
      "_view_module_version": "1.2.0",
      "_view_name": "StyleView",
      "bar_color": null,
      "description_width": "initial"
     }
    },
    "31b712bfb0b844b1b8454743df0e805b": {
     "model_module": "@jupyter-widgets/base",
     "model_name": "LayoutModel",
     "state": {
      "_model_module": "@jupyter-widgets/base",
      "_model_module_version": "1.2.0",
      "_model_name": "LayoutModel",
      "_view_count": null,
      "_view_module": "@jupyter-widgets/base",
      "_view_module_version": "1.2.0",
      "_view_name": "LayoutView",
      "align_content": null,
      "align_items": null,
      "align_self": null,
      "border": null,
      "bottom": null,
      "display": null,
      "flex": null,
      "flex_flow": null,
      "grid_area": null,
      "grid_auto_columns": null,
      "grid_auto_flow": null,
      "grid_auto_rows": null,
      "grid_column": null,
      "grid_gap": null,
      "grid_row": null,
      "grid_template_areas": null,
      "grid_template_columns": null,
      "grid_template_rows": null,
      "height": null,
      "justify_content": null,
      "justify_items": null,
      "left": null,
      "margin": null,
      "max_height": null,
      "max_width": null,
      "min_height": null,
      "min_width": null,
      "object_fit": null,
      "object_position": null,
      "order": null,
      "overflow": null,
      "overflow_x": null,
      "overflow_y": null,
      "padding": null,
      "right": null,
      "top": null,
      "visibility": null,
      "width": null
     }
    },
    "3240e2dad4454677a385ab038c464107": {
     "model_module": "@jupyter-widgets/base",
     "model_name": "LayoutModel",
     "state": {
      "_model_module": "@jupyter-widgets/base",
      "_model_module_version": "1.2.0",
      "_model_name": "LayoutModel",
      "_view_count": null,
      "_view_module": "@jupyter-widgets/base",
      "_view_module_version": "1.2.0",
      "_view_name": "LayoutView",
      "align_content": null,
      "align_items": null,
      "align_self": null,
      "border": null,
      "bottom": null,
      "display": null,
      "flex": null,
      "flex_flow": null,
      "grid_area": null,
      "grid_auto_columns": null,
      "grid_auto_flow": null,
      "grid_auto_rows": null,
      "grid_column": null,
      "grid_gap": null,
      "grid_row": null,
      "grid_template_areas": null,
      "grid_template_columns": null,
      "grid_template_rows": null,
      "height": null,
      "justify_content": null,
      "justify_items": null,
      "left": null,
      "margin": null,
      "max_height": null,
      "max_width": null,
      "min_height": null,
      "min_width": null,
      "object_fit": null,
      "object_position": null,
      "order": null,
      "overflow": null,
      "overflow_x": null,
      "overflow_y": null,
      "padding": null,
      "right": null,
      "top": null,
      "visibility": null,
      "width": null
     }
    },
    "33aca26dcc90437785c742bbe70eae16": {
     "model_module": "@jupyter-widgets/base",
     "model_name": "LayoutModel",
     "state": {
      "_model_module": "@jupyter-widgets/base",
      "_model_module_version": "1.2.0",
      "_model_name": "LayoutModel",
      "_view_count": null,
      "_view_module": "@jupyter-widgets/base",
      "_view_module_version": "1.2.0",
      "_view_name": "LayoutView",
      "align_content": null,
      "align_items": null,
      "align_self": null,
      "border": null,
      "bottom": null,
      "display": null,
      "flex": null,
      "flex_flow": null,
      "grid_area": null,
      "grid_auto_columns": null,
      "grid_auto_flow": null,
      "grid_auto_rows": null,
      "grid_column": null,
      "grid_gap": null,
      "grid_row": null,
      "grid_template_areas": null,
      "grid_template_columns": null,
      "grid_template_rows": null,
      "height": null,
      "justify_content": null,
      "justify_items": null,
      "left": null,
      "margin": null,
      "max_height": null,
      "max_width": null,
      "min_height": null,
      "min_width": null,
      "object_fit": null,
      "object_position": null,
      "order": null,
      "overflow": null,
      "overflow_x": null,
      "overflow_y": null,
      "padding": null,
      "right": null,
      "top": null,
      "visibility": null,
      "width": null
     }
    },
    "367742a3fd1e4f328d1c1ba71138757e": {
     "model_module": "@jupyter-widgets/controls",
     "model_name": "HTMLModel",
     "state": {
      "_dom_classes": [],
      "_model_module": "@jupyter-widgets/controls",
      "_model_module_version": "1.5.0",
      "_model_name": "HTMLModel",
      "_view_count": null,
      "_view_module": "@jupyter-widgets/controls",
      "_view_module_version": "1.5.0",
      "_view_name": "HTMLView",
      "description": "",
      "description_tooltip": null,
      "layout": "IPY_MODEL_c69535aa7be140ff87a9bf1f90b35434",
      "placeholder": "​",
      "style": "IPY_MODEL_599330002e4649b3a0d494d97c838b0f",
      "value": " 99% 618/625 [00:05&lt;00:00, 126.80it/s, loss=0.0982]"
     }
    },
    "38d6bf33433c4a22842b3dca0875d74f": {
     "model_module": "@jupyter-widgets/controls",
     "model_name": "DescriptionStyleModel",
     "state": {
      "_model_module": "@jupyter-widgets/controls",
      "_model_module_version": "1.5.0",
      "_model_name": "DescriptionStyleModel",
      "_view_count": null,
      "_view_module": "@jupyter-widgets/base",
      "_view_module_version": "1.2.0",
      "_view_name": "StyleView",
      "description_width": ""
     }
    },
    "3b333d4ed75b4162b398e58e160efa4e": {
     "model_module": "@jupyter-widgets/controls",
     "model_name": "IntProgressModel",
     "state": {
      "_dom_classes": [],
      "_model_module": "@jupyter-widgets/controls",
      "_model_module_version": "1.5.0",
      "_model_name": "IntProgressModel",
      "_view_count": null,
      "_view_module": "@jupyter-widgets/controls",
      "_view_module_version": "1.5.0",
      "_view_name": "ProgressView",
      "bar_style": "",
      "description": "",
      "description_tooltip": null,
      "layout": "IPY_MODEL_12713b66e05f4feab4996d2ce879a0e0",
      "max": 157,
      "min": 0,
      "orientation": "horizontal",
      "style": "IPY_MODEL_fdf3b83375124f02bd237e1b8fca65c7",
      "value": 154
     }
    },
    "3ce034b0bd734c1d895df6729cf86d6e": {
     "model_module": "@jupyter-widgets/base",
     "model_name": "LayoutModel",
     "state": {
      "_model_module": "@jupyter-widgets/base",
      "_model_module_version": "1.2.0",
      "_model_name": "LayoutModel",
      "_view_count": null,
      "_view_module": "@jupyter-widgets/base",
      "_view_module_version": "1.2.0",
      "_view_name": "LayoutView",
      "align_content": null,
      "align_items": null,
      "align_self": null,
      "border": null,
      "bottom": null,
      "display": null,
      "flex": null,
      "flex_flow": null,
      "grid_area": null,
      "grid_auto_columns": null,
      "grid_auto_flow": null,
      "grid_auto_rows": null,
      "grid_column": null,
      "grid_gap": null,
      "grid_row": null,
      "grid_template_areas": null,
      "grid_template_columns": null,
      "grid_template_rows": null,
      "height": null,
      "justify_content": null,
      "justify_items": null,
      "left": null,
      "margin": null,
      "max_height": null,
      "max_width": null,
      "min_height": null,
      "min_width": null,
      "object_fit": null,
      "object_position": null,
      "order": null,
      "overflow": null,
      "overflow_x": null,
      "overflow_y": null,
      "padding": null,
      "right": null,
      "top": null,
      "visibility": null,
      "width": null
     }
    },
    "3ddfb0cb31c645ca85de272835124b46": {
     "model_module": "@jupyter-widgets/controls",
     "model_name": "IntProgressModel",
     "state": {
      "_dom_classes": [],
      "_model_module": "@jupyter-widgets/controls",
      "_model_module_version": "1.5.0",
      "_model_name": "IntProgressModel",
      "_view_count": null,
      "_view_module": "@jupyter-widgets/controls",
      "_view_module_version": "1.5.0",
      "_view_name": "ProgressView",
      "bar_style": "",
      "description": "Epoch 8",
      "description_tooltip": null,
      "layout": "IPY_MODEL_db75b8d3ae324198b199d5ef3a59ecc4",
      "max": 625,
      "min": 0,
      "orientation": "horizontal",
      "style": "IPY_MODEL_5bd188a5a4734871a959de0bceafa7d2",
      "value": 613
     }
    },
    "3f2cbadfeb4b4230881601df9fcb1513": {
     "model_module": "@jupyter-widgets/controls",
     "model_name": "HTMLModel",
     "state": {
      "_dom_classes": [],
      "_model_module": "@jupyter-widgets/controls",
      "_model_module_version": "1.5.0",
      "_model_name": "HTMLModel",
      "_view_count": null,
      "_view_module": "@jupyter-widgets/controls",
      "_view_module_version": "1.5.0",
      "_view_name": "HTMLView",
      "description": "",
      "description_tooltip": null,
      "layout": "IPY_MODEL_655357e7ab5143fd8a3bf04c1b0d205d",
      "placeholder": "​",
      "style": "IPY_MODEL_1fbbab5dcbe1473a8910efaa0a753cb8",
      "value": " 75% 117/157 [00:00&lt;00:00, 363.05it/s]"
     }
    },
    "3f976cdce8db49308e30f04bdff17d2e": {
     "model_module": "@jupyter-widgets/controls",
     "model_name": "ProgressStyleModel",
     "state": {
      "_model_module": "@jupyter-widgets/controls",
      "_model_module_version": "1.5.0",
      "_model_name": "ProgressStyleModel",
      "_view_count": null,
      "_view_module": "@jupyter-widgets/base",
      "_view_module_version": "1.2.0",
      "_view_name": "StyleView",
      "bar_color": null,
      "description_width": "initial"
     }
    },
    "42919307923849b9bfa495e3e3f08d1a": {
     "model_module": "@jupyter-widgets/base",
     "model_name": "LayoutModel",
     "state": {
      "_model_module": "@jupyter-widgets/base",
      "_model_module_version": "1.2.0",
      "_model_name": "LayoutModel",
      "_view_count": null,
      "_view_module": "@jupyter-widgets/base",
      "_view_module_version": "1.2.0",
      "_view_name": "LayoutView",
      "align_content": null,
      "align_items": null,
      "align_self": null,
      "border": null,
      "bottom": null,
      "display": null,
      "flex": null,
      "flex_flow": null,
      "grid_area": null,
      "grid_auto_columns": null,
      "grid_auto_flow": null,
      "grid_auto_rows": null,
      "grid_column": null,
      "grid_gap": null,
      "grid_row": null,
      "grid_template_areas": null,
      "grid_template_columns": null,
      "grid_template_rows": null,
      "height": null,
      "justify_content": null,
      "justify_items": null,
      "left": null,
      "margin": null,
      "max_height": null,
      "max_width": null,
      "min_height": null,
      "min_width": null,
      "object_fit": null,
      "object_position": null,
      "order": null,
      "overflow": null,
      "overflow_x": null,
      "overflow_y": null,
      "padding": null,
      "right": null,
      "top": null,
      "visibility": null,
      "width": null
     }
    },
    "44f0d58720e341ae915bea6bbfce89f3": {
     "model_module": "@jupyter-widgets/base",
     "model_name": "LayoutModel",
     "state": {
      "_model_module": "@jupyter-widgets/base",
      "_model_module_version": "1.2.0",
      "_model_name": "LayoutModel",
      "_view_count": null,
      "_view_module": "@jupyter-widgets/base",
      "_view_module_version": "1.2.0",
      "_view_name": "LayoutView",
      "align_content": null,
      "align_items": null,
      "align_self": null,
      "border": null,
      "bottom": null,
      "display": null,
      "flex": null,
      "flex_flow": null,
      "grid_area": null,
      "grid_auto_columns": null,
      "grid_auto_flow": null,
      "grid_auto_rows": null,
      "grid_column": null,
      "grid_gap": null,
      "grid_row": null,
      "grid_template_areas": null,
      "grid_template_columns": null,
      "grid_template_rows": null,
      "height": null,
      "justify_content": null,
      "justify_items": null,
      "left": null,
      "margin": null,
      "max_height": null,
      "max_width": null,
      "min_height": null,
      "min_width": null,
      "object_fit": null,
      "object_position": null,
      "order": null,
      "overflow": null,
      "overflow_x": null,
      "overflow_y": null,
      "padding": null,
      "right": null,
      "top": null,
      "visibility": null,
      "width": null
     }
    },
    "4760d731a3cb4bc5a84a620a431fd0b5": {
     "model_module": "@jupyter-widgets/controls",
     "model_name": "HTMLModel",
     "state": {
      "_dom_classes": [],
      "_model_module": "@jupyter-widgets/controls",
      "_model_module_version": "1.5.0",
      "_model_name": "HTMLModel",
      "_view_count": null,
      "_view_module": "@jupyter-widgets/controls",
      "_view_module_version": "1.5.0",
      "_view_name": "HTMLView",
      "description": "",
      "description_tooltip": null,
      "layout": "IPY_MODEL_b3b49990c489447fb05fdcf0a5d413ed",
      "placeholder": "​",
      "style": "IPY_MODEL_a282e0342a0f4690b2e92ff43e6d71a8",
      "value": " 98% 613/625 [00:04&lt;00:00, 129.09it/s, loss=0.0777]"
     }
    },
    "47a2b649721b46b1933959a62eb2208a": {
     "model_module": "@jupyter-widgets/controls",
     "model_name": "HBoxModel",
     "state": {
      "_dom_classes": [],
      "_model_module": "@jupyter-widgets/controls",
      "_model_module_version": "1.5.0",
      "_model_name": "HBoxModel",
      "_view_count": null,
      "_view_module": "@jupyter-widgets/controls",
      "_view_module_version": "1.5.0",
      "_view_name": "HBoxView",
      "box_style": "",
      "children": [
       "IPY_MODEL_3b333d4ed75b4162b398e58e160efa4e",
       "IPY_MODEL_0f8deee44689495a9783f7314470e62e"
      ],
      "layout": "IPY_MODEL_3ce034b0bd734c1d895df6729cf86d6e"
     }
    },
    "47ec84fd7e7f49efb7cf0cf352298a78": {
     "model_module": "@jupyter-widgets/controls",
     "model_name": "HTMLModel",
     "state": {
      "_dom_classes": [],
      "_model_module": "@jupyter-widgets/controls",
      "_model_module_version": "1.5.0",
      "_model_name": "HTMLModel",
      "_view_count": null,
      "_view_module": "@jupyter-widgets/controls",
      "_view_module_version": "1.5.0",
      "_view_name": "HTMLView",
      "description": "",
      "description_tooltip": null,
      "layout": "IPY_MODEL_5b048defb8804314beeb66292732831c",
      "placeholder": "​",
      "style": "IPY_MODEL_5c657e8e076c4725902f042152c5c0c1",
      "value": " 75% 117/157 [00:00&lt;00:00, 367.18it/s]"
     }
    },
    "486c3c3438574bffb7e645eddf06232f": {
     "model_module": "@jupyter-widgets/controls",
     "model_name": "DescriptionStyleModel",
     "state": {
      "_model_module": "@jupyter-widgets/controls",
      "_model_module_version": "1.5.0",
      "_model_name": "DescriptionStyleModel",
      "_view_count": null,
      "_view_module": "@jupyter-widgets/base",
      "_view_module_version": "1.2.0",
      "_view_name": "StyleView",
      "description_width": ""
     }
    },
    "4d1544cdc04b4f288282ab70356290e0": {
     "model_module": "@jupyter-widgets/base",
     "model_name": "LayoutModel",
     "state": {
      "_model_module": "@jupyter-widgets/base",
      "_model_module_version": "1.2.0",
      "_model_name": "LayoutModel",
      "_view_count": null,
      "_view_module": "@jupyter-widgets/base",
      "_view_module_version": "1.2.0",
      "_view_name": "LayoutView",
      "align_content": null,
      "align_items": null,
      "align_self": null,
      "border": null,
      "bottom": null,
      "display": null,
      "flex": null,
      "flex_flow": null,
      "grid_area": null,
      "grid_auto_columns": null,
      "grid_auto_flow": null,
      "grid_auto_rows": null,
      "grid_column": null,
      "grid_gap": null,
      "grid_row": null,
      "grid_template_areas": null,
      "grid_template_columns": null,
      "grid_template_rows": null,
      "height": null,
      "justify_content": null,
      "justify_items": null,
      "left": null,
      "margin": null,
      "max_height": null,
      "max_width": null,
      "min_height": null,
      "min_width": null,
      "object_fit": null,
      "object_position": null,
      "order": null,
      "overflow": null,
      "overflow_x": null,
      "overflow_y": null,
      "padding": null,
      "right": null,
      "top": null,
      "visibility": null,
      "width": null
     }
    },
    "505b0bdc1156424d93559774436a857a": {
     "model_module": "@jupyter-widgets/controls",
     "model_name": "IntProgressModel",
     "state": {
      "_dom_classes": [],
      "_model_module": "@jupyter-widgets/controls",
      "_model_module_version": "1.5.0",
      "_model_name": "IntProgressModel",
      "_view_count": null,
      "_view_module": "@jupyter-widgets/controls",
      "_view_module_version": "1.5.0",
      "_view_name": "ProgressView",
      "bar_style": "",
      "description": "Epoch 1",
      "description_tooltip": null,
      "layout": "IPY_MODEL_0fa8c073e21240f2bed836042c65495f",
      "max": 625,
      "min": 0,
      "orientation": "horizontal",
      "style": "IPY_MODEL_55c6201e2ae3499b919ac1b174829033",
      "value": 612
     }
    },
    "50b7b28a23b147589c89843f7eb1aeb9": {
     "model_module": "@jupyter-widgets/controls",
     "model_name": "DescriptionStyleModel",
     "state": {
      "_model_module": "@jupyter-widgets/controls",
      "_model_module_version": "1.5.0",
      "_model_name": "DescriptionStyleModel",
      "_view_count": null,
      "_view_module": "@jupyter-widgets/base",
      "_view_module_version": "1.2.0",
      "_view_name": "StyleView",
      "description_width": ""
     }
    },
    "51c8008838b946e7b458c297094d55c7": {
     "model_module": "@jupyter-widgets/controls",
     "model_name": "IntProgressModel",
     "state": {
      "_dom_classes": [],
      "_model_module": "@jupyter-widgets/controls",
      "_model_module_version": "1.5.0",
      "_model_name": "IntProgressModel",
      "_view_count": null,
      "_view_module": "@jupyter-widgets/controls",
      "_view_module_version": "1.5.0",
      "_view_name": "ProgressView",
      "bar_style": "",
      "description": "",
      "description_tooltip": null,
      "layout": "IPY_MODEL_12d68a952e014224948397004b1512e8",
      "max": 157,
      "min": 0,
      "orientation": "horizontal",
      "style": "IPY_MODEL_67a6c81434d94b4fbbb9d92248747d14",
      "value": 119
     }
    },
    "53a885ed927d4beea0b9c37c13984b1a": {
     "model_module": "@jupyter-widgets/base",
     "model_name": "LayoutModel",
     "state": {
      "_model_module": "@jupyter-widgets/base",
      "_model_module_version": "1.2.0",
      "_model_name": "LayoutModel",
      "_view_count": null,
      "_view_module": "@jupyter-widgets/base",
      "_view_module_version": "1.2.0",
      "_view_name": "LayoutView",
      "align_content": null,
      "align_items": null,
      "align_self": null,
      "border": null,
      "bottom": null,
      "display": null,
      "flex": null,
      "flex_flow": null,
      "grid_area": null,
      "grid_auto_columns": null,
      "grid_auto_flow": null,
      "grid_auto_rows": null,
      "grid_column": null,
      "grid_gap": null,
      "grid_row": null,
      "grid_template_areas": null,
      "grid_template_columns": null,
      "grid_template_rows": null,
      "height": null,
      "justify_content": null,
      "justify_items": null,
      "left": null,
      "margin": null,
      "max_height": null,
      "max_width": null,
      "min_height": null,
      "min_width": null,
      "object_fit": null,
      "object_position": null,
      "order": null,
      "overflow": null,
      "overflow_x": null,
      "overflow_y": null,
      "padding": null,
      "right": null,
      "top": null,
      "visibility": null,
      "width": null
     }
    },
    "55c6201e2ae3499b919ac1b174829033": {
     "model_module": "@jupyter-widgets/controls",
     "model_name": "ProgressStyleModel",
     "state": {
      "_model_module": "@jupyter-widgets/controls",
      "_model_module_version": "1.5.0",
      "_model_name": "ProgressStyleModel",
      "_view_count": null,
      "_view_module": "@jupyter-widgets/base",
      "_view_module_version": "1.2.0",
      "_view_name": "StyleView",
      "bar_color": null,
      "description_width": "initial"
     }
    },
    "5647ba43ca664eacb2383bb9a3d5c141": {
     "model_module": "@jupyter-widgets/controls",
     "model_name": "IntProgressModel",
     "state": {
      "_dom_classes": [],
      "_model_module": "@jupyter-widgets/controls",
      "_model_module_version": "1.5.0",
      "_model_name": "IntProgressModel",
      "_view_count": null,
      "_view_module": "@jupyter-widgets/controls",
      "_view_module_version": "1.5.0",
      "_view_name": "ProgressView",
      "bar_style": "",
      "description": "Epoch 2",
      "description_tooltip": null,
      "layout": "IPY_MODEL_7621795467b04fe8a3e501ac12fd0597",
      "max": 625,
      "min": 0,
      "orientation": "horizontal",
      "style": "IPY_MODEL_3f976cdce8db49308e30f04bdff17d2e",
      "value": 620
     }
    },
    "56f2a6b4f6eb4c26a2e37efe566c5dbb": {
     "model_module": "@jupyter-widgets/base",
     "model_name": "LayoutModel",
     "state": {
      "_model_module": "@jupyter-widgets/base",
      "_model_module_version": "1.2.0",
      "_model_name": "LayoutModel",
      "_view_count": null,
      "_view_module": "@jupyter-widgets/base",
      "_view_module_version": "1.2.0",
      "_view_name": "LayoutView",
      "align_content": null,
      "align_items": null,
      "align_self": null,
      "border": null,
      "bottom": null,
      "display": null,
      "flex": null,
      "flex_flow": null,
      "grid_area": null,
      "grid_auto_columns": null,
      "grid_auto_flow": null,
      "grid_auto_rows": null,
      "grid_column": null,
      "grid_gap": null,
      "grid_row": null,
      "grid_template_areas": null,
      "grid_template_columns": null,
      "grid_template_rows": null,
      "height": null,
      "justify_content": null,
      "justify_items": null,
      "left": null,
      "margin": null,
      "max_height": null,
      "max_width": null,
      "min_height": null,
      "min_width": null,
      "object_fit": null,
      "object_position": null,
      "order": null,
      "overflow": null,
      "overflow_x": null,
      "overflow_y": null,
      "padding": null,
      "right": null,
      "top": null,
      "visibility": null,
      "width": null
     }
    },
    "5951ccd5305a43bcbaed8ffaa27e7b04": {
     "model_module": "@jupyter-widgets/controls",
     "model_name": "IntProgressModel",
     "state": {
      "_dom_classes": [],
      "_model_module": "@jupyter-widgets/controls",
      "_model_module_version": "1.5.0",
      "_model_name": "IntProgressModel",
      "_view_count": null,
      "_view_module": "@jupyter-widgets/controls",
      "_view_module_version": "1.5.0",
      "_view_name": "ProgressView",
      "bar_style": "",
      "description": "",
      "description_tooltip": null,
      "layout": "IPY_MODEL_7d760dd5378443a5a042df6428280197",
      "max": 157,
      "min": 0,
      "orientation": "horizontal",
      "style": "IPY_MODEL_80c3b7c22e9741c4b95c08469dab74a7",
      "value": 115
     }
    },
    "599330002e4649b3a0d494d97c838b0f": {
     "model_module": "@jupyter-widgets/controls",
     "model_name": "DescriptionStyleModel",
     "state": {
      "_model_module": "@jupyter-widgets/controls",
      "_model_module_version": "1.5.0",
      "_model_name": "DescriptionStyleModel",
      "_view_count": null,
      "_view_module": "@jupyter-widgets/base",
      "_view_module_version": "1.2.0",
      "_view_name": "StyleView",
      "description_width": ""
     }
    },
    "5b048defb8804314beeb66292732831c": {
     "model_module": "@jupyter-widgets/base",
     "model_name": "LayoutModel",
     "state": {
      "_model_module": "@jupyter-widgets/base",
      "_model_module_version": "1.2.0",
      "_model_name": "LayoutModel",
      "_view_count": null,
      "_view_module": "@jupyter-widgets/base",
      "_view_module_version": "1.2.0",
      "_view_name": "LayoutView",
      "align_content": null,
      "align_items": null,
      "align_self": null,
      "border": null,
      "bottom": null,
      "display": null,
      "flex": null,
      "flex_flow": null,
      "grid_area": null,
      "grid_auto_columns": null,
      "grid_auto_flow": null,
      "grid_auto_rows": null,
      "grid_column": null,
      "grid_gap": null,
      "grid_row": null,
      "grid_template_areas": null,
      "grid_template_columns": null,
      "grid_template_rows": null,
      "height": null,
      "justify_content": null,
      "justify_items": null,
      "left": null,
      "margin": null,
      "max_height": null,
      "max_width": null,
      "min_height": null,
      "min_width": null,
      "object_fit": null,
      "object_position": null,
      "order": null,
      "overflow": null,
      "overflow_x": null,
      "overflow_y": null,
      "padding": null,
      "right": null,
      "top": null,
      "visibility": null,
      "width": null
     }
    },
    "5bd188a5a4734871a959de0bceafa7d2": {
     "model_module": "@jupyter-widgets/controls",
     "model_name": "ProgressStyleModel",
     "state": {
      "_model_module": "@jupyter-widgets/controls",
      "_model_module_version": "1.5.0",
      "_model_name": "ProgressStyleModel",
      "_view_count": null,
      "_view_module": "@jupyter-widgets/base",
      "_view_module_version": "1.2.0",
      "_view_name": "StyleView",
      "bar_color": null,
      "description_width": "initial"
     }
    },
    "5c657e8e076c4725902f042152c5c0c1": {
     "model_module": "@jupyter-widgets/controls",
     "model_name": "DescriptionStyleModel",
     "state": {
      "_model_module": "@jupyter-widgets/controls",
      "_model_module_version": "1.5.0",
      "_model_name": "DescriptionStyleModel",
      "_view_count": null,
      "_view_module": "@jupyter-widgets/base",
      "_view_module_version": "1.2.0",
      "_view_name": "StyleView",
      "description_width": ""
     }
    },
    "5fd0d9a2aa0c4ae48111ffc5b43f42d1": {
     "model_module": "@jupyter-widgets/controls",
     "model_name": "HBoxModel",
     "state": {
      "_dom_classes": [],
      "_model_module": "@jupyter-widgets/controls",
      "_model_module_version": "1.5.0",
      "_model_name": "HBoxModel",
      "_view_count": null,
      "_view_module": "@jupyter-widgets/controls",
      "_view_module_version": "1.5.0",
      "_view_name": "HBoxView",
      "box_style": "",
      "children": [
       "IPY_MODEL_23c157257dd64b9dade29042a73727ec",
       "IPY_MODEL_a1795ea72f1a4fd88b3b1f475a83f03d"
      ],
      "layout": "IPY_MODEL_6a5349307f5446b6b4db92e82b391333"
     }
    },
    "603eebad090b46b99cef2107b447bf92": {
     "model_module": "@jupyter-widgets/base",
     "model_name": "LayoutModel",
     "state": {
      "_model_module": "@jupyter-widgets/base",
      "_model_module_version": "1.2.0",
      "_model_name": "LayoutModel",
      "_view_count": null,
      "_view_module": "@jupyter-widgets/base",
      "_view_module_version": "1.2.0",
      "_view_name": "LayoutView",
      "align_content": null,
      "align_items": null,
      "align_self": null,
      "border": null,
      "bottom": null,
      "display": null,
      "flex": null,
      "flex_flow": null,
      "grid_area": null,
      "grid_auto_columns": null,
      "grid_auto_flow": null,
      "grid_auto_rows": null,
      "grid_column": null,
      "grid_gap": null,
      "grid_row": null,
      "grid_template_areas": null,
      "grid_template_columns": null,
      "grid_template_rows": null,
      "height": null,
      "justify_content": null,
      "justify_items": null,
      "left": null,
      "margin": null,
      "max_height": null,
      "max_width": null,
      "min_height": null,
      "min_width": null,
      "object_fit": null,
      "object_position": null,
      "order": null,
      "overflow": null,
      "overflow_x": null,
      "overflow_y": null,
      "padding": null,
      "right": null,
      "top": null,
      "visibility": null,
      "width": null
     }
    },
    "61af928b3e024209b147f589b4ac3786": {
     "model_module": "@jupyter-widgets/controls",
     "model_name": "IntProgressModel",
     "state": {
      "_dom_classes": [],
      "_model_module": "@jupyter-widgets/controls",
      "_model_module_version": "1.5.0",
      "_model_name": "IntProgressModel",
      "_view_count": null,
      "_view_module": "@jupyter-widgets/controls",
      "_view_module_version": "1.5.0",
      "_view_name": "ProgressView",
      "bar_style": "",
      "description": "Epoch 3",
      "description_tooltip": null,
      "layout": "IPY_MODEL_0d71e442df584780a368f732658f0341",
      "max": 625,
      "min": 0,
      "orientation": "horizontal",
      "style": "IPY_MODEL_2e02956d567648ce80a06cd4f46d01fe",
      "value": 621
     }
    },
    "62f1ca93721b4e70b390edbb9616bff3": {
     "model_module": "@jupyter-widgets/base",
     "model_name": "LayoutModel",
     "state": {
      "_model_module": "@jupyter-widgets/base",
      "_model_module_version": "1.2.0",
      "_model_name": "LayoutModel",
      "_view_count": null,
      "_view_module": "@jupyter-widgets/base",
      "_view_module_version": "1.2.0",
      "_view_name": "LayoutView",
      "align_content": null,
      "align_items": null,
      "align_self": null,
      "border": null,
      "bottom": null,
      "display": null,
      "flex": null,
      "flex_flow": null,
      "grid_area": null,
      "grid_auto_columns": null,
      "grid_auto_flow": null,
      "grid_auto_rows": null,
      "grid_column": null,
      "grid_gap": null,
      "grid_row": null,
      "grid_template_areas": null,
      "grid_template_columns": null,
      "grid_template_rows": null,
      "height": null,
      "justify_content": null,
      "justify_items": null,
      "left": null,
      "margin": null,
      "max_height": null,
      "max_width": null,
      "min_height": null,
      "min_width": null,
      "object_fit": null,
      "object_position": null,
      "order": null,
      "overflow": null,
      "overflow_x": null,
      "overflow_y": null,
      "padding": null,
      "right": null,
      "top": null,
      "visibility": null,
      "width": null
     }
    },
    "6391881b571b4038bcb03d416f9b570a": {
     "model_module": "@jupyter-widgets/controls",
     "model_name": "HBoxModel",
     "state": {
      "_dom_classes": [],
      "_model_module": "@jupyter-widgets/controls",
      "_model_module_version": "1.5.0",
      "_model_name": "HBoxModel",
      "_view_count": null,
      "_view_module": "@jupyter-widgets/controls",
      "_view_module_version": "1.5.0",
      "_view_name": "HBoxView",
      "box_style": "",
      "children": [
       "IPY_MODEL_d84ab2675e5840e4b885a0e6209865e4",
       "IPY_MODEL_017cf135cdde41efae1e609a8920eed3"
      ],
      "layout": "IPY_MODEL_975ece13f561432fbd17a5b8dd0468d9"
     }
    },
    "63d8b644d4f54d5e94cdf7234ffe916c": {
     "model_module": "@jupyter-widgets/controls",
     "model_name": "ProgressStyleModel",
     "state": {
      "_model_module": "@jupyter-widgets/controls",
      "_model_module_version": "1.5.0",
      "_model_name": "ProgressStyleModel",
      "_view_count": null,
      "_view_module": "@jupyter-widgets/base",
      "_view_module_version": "1.2.0",
      "_view_name": "StyleView",
      "bar_color": null,
      "description_width": ""
     }
    },
    "642081a23d5b4e198f71fcec6474d5f7": {
     "model_module": "@jupyter-widgets/controls",
     "model_name": "HTMLModel",
     "state": {
      "_dom_classes": [],
      "_model_module": "@jupyter-widgets/controls",
      "_model_module_version": "1.5.0",
      "_model_name": "HTMLModel",
      "_view_count": null,
      "_view_module": "@jupyter-widgets/controls",
      "_view_module_version": "1.5.0",
      "_view_name": "HTMLView",
      "description": "",
      "description_tooltip": null,
      "layout": "IPY_MODEL_a73e2d5df87347b9b9168fdaca5daff0",
      "placeholder": "​",
      "style": "IPY_MODEL_ece51029905e4801a5873ffce8becf9c",
      "value": " 99% 620/625 [00:04&lt;00:00, 134.67it/s, loss=0.0939]"
     }
    },
    "6497a11205324290bf35e02afd512a25": {
     "model_module": "@jupyter-widgets/base",
     "model_name": "LayoutModel",
     "state": {
      "_model_module": "@jupyter-widgets/base",
      "_model_module_version": "1.2.0",
      "_model_name": "LayoutModel",
      "_view_count": null,
      "_view_module": "@jupyter-widgets/base",
      "_view_module_version": "1.2.0",
      "_view_name": "LayoutView",
      "align_content": null,
      "align_items": null,
      "align_self": null,
      "border": null,
      "bottom": null,
      "display": null,
      "flex": null,
      "flex_flow": null,
      "grid_area": null,
      "grid_auto_columns": null,
      "grid_auto_flow": null,
      "grid_auto_rows": null,
      "grid_column": null,
      "grid_gap": null,
      "grid_row": null,
      "grid_template_areas": null,
      "grid_template_columns": null,
      "grid_template_rows": null,
      "height": null,
      "justify_content": null,
      "justify_items": null,
      "left": null,
      "margin": null,
      "max_height": null,
      "max_width": null,
      "min_height": null,
      "min_width": null,
      "object_fit": null,
      "object_position": null,
      "order": null,
      "overflow": null,
      "overflow_x": null,
      "overflow_y": null,
      "padding": null,
      "right": null,
      "top": null,
      "visibility": null,
      "width": null
     }
    },
    "655357e7ab5143fd8a3bf04c1b0d205d": {
     "model_module": "@jupyter-widgets/base",
     "model_name": "LayoutModel",
     "state": {
      "_model_module": "@jupyter-widgets/base",
      "_model_module_version": "1.2.0",
      "_model_name": "LayoutModel",
      "_view_count": null,
      "_view_module": "@jupyter-widgets/base",
      "_view_module_version": "1.2.0",
      "_view_name": "LayoutView",
      "align_content": null,
      "align_items": null,
      "align_self": null,
      "border": null,
      "bottom": null,
      "display": null,
      "flex": null,
      "flex_flow": null,
      "grid_area": null,
      "grid_auto_columns": null,
      "grid_auto_flow": null,
      "grid_auto_rows": null,
      "grid_column": null,
      "grid_gap": null,
      "grid_row": null,
      "grid_template_areas": null,
      "grid_template_columns": null,
      "grid_template_rows": null,
      "height": null,
      "justify_content": null,
      "justify_items": null,
      "left": null,
      "margin": null,
      "max_height": null,
      "max_width": null,
      "min_height": null,
      "min_width": null,
      "object_fit": null,
      "object_position": null,
      "order": null,
      "overflow": null,
      "overflow_x": null,
      "overflow_y": null,
      "padding": null,
      "right": null,
      "top": null,
      "visibility": null,
      "width": null
     }
    },
    "66ed3496c2f3441f81785052b10b6804": {
     "model_module": "@jupyter-widgets/controls",
     "model_name": "HBoxModel",
     "state": {
      "_dom_classes": [],
      "_model_module": "@jupyter-widgets/controls",
      "_model_module_version": "1.5.0",
      "_model_name": "HBoxModel",
      "_view_count": null,
      "_view_module": "@jupyter-widgets/controls",
      "_view_module_version": "1.5.0",
      "_view_name": "HBoxView",
      "box_style": "",
      "children": [
       "IPY_MODEL_c68f424ce1714d7bbc6e473fec8bfba5",
       "IPY_MODEL_e5b5cfeb14274f9383bac5e5379b866b"
      ],
      "layout": "IPY_MODEL_7e95f116a4714d288e0f8be2649ce540"
     }
    },
    "674d28aa120d4f4bbdfebe239f40fd51": {
     "model_module": "@jupyter-widgets/controls",
     "model_name": "IntProgressModel",
     "state": {
      "_dom_classes": [],
      "_model_module": "@jupyter-widgets/controls",
      "_model_module_version": "1.5.0",
      "_model_name": "IntProgressModel",
      "_view_count": null,
      "_view_module": "@jupyter-widgets/controls",
      "_view_module_version": "1.5.0",
      "_view_name": "ProgressView",
      "bar_style": "",
      "description": "Epoch 4",
      "description_tooltip": null,
      "layout": "IPY_MODEL_42919307923849b9bfa495e3e3f08d1a",
      "max": 625,
      "min": 0,
      "orientation": "horizontal",
      "style": "IPY_MODEL_2ce2409494aa4a92a4745b71a67d75b9",
      "value": 625
     }
    },
    "67a6c81434d94b4fbbb9d92248747d14": {
     "model_module": "@jupyter-widgets/controls",
     "model_name": "ProgressStyleModel",
     "state": {
      "_model_module": "@jupyter-widgets/controls",
      "_model_module_version": "1.5.0",
      "_model_name": "ProgressStyleModel",
      "_view_count": null,
      "_view_module": "@jupyter-widgets/base",
      "_view_module_version": "1.2.0",
      "_view_name": "StyleView",
      "bar_color": null,
      "description_width": ""
     }
    },
    "68356553ad534793867e1335802f6c94": {
     "model_module": "@jupyter-widgets/base",
     "model_name": "LayoutModel",
     "state": {
      "_model_module": "@jupyter-widgets/base",
      "_model_module_version": "1.2.0",
      "_model_name": "LayoutModel",
      "_view_count": null,
      "_view_module": "@jupyter-widgets/base",
      "_view_module_version": "1.2.0",
      "_view_name": "LayoutView",
      "align_content": null,
      "align_items": null,
      "align_self": null,
      "border": null,
      "bottom": null,
      "display": null,
      "flex": null,
      "flex_flow": null,
      "grid_area": null,
      "grid_auto_columns": null,
      "grid_auto_flow": null,
      "grid_auto_rows": null,
      "grid_column": null,
      "grid_gap": null,
      "grid_row": null,
      "grid_template_areas": null,
      "grid_template_columns": null,
      "grid_template_rows": null,
      "height": null,
      "justify_content": null,
      "justify_items": null,
      "left": null,
      "margin": null,
      "max_height": null,
      "max_width": null,
      "min_height": null,
      "min_width": null,
      "object_fit": null,
      "object_position": null,
      "order": null,
      "overflow": null,
      "overflow_x": null,
      "overflow_y": null,
      "padding": null,
      "right": null,
      "top": null,
      "visibility": null,
      "width": null
     }
    },
    "69292f97735b459ab4ed5a7edc297034": {
     "model_module": "@jupyter-widgets/base",
     "model_name": "LayoutModel",
     "state": {
      "_model_module": "@jupyter-widgets/base",
      "_model_module_version": "1.2.0",
      "_model_name": "LayoutModel",
      "_view_count": null,
      "_view_module": "@jupyter-widgets/base",
      "_view_module_version": "1.2.0",
      "_view_name": "LayoutView",
      "align_content": null,
      "align_items": null,
      "align_self": null,
      "border": null,
      "bottom": null,
      "display": null,
      "flex": null,
      "flex_flow": null,
      "grid_area": null,
      "grid_auto_columns": null,
      "grid_auto_flow": null,
      "grid_auto_rows": null,
      "grid_column": null,
      "grid_gap": null,
      "grid_row": null,
      "grid_template_areas": null,
      "grid_template_columns": null,
      "grid_template_rows": null,
      "height": null,
      "justify_content": null,
      "justify_items": null,
      "left": null,
      "margin": null,
      "max_height": null,
      "max_width": null,
      "min_height": null,
      "min_width": null,
      "object_fit": null,
      "object_position": null,
      "order": null,
      "overflow": null,
      "overflow_x": null,
      "overflow_y": null,
      "padding": null,
      "right": null,
      "top": null,
      "visibility": null,
      "width": null
     }
    },
    "69406851f61740b38c4b60101aa738f6": {
     "model_module": "@jupyter-widgets/base",
     "model_name": "LayoutModel",
     "state": {
      "_model_module": "@jupyter-widgets/base",
      "_model_module_version": "1.2.0",
      "_model_name": "LayoutModel",
      "_view_count": null,
      "_view_module": "@jupyter-widgets/base",
      "_view_module_version": "1.2.0",
      "_view_name": "LayoutView",
      "align_content": null,
      "align_items": null,
      "align_self": null,
      "border": null,
      "bottom": null,
      "display": null,
      "flex": null,
      "flex_flow": null,
      "grid_area": null,
      "grid_auto_columns": null,
      "grid_auto_flow": null,
      "grid_auto_rows": null,
      "grid_column": null,
      "grid_gap": null,
      "grid_row": null,
      "grid_template_areas": null,
      "grid_template_columns": null,
      "grid_template_rows": null,
      "height": null,
      "justify_content": null,
      "justify_items": null,
      "left": null,
      "margin": null,
      "max_height": null,
      "max_width": null,
      "min_height": null,
      "min_width": null,
      "object_fit": null,
      "object_position": null,
      "order": null,
      "overflow": null,
      "overflow_x": null,
      "overflow_y": null,
      "padding": null,
      "right": null,
      "top": null,
      "visibility": null,
      "width": null
     }
    },
    "6a5349307f5446b6b4db92e82b391333": {
     "model_module": "@jupyter-widgets/base",
     "model_name": "LayoutModel",
     "state": {
      "_model_module": "@jupyter-widgets/base",
      "_model_module_version": "1.2.0",
      "_model_name": "LayoutModel",
      "_view_count": null,
      "_view_module": "@jupyter-widgets/base",
      "_view_module_version": "1.2.0",
      "_view_name": "LayoutView",
      "align_content": null,
      "align_items": null,
      "align_self": null,
      "border": null,
      "bottom": null,
      "display": null,
      "flex": null,
      "flex_flow": null,
      "grid_area": null,
      "grid_auto_columns": null,
      "grid_auto_flow": null,
      "grid_auto_rows": null,
      "grid_column": null,
      "grid_gap": null,
      "grid_row": null,
      "grid_template_areas": null,
      "grid_template_columns": null,
      "grid_template_rows": null,
      "height": null,
      "justify_content": null,
      "justify_items": null,
      "left": null,
      "margin": null,
      "max_height": null,
      "max_width": null,
      "min_height": null,
      "min_width": null,
      "object_fit": null,
      "object_position": null,
      "order": null,
      "overflow": null,
      "overflow_x": null,
      "overflow_y": null,
      "padding": null,
      "right": null,
      "top": null,
      "visibility": null,
      "width": null
     }
    },
    "6df18a7271734224b52c77bcb22c372e": {
     "model_module": "@jupyter-widgets/controls",
     "model_name": "HBoxModel",
     "state": {
      "_dom_classes": [],
      "_model_module": "@jupyter-widgets/controls",
      "_model_module_version": "1.5.0",
      "_model_name": "HBoxModel",
      "_view_count": null,
      "_view_module": "@jupyter-widgets/controls",
      "_view_module_version": "1.5.0",
      "_view_name": "HBoxView",
      "box_style": "",
      "children": [
       "IPY_MODEL_0a52ffeb7e0248949f07ba0456153c44",
       "IPY_MODEL_47ec84fd7e7f49efb7cf0cf352298a78"
      ],
      "layout": "IPY_MODEL_e980266ef9864f16a70d95c4a2c07a48"
     }
    },
    "6f01964274f7414e819b3cc48835975d": {
     "model_module": "@jupyter-widgets/base",
     "model_name": "LayoutModel",
     "state": {
      "_model_module": "@jupyter-widgets/base",
      "_model_module_version": "1.2.0",
      "_model_name": "LayoutModel",
      "_view_count": null,
      "_view_module": "@jupyter-widgets/base",
      "_view_module_version": "1.2.0",
      "_view_name": "LayoutView",
      "align_content": null,
      "align_items": null,
      "align_self": null,
      "border": null,
      "bottom": null,
      "display": null,
      "flex": null,
      "flex_flow": null,
      "grid_area": null,
      "grid_auto_columns": null,
      "grid_auto_flow": null,
      "grid_auto_rows": null,
      "grid_column": null,
      "grid_gap": null,
      "grid_row": null,
      "grid_template_areas": null,
      "grid_template_columns": null,
      "grid_template_rows": null,
      "height": null,
      "justify_content": null,
      "justify_items": null,
      "left": null,
      "margin": null,
      "max_height": null,
      "max_width": null,
      "min_height": null,
      "min_width": null,
      "object_fit": null,
      "object_position": null,
      "order": null,
      "overflow": null,
      "overflow_x": null,
      "overflow_y": null,
      "padding": null,
      "right": null,
      "top": null,
      "visibility": null,
      "width": null
     }
    },
    "6f9350ffd68d4656bfc6b03f3bf5f15c": {
     "model_module": "@jupyter-widgets/controls",
     "model_name": "HTMLModel",
     "state": {
      "_dom_classes": [],
      "_model_module": "@jupyter-widgets/controls",
      "_model_module_version": "1.5.0",
      "_model_name": "HTMLModel",
      "_view_count": null,
      "_view_module": "@jupyter-widgets/controls",
      "_view_module_version": "1.5.0",
      "_view_name": "HTMLView",
      "description": "",
      "description_tooltip": null,
      "layout": "IPY_MODEL_0b540dc6912b430ebac688c6c721bb33",
      "placeholder": "​",
      "style": "IPY_MODEL_706c167648264fb88836f343cbad79a2",
      "value": " 76% 119/157 [00:00&lt;00:00, 364.41it/s]"
     }
    },
    "706c167648264fb88836f343cbad79a2": {
     "model_module": "@jupyter-widgets/controls",
     "model_name": "DescriptionStyleModel",
     "state": {
      "_model_module": "@jupyter-widgets/controls",
      "_model_module_version": "1.5.0",
      "_model_name": "DescriptionStyleModel",
      "_view_count": null,
      "_view_module": "@jupyter-widgets/base",
      "_view_module_version": "1.2.0",
      "_view_name": "StyleView",
      "description_width": ""
     }
    },
    "734ed14957944459bbe5522fac6c2b9d": {
     "model_module": "@jupyter-widgets/controls",
     "model_name": "DescriptionStyleModel",
     "state": {
      "_model_module": "@jupyter-widgets/controls",
      "_model_module_version": "1.5.0",
      "_model_name": "DescriptionStyleModel",
      "_view_count": null,
      "_view_module": "@jupyter-widgets/base",
      "_view_module_version": "1.2.0",
      "_view_name": "StyleView",
      "description_width": ""
     }
    },
    "75bd7410ea214d96b30d098259cfb64a": {
     "model_module": "@jupyter-widgets/base",
     "model_name": "LayoutModel",
     "state": {
      "_model_module": "@jupyter-widgets/base",
      "_model_module_version": "1.2.0",
      "_model_name": "LayoutModel",
      "_view_count": null,
      "_view_module": "@jupyter-widgets/base",
      "_view_module_version": "1.2.0",
      "_view_name": "LayoutView",
      "align_content": null,
      "align_items": null,
      "align_self": null,
      "border": null,
      "bottom": null,
      "display": null,
      "flex": null,
      "flex_flow": null,
      "grid_area": null,
      "grid_auto_columns": null,
      "grid_auto_flow": null,
      "grid_auto_rows": null,
      "grid_column": null,
      "grid_gap": null,
      "grid_row": null,
      "grid_template_areas": null,
      "grid_template_columns": null,
      "grid_template_rows": null,
      "height": null,
      "justify_content": null,
      "justify_items": null,
      "left": null,
      "margin": null,
      "max_height": null,
      "max_width": null,
      "min_height": null,
      "min_width": null,
      "object_fit": null,
      "object_position": null,
      "order": null,
      "overflow": null,
      "overflow_x": null,
      "overflow_y": null,
      "padding": null,
      "right": null,
      "top": null,
      "visibility": null,
      "width": null
     }
    },
    "7621795467b04fe8a3e501ac12fd0597": {
     "model_module": "@jupyter-widgets/base",
     "model_name": "LayoutModel",
     "state": {
      "_model_module": "@jupyter-widgets/base",
      "_model_module_version": "1.2.0",
      "_model_name": "LayoutModel",
      "_view_count": null,
      "_view_module": "@jupyter-widgets/base",
      "_view_module_version": "1.2.0",
      "_view_name": "LayoutView",
      "align_content": null,
      "align_items": null,
      "align_self": null,
      "border": null,
      "bottom": null,
      "display": null,
      "flex": null,
      "flex_flow": null,
      "grid_area": null,
      "grid_auto_columns": null,
      "grid_auto_flow": null,
      "grid_auto_rows": null,
      "grid_column": null,
      "grid_gap": null,
      "grid_row": null,
      "grid_template_areas": null,
      "grid_template_columns": null,
      "grid_template_rows": null,
      "height": null,
      "justify_content": null,
      "justify_items": null,
      "left": null,
      "margin": null,
      "max_height": null,
      "max_width": null,
      "min_height": null,
      "min_width": null,
      "object_fit": null,
      "object_position": null,
      "order": null,
      "overflow": null,
      "overflow_x": null,
      "overflow_y": null,
      "padding": null,
      "right": null,
      "top": null,
      "visibility": null,
      "width": null
     }
    },
    "768df21082174a398a90df5661f0b784": {
     "model_module": "@jupyter-widgets/controls",
     "model_name": "HTMLModel",
     "state": {
      "_dom_classes": [],
      "_model_module": "@jupyter-widgets/controls",
      "_model_module_version": "1.5.0",
      "_model_name": "HTMLModel",
      "_view_count": null,
      "_view_module": "@jupyter-widgets/controls",
      "_view_module_version": "1.5.0",
      "_view_name": "HTMLView",
      "description": "",
      "description_tooltip": null,
      "layout": "IPY_MODEL_53a885ed927d4beea0b9c37c13984b1a",
      "placeholder": "​",
      "style": "IPY_MODEL_50b7b28a23b147589c89843f7eb1aeb9",
      "value": " 96% 150/157 [00:00&lt;00:00, 358.00it/s]"
     }
    },
    "7a206261c92a461788cbb4dcda420991": {
     "model_module": "@jupyter-widgets/base",
     "model_name": "LayoutModel",
     "state": {
      "_model_module": "@jupyter-widgets/base",
      "_model_module_version": "1.2.0",
      "_model_name": "LayoutModel",
      "_view_count": null,
      "_view_module": "@jupyter-widgets/base",
      "_view_module_version": "1.2.0",
      "_view_name": "LayoutView",
      "align_content": null,
      "align_items": null,
      "align_self": null,
      "border": null,
      "bottom": null,
      "display": null,
      "flex": null,
      "flex_flow": null,
      "grid_area": null,
      "grid_auto_columns": null,
      "grid_auto_flow": null,
      "grid_auto_rows": null,
      "grid_column": null,
      "grid_gap": null,
      "grid_row": null,
      "grid_template_areas": null,
      "grid_template_columns": null,
      "grid_template_rows": null,
      "height": null,
      "justify_content": null,
      "justify_items": null,
      "left": null,
      "margin": null,
      "max_height": null,
      "max_width": null,
      "min_height": null,
      "min_width": null,
      "object_fit": null,
      "object_position": null,
      "order": null,
      "overflow": null,
      "overflow_x": null,
      "overflow_y": null,
      "padding": null,
      "right": null,
      "top": null,
      "visibility": null,
      "width": null
     }
    },
    "7a33165267414bc1aaf574ee6e7c3921": {
     "model_module": "@jupyter-widgets/base",
     "model_name": "LayoutModel",
     "state": {
      "_model_module": "@jupyter-widgets/base",
      "_model_module_version": "1.2.0",
      "_model_name": "LayoutModel",
      "_view_count": null,
      "_view_module": "@jupyter-widgets/base",
      "_view_module_version": "1.2.0",
      "_view_name": "LayoutView",
      "align_content": null,
      "align_items": null,
      "align_self": null,
      "border": null,
      "bottom": null,
      "display": null,
      "flex": null,
      "flex_flow": null,
      "grid_area": null,
      "grid_auto_columns": null,
      "grid_auto_flow": null,
      "grid_auto_rows": null,
      "grid_column": null,
      "grid_gap": null,
      "grid_row": null,
      "grid_template_areas": null,
      "grid_template_columns": null,
      "grid_template_rows": null,
      "height": null,
      "justify_content": null,
      "justify_items": null,
      "left": null,
      "margin": null,
      "max_height": null,
      "max_width": null,
      "min_height": null,
      "min_width": null,
      "object_fit": null,
      "object_position": null,
      "order": null,
      "overflow": null,
      "overflow_x": null,
      "overflow_y": null,
      "padding": null,
      "right": null,
      "top": null,
      "visibility": null,
      "width": null
     }
    },
    "7b40e426a9a341efb99088b64c600f4f": {
     "model_module": "@jupyter-widgets/controls",
     "model_name": "ProgressStyleModel",
     "state": {
      "_model_module": "@jupyter-widgets/controls",
      "_model_module_version": "1.5.0",
      "_model_name": "ProgressStyleModel",
      "_view_count": null,
      "_view_module": "@jupyter-widgets/base",
      "_view_module_version": "1.2.0",
      "_view_name": "StyleView",
      "bar_color": null,
      "description_width": "initial"
     }
    },
    "7d760dd5378443a5a042df6428280197": {
     "model_module": "@jupyter-widgets/base",
     "model_name": "LayoutModel",
     "state": {
      "_model_module": "@jupyter-widgets/base",
      "_model_module_version": "1.2.0",
      "_model_name": "LayoutModel",
      "_view_count": null,
      "_view_module": "@jupyter-widgets/base",
      "_view_module_version": "1.2.0",
      "_view_name": "LayoutView",
      "align_content": null,
      "align_items": null,
      "align_self": null,
      "border": null,
      "bottom": null,
      "display": null,
      "flex": null,
      "flex_flow": null,
      "grid_area": null,
      "grid_auto_columns": null,
      "grid_auto_flow": null,
      "grid_auto_rows": null,
      "grid_column": null,
      "grid_gap": null,
      "grid_row": null,
      "grid_template_areas": null,
      "grid_template_columns": null,
      "grid_template_rows": null,
      "height": null,
      "justify_content": null,
      "justify_items": null,
      "left": null,
      "margin": null,
      "max_height": null,
      "max_width": null,
      "min_height": null,
      "min_width": null,
      "object_fit": null,
      "object_position": null,
      "order": null,
      "overflow": null,
      "overflow_x": null,
      "overflow_y": null,
      "padding": null,
      "right": null,
      "top": null,
      "visibility": null,
      "width": null
     }
    },
    "7dd7bcddc2674d5599a0a6f598850b8f": {
     "model_module": "@jupyter-widgets/controls",
     "model_name": "HTMLModel",
     "state": {
      "_dom_classes": [],
      "_model_module": "@jupyter-widgets/controls",
      "_model_module_version": "1.5.0",
      "_model_name": "HTMLModel",
      "_view_count": null,
      "_view_module": "@jupyter-widgets/controls",
      "_view_module_version": "1.5.0",
      "_view_name": "HTMLView",
      "description": "",
      "description_tooltip": null,
      "layout": "IPY_MODEL_95e294647bd64668942c4e0b10105c7e",
      "placeholder": "​",
      "style": "IPY_MODEL_9016428933ee4e5cb5f3b0c2862dc729",
      "value": " 99% 621/625 [00:05&lt;00:00, 131.23it/s, loss=0.071]"
     }
    },
    "7e52f67b56834d0c83ec48c359ba378a": {
     "model_module": "@jupyter-widgets/controls",
     "model_name": "IntProgressModel",
     "state": {
      "_dom_classes": [],
      "_model_module": "@jupyter-widgets/controls",
      "_model_module_version": "1.5.0",
      "_model_name": "IntProgressModel",
      "_view_count": null,
      "_view_module": "@jupyter-widgets/controls",
      "_view_module_version": "1.5.0",
      "_view_name": "ProgressView",
      "bar_style": "",
      "description": "Epoch 9",
      "description_tooltip": null,
      "layout": "IPY_MODEL_75bd7410ea214d96b30d098259cfb64a",
      "max": 625,
      "min": 0,
      "orientation": "horizontal",
      "style": "IPY_MODEL_91c7cbd574db4f0ba547ed7b6112d774",
      "value": 621
     }
    },
    "7e95f116a4714d288e0f8be2649ce540": {
     "model_module": "@jupyter-widgets/base",
     "model_name": "LayoutModel",
     "state": {
      "_model_module": "@jupyter-widgets/base",
      "_model_module_version": "1.2.0",
      "_model_name": "LayoutModel",
      "_view_count": null,
      "_view_module": "@jupyter-widgets/base",
      "_view_module_version": "1.2.0",
      "_view_name": "LayoutView",
      "align_content": null,
      "align_items": null,
      "align_self": null,
      "border": null,
      "bottom": null,
      "display": null,
      "flex": null,
      "flex_flow": null,
      "grid_area": null,
      "grid_auto_columns": null,
      "grid_auto_flow": null,
      "grid_auto_rows": null,
      "grid_column": null,
      "grid_gap": null,
      "grid_row": null,
      "grid_template_areas": null,
      "grid_template_columns": null,
      "grid_template_rows": null,
      "height": null,
      "justify_content": null,
      "justify_items": null,
      "left": null,
      "margin": null,
      "max_height": null,
      "max_width": null,
      "min_height": null,
      "min_width": null,
      "object_fit": null,
      "object_position": null,
      "order": null,
      "overflow": null,
      "overflow_x": null,
      "overflow_y": null,
      "padding": null,
      "right": null,
      "top": null,
      "visibility": null,
      "width": null
     }
    },
    "7f75281fd761439b9263526e47eb5a59": {
     "model_module": "@jupyter-widgets/base",
     "model_name": "LayoutModel",
     "state": {
      "_model_module": "@jupyter-widgets/base",
      "_model_module_version": "1.2.0",
      "_model_name": "LayoutModel",
      "_view_count": null,
      "_view_module": "@jupyter-widgets/base",
      "_view_module_version": "1.2.0",
      "_view_name": "LayoutView",
      "align_content": null,
      "align_items": null,
      "align_self": null,
      "border": null,
      "bottom": null,
      "display": null,
      "flex": null,
      "flex_flow": null,
      "grid_area": null,
      "grid_auto_columns": null,
      "grid_auto_flow": null,
      "grid_auto_rows": null,
      "grid_column": null,
      "grid_gap": null,
      "grid_row": null,
      "grid_template_areas": null,
      "grid_template_columns": null,
      "grid_template_rows": null,
      "height": null,
      "justify_content": null,
      "justify_items": null,
      "left": null,
      "margin": null,
      "max_height": null,
      "max_width": null,
      "min_height": null,
      "min_width": null,
      "object_fit": null,
      "object_position": null,
      "order": null,
      "overflow": null,
      "overflow_x": null,
      "overflow_y": null,
      "padding": null,
      "right": null,
      "top": null,
      "visibility": null,
      "width": null
     }
    },
    "7ffa3e4885de477e8f9659eb9d60b84d": {
     "model_module": "@jupyter-widgets/base",
     "model_name": "LayoutModel",
     "state": {
      "_model_module": "@jupyter-widgets/base",
      "_model_module_version": "1.2.0",
      "_model_name": "LayoutModel",
      "_view_count": null,
      "_view_module": "@jupyter-widgets/base",
      "_view_module_version": "1.2.0",
      "_view_name": "LayoutView",
      "align_content": null,
      "align_items": null,
      "align_self": null,
      "border": null,
      "bottom": null,
      "display": null,
      "flex": null,
      "flex_flow": null,
      "grid_area": null,
      "grid_auto_columns": null,
      "grid_auto_flow": null,
      "grid_auto_rows": null,
      "grid_column": null,
      "grid_gap": null,
      "grid_row": null,
      "grid_template_areas": null,
      "grid_template_columns": null,
      "grid_template_rows": null,
      "height": null,
      "justify_content": null,
      "justify_items": null,
      "left": null,
      "margin": null,
      "max_height": null,
      "max_width": null,
      "min_height": null,
      "min_width": null,
      "object_fit": null,
      "object_position": null,
      "order": null,
      "overflow": null,
      "overflow_x": null,
      "overflow_y": null,
      "padding": null,
      "right": null,
      "top": null,
      "visibility": null,
      "width": null
     }
    },
    "8059df93e65e4c5a844f78e5dce24a11": {
     "model_module": "@jupyter-widgets/controls",
     "model_name": "HTMLModel",
     "state": {
      "_dom_classes": [],
      "_model_module": "@jupyter-widgets/controls",
      "_model_module_version": "1.5.0",
      "_model_name": "HTMLModel",
      "_view_count": null,
      "_view_module": "@jupyter-widgets/controls",
      "_view_module_version": "1.5.0",
      "_view_name": "HTMLView",
      "description": "",
      "description_tooltip": null,
      "layout": "IPY_MODEL_dcffb6a41c934d70b381632228befafc",
      "placeholder": "​",
      "style": "IPY_MODEL_38d6bf33433c4a22842b3dca0875d74f",
      "value": " 98% 154/157 [00:00&lt;00:00, 361.44it/s]"
     }
    },
    "80c3b7c22e9741c4b95c08469dab74a7": {
     "model_module": "@jupyter-widgets/controls",
     "model_name": "ProgressStyleModel",
     "state": {
      "_model_module": "@jupyter-widgets/controls",
      "_model_module_version": "1.5.0",
      "_model_name": "ProgressStyleModel",
      "_view_count": null,
      "_view_module": "@jupyter-widgets/base",
      "_view_module_version": "1.2.0",
      "_view_name": "StyleView",
      "bar_color": null,
      "description_width": ""
     }
    },
    "843d8d7154904e468259d950a5e80187": {
     "model_module": "@jupyter-widgets/base",
     "model_name": "LayoutModel",
     "state": {
      "_model_module": "@jupyter-widgets/base",
      "_model_module_version": "1.2.0",
      "_model_name": "LayoutModel",
      "_view_count": null,
      "_view_module": "@jupyter-widgets/base",
      "_view_module_version": "1.2.0",
      "_view_name": "LayoutView",
      "align_content": null,
      "align_items": null,
      "align_self": null,
      "border": null,
      "bottom": null,
      "display": null,
      "flex": null,
      "flex_flow": null,
      "grid_area": null,
      "grid_auto_columns": null,
      "grid_auto_flow": null,
      "grid_auto_rows": null,
      "grid_column": null,
      "grid_gap": null,
      "grid_row": null,
      "grid_template_areas": null,
      "grid_template_columns": null,
      "grid_template_rows": null,
      "height": null,
      "justify_content": null,
      "justify_items": null,
      "left": null,
      "margin": null,
      "max_height": null,
      "max_width": null,
      "min_height": null,
      "min_width": null,
      "object_fit": null,
      "object_position": null,
      "order": null,
      "overflow": null,
      "overflow_x": null,
      "overflow_y": null,
      "padding": null,
      "right": null,
      "top": null,
      "visibility": null,
      "width": null
     }
    },
    "84adebf7c23245f289d8286c3097b214": {
     "model_module": "@jupyter-widgets/base",
     "model_name": "LayoutModel",
     "state": {
      "_model_module": "@jupyter-widgets/base",
      "_model_module_version": "1.2.0",
      "_model_name": "LayoutModel",
      "_view_count": null,
      "_view_module": "@jupyter-widgets/base",
      "_view_module_version": "1.2.0",
      "_view_name": "LayoutView",
      "align_content": null,
      "align_items": null,
      "align_self": null,
      "border": null,
      "bottom": null,
      "display": null,
      "flex": null,
      "flex_flow": null,
      "grid_area": null,
      "grid_auto_columns": null,
      "grid_auto_flow": null,
      "grid_auto_rows": null,
      "grid_column": null,
      "grid_gap": null,
      "grid_row": null,
      "grid_template_areas": null,
      "grid_template_columns": null,
      "grid_template_rows": null,
      "height": null,
      "justify_content": null,
      "justify_items": null,
      "left": null,
      "margin": null,
      "max_height": null,
      "max_width": null,
      "min_height": null,
      "min_width": null,
      "object_fit": null,
      "object_position": null,
      "order": null,
      "overflow": null,
      "overflow_x": null,
      "overflow_y": null,
      "padding": null,
      "right": null,
      "top": null,
      "visibility": null,
      "width": null
     }
    },
    "87338d3fd6e34c729189c6c770abf012": {
     "model_module": "@jupyter-widgets/controls",
     "model_name": "ProgressStyleModel",
     "state": {
      "_model_module": "@jupyter-widgets/controls",
      "_model_module_version": "1.5.0",
      "_model_name": "ProgressStyleModel",
      "_view_count": null,
      "_view_module": "@jupyter-widgets/base",
      "_view_module_version": "1.2.0",
      "_view_name": "StyleView",
      "bar_color": null,
      "description_width": "initial"
     }
    },
    "8a9b99193e3642de93ceb5a9630a6c63": {
     "model_module": "@jupyter-widgets/base",
     "model_name": "LayoutModel",
     "state": {
      "_model_module": "@jupyter-widgets/base",
      "_model_module_version": "1.2.0",
      "_model_name": "LayoutModel",
      "_view_count": null,
      "_view_module": "@jupyter-widgets/base",
      "_view_module_version": "1.2.0",
      "_view_name": "LayoutView",
      "align_content": null,
      "align_items": null,
      "align_self": null,
      "border": null,
      "bottom": null,
      "display": null,
      "flex": null,
      "flex_flow": null,
      "grid_area": null,
      "grid_auto_columns": null,
      "grid_auto_flow": null,
      "grid_auto_rows": null,
      "grid_column": null,
      "grid_gap": null,
      "grid_row": null,
      "grid_template_areas": null,
      "grid_template_columns": null,
      "grid_template_rows": null,
      "height": null,
      "justify_content": null,
      "justify_items": null,
      "left": null,
      "margin": null,
      "max_height": null,
      "max_width": null,
      "min_height": null,
      "min_width": null,
      "object_fit": null,
      "object_position": null,
      "order": null,
      "overflow": null,
      "overflow_x": null,
      "overflow_y": null,
      "padding": null,
      "right": null,
      "top": null,
      "visibility": null,
      "width": null
     }
    },
    "8b1056e953d8401e91b46a643cf44ac4": {
     "model_module": "@jupyter-widgets/base",
     "model_name": "LayoutModel",
     "state": {
      "_model_module": "@jupyter-widgets/base",
      "_model_module_version": "1.2.0",
      "_model_name": "LayoutModel",
      "_view_count": null,
      "_view_module": "@jupyter-widgets/base",
      "_view_module_version": "1.2.0",
      "_view_name": "LayoutView",
      "align_content": null,
      "align_items": null,
      "align_self": null,
      "border": null,
      "bottom": null,
      "display": null,
      "flex": null,
      "flex_flow": null,
      "grid_area": null,
      "grid_auto_columns": null,
      "grid_auto_flow": null,
      "grid_auto_rows": null,
      "grid_column": null,
      "grid_gap": null,
      "grid_row": null,
      "grid_template_areas": null,
      "grid_template_columns": null,
      "grid_template_rows": null,
      "height": null,
      "justify_content": null,
      "justify_items": null,
      "left": null,
      "margin": null,
      "max_height": null,
      "max_width": null,
      "min_height": null,
      "min_width": null,
      "object_fit": null,
      "object_position": null,
      "order": null,
      "overflow": null,
      "overflow_x": null,
      "overflow_y": null,
      "padding": null,
      "right": null,
      "top": null,
      "visibility": null,
      "width": null
     }
    },
    "8e511a47fff34ccfad4ae3bbc5a43370": {
     "model_module": "@jupyter-widgets/base",
     "model_name": "LayoutModel",
     "state": {
      "_model_module": "@jupyter-widgets/base",
      "_model_module_version": "1.2.0",
      "_model_name": "LayoutModel",
      "_view_count": null,
      "_view_module": "@jupyter-widgets/base",
      "_view_module_version": "1.2.0",
      "_view_name": "LayoutView",
      "align_content": null,
      "align_items": null,
      "align_self": null,
      "border": null,
      "bottom": null,
      "display": null,
      "flex": null,
      "flex_flow": null,
      "grid_area": null,
      "grid_auto_columns": null,
      "grid_auto_flow": null,
      "grid_auto_rows": null,
      "grid_column": null,
      "grid_gap": null,
      "grid_row": null,
      "grid_template_areas": null,
      "grid_template_columns": null,
      "grid_template_rows": null,
      "height": null,
      "justify_content": null,
      "justify_items": null,
      "left": null,
      "margin": null,
      "max_height": null,
      "max_width": null,
      "min_height": null,
      "min_width": null,
      "object_fit": null,
      "object_position": null,
      "order": null,
      "overflow": null,
      "overflow_x": null,
      "overflow_y": null,
      "padding": null,
      "right": null,
      "top": null,
      "visibility": null,
      "width": null
     }
    },
    "9016428933ee4e5cb5f3b0c2862dc729": {
     "model_module": "@jupyter-widgets/controls",
     "model_name": "DescriptionStyleModel",
     "state": {
      "_model_module": "@jupyter-widgets/controls",
      "_model_module_version": "1.5.0",
      "_model_name": "DescriptionStyleModel",
      "_view_count": null,
      "_view_module": "@jupyter-widgets/base",
      "_view_module_version": "1.2.0",
      "_view_name": "StyleView",
      "description_width": ""
     }
    },
    "91c7cbd574db4f0ba547ed7b6112d774": {
     "model_module": "@jupyter-widgets/controls",
     "model_name": "ProgressStyleModel",
     "state": {
      "_model_module": "@jupyter-widgets/controls",
      "_model_module_version": "1.5.0",
      "_model_name": "ProgressStyleModel",
      "_view_count": null,
      "_view_module": "@jupyter-widgets/base",
      "_view_module_version": "1.2.0",
      "_view_name": "StyleView",
      "bar_color": null,
      "description_width": "initial"
     }
    },
    "93c01018f4bc4503ba1b1d3065c97100": {
     "model_module": "@jupyter-widgets/controls",
     "model_name": "IntProgressModel",
     "state": {
      "_dom_classes": [],
      "_model_module": "@jupyter-widgets/controls",
      "_model_module_version": "1.5.0",
      "_model_name": "IntProgressModel",
      "_view_count": null,
      "_view_module": "@jupyter-widgets/controls",
      "_view_module_version": "1.5.0",
      "_view_name": "ProgressView",
      "bar_style": "",
      "description": "",
      "description_tooltip": null,
      "layout": "IPY_MODEL_b015c915bced4104af627154cf6e4663",
      "max": 157,
      "min": 0,
      "orientation": "horizontal",
      "style": "IPY_MODEL_63d8b644d4f54d5e94cdf7234ffe916c",
      "value": 154
     }
    },
    "95abc79f3e8548b29f862974d7b425d6": {
     "model_module": "@jupyter-widgets/base",
     "model_name": "LayoutModel",
     "state": {
      "_model_module": "@jupyter-widgets/base",
      "_model_module_version": "1.2.0",
      "_model_name": "LayoutModel",
      "_view_count": null,
      "_view_module": "@jupyter-widgets/base",
      "_view_module_version": "1.2.0",
      "_view_name": "LayoutView",
      "align_content": null,
      "align_items": null,
      "align_self": null,
      "border": null,
      "bottom": null,
      "display": null,
      "flex": null,
      "flex_flow": null,
      "grid_area": null,
      "grid_auto_columns": null,
      "grid_auto_flow": null,
      "grid_auto_rows": null,
      "grid_column": null,
      "grid_gap": null,
      "grid_row": null,
      "grid_template_areas": null,
      "grid_template_columns": null,
      "grid_template_rows": null,
      "height": null,
      "justify_content": null,
      "justify_items": null,
      "left": null,
      "margin": null,
      "max_height": null,
      "max_width": null,
      "min_height": null,
      "min_width": null,
      "object_fit": null,
      "object_position": null,
      "order": null,
      "overflow": null,
      "overflow_x": null,
      "overflow_y": null,
      "padding": null,
      "right": null,
      "top": null,
      "visibility": null,
      "width": null
     }
    },
    "95e294647bd64668942c4e0b10105c7e": {
     "model_module": "@jupyter-widgets/base",
     "model_name": "LayoutModel",
     "state": {
      "_model_module": "@jupyter-widgets/base",
      "_model_module_version": "1.2.0",
      "_model_name": "LayoutModel",
      "_view_count": null,
      "_view_module": "@jupyter-widgets/base",
      "_view_module_version": "1.2.0",
      "_view_name": "LayoutView",
      "align_content": null,
      "align_items": null,
      "align_self": null,
      "border": null,
      "bottom": null,
      "display": null,
      "flex": null,
      "flex_flow": null,
      "grid_area": null,
      "grid_auto_columns": null,
      "grid_auto_flow": null,
      "grid_auto_rows": null,
      "grid_column": null,
      "grid_gap": null,
      "grid_row": null,
      "grid_template_areas": null,
      "grid_template_columns": null,
      "grid_template_rows": null,
      "height": null,
      "justify_content": null,
      "justify_items": null,
      "left": null,
      "margin": null,
      "max_height": null,
      "max_width": null,
      "min_height": null,
      "min_width": null,
      "object_fit": null,
      "object_position": null,
      "order": null,
      "overflow": null,
      "overflow_x": null,
      "overflow_y": null,
      "padding": null,
      "right": null,
      "top": null,
      "visibility": null,
      "width": null
     }
    },
    "964cd61b1a994956ae800f315245d2f0": {
     "model_module": "@jupyter-widgets/controls",
     "model_name": "HBoxModel",
     "state": {
      "_dom_classes": [],
      "_model_module": "@jupyter-widgets/controls",
      "_model_module_version": "1.5.0",
      "_model_name": "HBoxModel",
      "_view_count": null,
      "_view_module": "@jupyter-widgets/controls",
      "_view_module_version": "1.5.0",
      "_view_name": "HBoxView",
      "box_style": "",
      "children": [
       "IPY_MODEL_10d52390f9634657b0e7f21198ac3f71",
       "IPY_MODEL_df7e6b77f602452b9b8787ce79303ca9"
      ],
      "layout": "IPY_MODEL_cdc77c2d7b724f27b883e95e90c18638"
     }
    },
    "975ece13f561432fbd17a5b8dd0468d9": {
     "model_module": "@jupyter-widgets/base",
     "model_name": "LayoutModel",
     "state": {
      "_model_module": "@jupyter-widgets/base",
      "_model_module_version": "1.2.0",
      "_model_name": "LayoutModel",
      "_view_count": null,
      "_view_module": "@jupyter-widgets/base",
      "_view_module_version": "1.2.0",
      "_view_name": "LayoutView",
      "align_content": null,
      "align_items": null,
      "align_self": null,
      "border": null,
      "bottom": null,
      "display": null,
      "flex": null,
      "flex_flow": null,
      "grid_area": null,
      "grid_auto_columns": null,
      "grid_auto_flow": null,
      "grid_auto_rows": null,
      "grid_column": null,
      "grid_gap": null,
      "grid_row": null,
      "grid_template_areas": null,
      "grid_template_columns": null,
      "grid_template_rows": null,
      "height": null,
      "justify_content": null,
      "justify_items": null,
      "left": null,
      "margin": null,
      "max_height": null,
      "max_width": null,
      "min_height": null,
      "min_width": null,
      "object_fit": null,
      "object_position": null,
      "order": null,
      "overflow": null,
      "overflow_x": null,
      "overflow_y": null,
      "padding": null,
      "right": null,
      "top": null,
      "visibility": null,
      "width": null
     }
    },
    "9862af498a7744879966a7769149e669": {
     "model_module": "@jupyter-widgets/controls",
     "model_name": "HBoxModel",
     "state": {
      "_dom_classes": [],
      "_model_module": "@jupyter-widgets/controls",
      "_model_module_version": "1.5.0",
      "_model_name": "HBoxModel",
      "_view_count": null,
      "_view_module": "@jupyter-widgets/controls",
      "_view_module_version": "1.5.0",
      "_view_name": "HBoxView",
      "box_style": "",
      "children": [
       "IPY_MODEL_61af928b3e024209b147f589b4ac3786",
       "IPY_MODEL_7dd7bcddc2674d5599a0a6f598850b8f"
      ],
      "layout": "IPY_MODEL_69406851f61740b38c4b60101aa738f6"
     }
    },
    "9a9ff611f8204b69935e86c0bb48261e": {
     "model_module": "@jupyter-widgets/controls",
     "model_name": "HBoxModel",
     "state": {
      "_dom_classes": [],
      "_model_module": "@jupyter-widgets/controls",
      "_model_module_version": "1.5.0",
      "_model_name": "HBoxModel",
      "_view_count": null,
      "_view_module": "@jupyter-widgets/controls",
      "_view_module_version": "1.5.0",
      "_view_name": "HBoxView",
      "box_style": "",
      "children": [
       "IPY_MODEL_674d28aa120d4f4bbdfebe239f40fd51",
       "IPY_MODEL_ee15a9c09fd44b25b06120df30272035"
      ],
      "layout": "IPY_MODEL_62f1ca93721b4e70b390edbb9616bff3"
     }
    },
    "9c49842a671945edbb87e146965becaf": {
     "model_module": "@jupyter-widgets/controls",
     "model_name": "IntProgressModel",
     "state": {
      "_dom_classes": [],
      "_model_module": "@jupyter-widgets/controls",
      "_model_module_version": "1.5.0",
      "_model_name": "IntProgressModel",
      "_view_count": null,
      "_view_module": "@jupyter-widgets/controls",
      "_view_module_version": "1.5.0",
      "_view_name": "ProgressView",
      "bar_style": "",
      "description": "",
      "description_tooltip": null,
      "layout": "IPY_MODEL_6f01964274f7414e819b3cc48835975d",
      "max": 157,
      "min": 0,
      "orientation": "horizontal",
      "style": "IPY_MODEL_1dbdcba0214146aeb316bed8fdf5e082",
      "value": 117
     }
    },
    "9c58229892fd49c78bb0d9ef0decf434": {
     "model_module": "@jupyter-widgets/controls",
     "model_name": "HBoxModel",
     "state": {
      "_dom_classes": [],
      "_model_module": "@jupyter-widgets/controls",
      "_model_module_version": "1.5.0",
      "_model_name": "HBoxModel",
      "_view_count": null,
      "_view_module": "@jupyter-widgets/controls",
      "_view_module_version": "1.5.0",
      "_view_name": "HBoxView",
      "box_style": "",
      "children": [
       "IPY_MODEL_3ddfb0cb31c645ca85de272835124b46",
       "IPY_MODEL_4760d731a3cb4bc5a84a620a431fd0b5"
      ],
      "layout": "IPY_MODEL_fc2ed7aca7744f4fab0515782f835c17"
     }
    },
    "9ec7e2df4c53447caeef9078eac48e16": {
     "model_module": "@jupyter-widgets/base",
     "model_name": "LayoutModel",
     "state": {
      "_model_module": "@jupyter-widgets/base",
      "_model_module_version": "1.2.0",
      "_model_name": "LayoutModel",
      "_view_count": null,
      "_view_module": "@jupyter-widgets/base",
      "_view_module_version": "1.2.0",
      "_view_name": "LayoutView",
      "align_content": null,
      "align_items": null,
      "align_self": null,
      "border": null,
      "bottom": null,
      "display": null,
      "flex": null,
      "flex_flow": null,
      "grid_area": null,
      "grid_auto_columns": null,
      "grid_auto_flow": null,
      "grid_auto_rows": null,
      "grid_column": null,
      "grid_gap": null,
      "grid_row": null,
      "grid_template_areas": null,
      "grid_template_columns": null,
      "grid_template_rows": null,
      "height": null,
      "justify_content": null,
      "justify_items": null,
      "left": null,
      "margin": null,
      "max_height": null,
      "max_width": null,
      "min_height": null,
      "min_width": null,
      "object_fit": null,
      "object_position": null,
      "order": null,
      "overflow": null,
      "overflow_x": null,
      "overflow_y": null,
      "padding": null,
      "right": null,
      "top": null,
      "visibility": null,
      "width": null
     }
    },
    "9ee703ae01f040818f15e60e969d1d0d": {
     "model_module": "@jupyter-widgets/base",
     "model_name": "LayoutModel",
     "state": {
      "_model_module": "@jupyter-widgets/base",
      "_model_module_version": "1.2.0",
      "_model_name": "LayoutModel",
      "_view_count": null,
      "_view_module": "@jupyter-widgets/base",
      "_view_module_version": "1.2.0",
      "_view_name": "LayoutView",
      "align_content": null,
      "align_items": null,
      "align_self": null,
      "border": null,
      "bottom": null,
      "display": null,
      "flex": null,
      "flex_flow": null,
      "grid_area": null,
      "grid_auto_columns": null,
      "grid_auto_flow": null,
      "grid_auto_rows": null,
      "grid_column": null,
      "grid_gap": null,
      "grid_row": null,
      "grid_template_areas": null,
      "grid_template_columns": null,
      "grid_template_rows": null,
      "height": null,
      "justify_content": null,
      "justify_items": null,
      "left": null,
      "margin": null,
      "max_height": null,
      "max_width": null,
      "min_height": null,
      "min_width": null,
      "object_fit": null,
      "object_position": null,
      "order": null,
      "overflow": null,
      "overflow_x": null,
      "overflow_y": null,
      "padding": null,
      "right": null,
      "top": null,
      "visibility": null,
      "width": null
     }
    },
    "a0b10f2f17b7470f8bef69a4c342f54e": {
     "model_module": "@jupyter-widgets/controls",
     "model_name": "IntProgressModel",
     "state": {
      "_dom_classes": [],
      "_model_module": "@jupyter-widgets/controls",
      "_model_module_version": "1.5.0",
      "_model_name": "IntProgressModel",
      "_view_count": null,
      "_view_module": "@jupyter-widgets/controls",
      "_view_module_version": "1.5.0",
      "_view_name": "ProgressView",
      "bar_style": "",
      "description": "",
      "description_tooltip": null,
      "layout": "IPY_MODEL_aefdaede27424f2fb61c961e9376e37c",
      "max": 157,
      "min": 0,
      "orientation": "horizontal",
      "style": "IPY_MODEL_a2a3c31b574b4a4d99333a6c70299446",
      "value": 150
     }
    },
    "a155d831bde8448e8b8bb278a00dd6c1": {
     "model_module": "@jupyter-widgets/controls",
     "model_name": "HBoxModel",
     "state": {
      "_dom_classes": [],
      "_model_module": "@jupyter-widgets/controls",
      "_model_module_version": "1.5.0",
      "_model_name": "HBoxModel",
      "_view_count": null,
      "_view_module": "@jupyter-widgets/controls",
      "_view_module_version": "1.5.0",
      "_view_name": "HBoxView",
      "box_style": "",
      "children": [
       "IPY_MODEL_505b0bdc1156424d93559774436a857a",
       "IPY_MODEL_a62bf153de5d42a7815c9380387a6d63"
      ],
      "layout": "IPY_MODEL_c5afcb1bc83c4e96b3f1bd25d0d8f8ff"
     }
    },
    "a1795ea72f1a4fd88b3b1f475a83f03d": {
     "model_module": "@jupyter-widgets/controls",
     "model_name": "HTMLModel",
     "state": {
      "_dom_classes": [],
      "_model_module": "@jupyter-widgets/controls",
      "_model_module_version": "1.5.0",
      "_model_name": "HTMLModel",
      "_view_count": null,
      "_view_module": "@jupyter-widgets/controls",
      "_view_module_version": "1.5.0",
      "_view_name": "HTMLView",
      "description": "",
      "description_tooltip": null,
      "layout": "IPY_MODEL_6497a11205324290bf35e02afd512a25",
      "placeholder": "​",
      "style": "IPY_MODEL_f4d52b09951a4e2f9760e6112c8b57fd",
      "value": " 96% 151/157 [00:00&lt;00:00, 320.50it/s]"
     }
    },
    "a282e0342a0f4690b2e92ff43e6d71a8": {
     "model_module": "@jupyter-widgets/controls",
     "model_name": "DescriptionStyleModel",
     "state": {
      "_model_module": "@jupyter-widgets/controls",
      "_model_module_version": "1.5.0",
      "_model_name": "DescriptionStyleModel",
      "_view_count": null,
      "_view_module": "@jupyter-widgets/base",
      "_view_module_version": "1.2.0",
      "_view_name": "StyleView",
      "description_width": ""
     }
    },
    "a2a3c31b574b4a4d99333a6c70299446": {
     "model_module": "@jupyter-widgets/controls",
     "model_name": "ProgressStyleModel",
     "state": {
      "_model_module": "@jupyter-widgets/controls",
      "_model_module_version": "1.5.0",
      "_model_name": "ProgressStyleModel",
      "_view_count": null,
      "_view_module": "@jupyter-widgets/base",
      "_view_module_version": "1.2.0",
      "_view_name": "StyleView",
      "bar_color": null,
      "description_width": ""
     }
    },
    "a433fac65ad84cccb7509fda3c58368c": {
     "model_module": "@jupyter-widgets/controls",
     "model_name": "ProgressStyleModel",
     "state": {
      "_model_module": "@jupyter-widgets/controls",
      "_model_module_version": "1.5.0",
      "_model_name": "ProgressStyleModel",
      "_view_count": null,
      "_view_module": "@jupyter-widgets/base",
      "_view_module_version": "1.2.0",
      "_view_name": "StyleView",
      "bar_color": null,
      "description_width": ""
     }
    },
    "a43696ae6adb49d6892b63a1b8a0b6be": {
     "model_module": "@jupyter-widgets/controls",
     "model_name": "HBoxModel",
     "state": {
      "_dom_classes": [],
      "_model_module": "@jupyter-widgets/controls",
      "_model_module_version": "1.5.0",
      "_model_name": "HBoxModel",
      "_view_count": null,
      "_view_module": "@jupyter-widgets/controls",
      "_view_module_version": "1.5.0",
      "_view_name": "HBoxView",
      "box_style": "",
      "children": [
       "IPY_MODEL_51c8008838b946e7b458c297094d55c7",
       "IPY_MODEL_6f9350ffd68d4656bfc6b03f3bf5f15c"
      ],
      "layout": "IPY_MODEL_2a4b1a8c57cb4eaf89050126d4e0145e"
     }
    },
    "a62bf153de5d42a7815c9380387a6d63": {
     "model_module": "@jupyter-widgets/controls",
     "model_name": "HTMLModel",
     "state": {
      "_dom_classes": [],
      "_model_module": "@jupyter-widgets/controls",
      "_model_module_version": "1.5.0",
      "_model_name": "HTMLModel",
      "_view_count": null,
      "_view_module": "@jupyter-widgets/controls",
      "_view_module_version": "1.5.0",
      "_view_name": "HTMLView",
      "description": "",
      "description_tooltip": null,
      "layout": "IPY_MODEL_31b712bfb0b844b1b8454743df0e805b",
      "placeholder": "​",
      "style": "IPY_MODEL_c14a5a8db7f8405eb87c5b5953c8acb6",
      "value": " 98% 612/625 [00:04&lt;00:00, 131.59it/s, loss=0.119]"
     }
    },
    "a73e2d5df87347b9b9168fdaca5daff0": {
     "model_module": "@jupyter-widgets/base",
     "model_name": "LayoutModel",
     "state": {
      "_model_module": "@jupyter-widgets/base",
      "_model_module_version": "1.2.0",
      "_model_name": "LayoutModel",
      "_view_count": null,
      "_view_module": "@jupyter-widgets/base",
      "_view_module_version": "1.2.0",
      "_view_name": "LayoutView",
      "align_content": null,
      "align_items": null,
      "align_self": null,
      "border": null,
      "bottom": null,
      "display": null,
      "flex": null,
      "flex_flow": null,
      "grid_area": null,
      "grid_auto_columns": null,
      "grid_auto_flow": null,
      "grid_auto_rows": null,
      "grid_column": null,
      "grid_gap": null,
      "grid_row": null,
      "grid_template_areas": null,
      "grid_template_columns": null,
      "grid_template_rows": null,
      "height": null,
      "justify_content": null,
      "justify_items": null,
      "left": null,
      "margin": null,
      "max_height": null,
      "max_width": null,
      "min_height": null,
      "min_width": null,
      "object_fit": null,
      "object_position": null,
      "order": null,
      "overflow": null,
      "overflow_x": null,
      "overflow_y": null,
      "padding": null,
      "right": null,
      "top": null,
      "visibility": null,
      "width": null
     }
    },
    "a90983892778412789e4855f384ce9d5": {
     "model_module": "@jupyter-widgets/controls",
     "model_name": "DescriptionStyleModel",
     "state": {
      "_model_module": "@jupyter-widgets/controls",
      "_model_module_version": "1.5.0",
      "_model_name": "DescriptionStyleModel",
      "_view_count": null,
      "_view_module": "@jupyter-widgets/base",
      "_view_module_version": "1.2.0",
      "_view_name": "StyleView",
      "description_width": ""
     }
    },
    "abd9d9b686b64fd8be2c009f99f461c9": {
     "model_module": "@jupyter-widgets/base",
     "model_name": "LayoutModel",
     "state": {
      "_model_module": "@jupyter-widgets/base",
      "_model_module_version": "1.2.0",
      "_model_name": "LayoutModel",
      "_view_count": null,
      "_view_module": "@jupyter-widgets/base",
      "_view_module_version": "1.2.0",
      "_view_name": "LayoutView",
      "align_content": null,
      "align_items": null,
      "align_self": null,
      "border": null,
      "bottom": null,
      "display": null,
      "flex": null,
      "flex_flow": null,
      "grid_area": null,
      "grid_auto_columns": null,
      "grid_auto_flow": null,
      "grid_auto_rows": null,
      "grid_column": null,
      "grid_gap": null,
      "grid_row": null,
      "grid_template_areas": null,
      "grid_template_columns": null,
      "grid_template_rows": null,
      "height": null,
      "justify_content": null,
      "justify_items": null,
      "left": null,
      "margin": null,
      "max_height": null,
      "max_width": null,
      "min_height": null,
      "min_width": null,
      "object_fit": null,
      "object_position": null,
      "order": null,
      "overflow": null,
      "overflow_x": null,
      "overflow_y": null,
      "padding": null,
      "right": null,
      "top": null,
      "visibility": null,
      "width": null
     }
    },
    "ae85e703fcec4a16b7f50373428048e2": {
     "model_module": "@jupyter-widgets/controls",
     "model_name": "IntProgressModel",
     "state": {
      "_dom_classes": [],
      "_model_module": "@jupyter-widgets/controls",
      "_model_module_version": "1.5.0",
      "_model_name": "IntProgressModel",
      "_view_count": null,
      "_view_module": "@jupyter-widgets/controls",
      "_view_module_version": "1.5.0",
      "_view_name": "ProgressView",
      "bar_style": "",
      "description": "Epoch 7",
      "description_tooltip": null,
      "layout": "IPY_MODEL_56f2a6b4f6eb4c26a2e37efe566c5dbb",
      "max": 625,
      "min": 0,
      "orientation": "horizontal",
      "style": "IPY_MODEL_7b40e426a9a341efb99088b64c600f4f",
      "value": 621
     }
    },
    "aefdaede27424f2fb61c961e9376e37c": {
     "model_module": "@jupyter-widgets/base",
     "model_name": "LayoutModel",
     "state": {
      "_model_module": "@jupyter-widgets/base",
      "_model_module_version": "1.2.0",
      "_model_name": "LayoutModel",
      "_view_count": null,
      "_view_module": "@jupyter-widgets/base",
      "_view_module_version": "1.2.0",
      "_view_name": "LayoutView",
      "align_content": null,
      "align_items": null,
      "align_self": null,
      "border": null,
      "bottom": null,
      "display": null,
      "flex": null,
      "flex_flow": null,
      "grid_area": null,
      "grid_auto_columns": null,
      "grid_auto_flow": null,
      "grid_auto_rows": null,
      "grid_column": null,
      "grid_gap": null,
      "grid_row": null,
      "grid_template_areas": null,
      "grid_template_columns": null,
      "grid_template_rows": null,
      "height": null,
      "justify_content": null,
      "justify_items": null,
      "left": null,
      "margin": null,
      "max_height": null,
      "max_width": null,
      "min_height": null,
      "min_width": null,
      "object_fit": null,
      "object_position": null,
      "order": null,
      "overflow": null,
      "overflow_x": null,
      "overflow_y": null,
      "padding": null,
      "right": null,
      "top": null,
      "visibility": null,
      "width": null
     }
    },
    "af5e0d81c00c4213ab00cbc2f0dd947d": {
     "model_module": "@jupyter-widgets/controls",
     "model_name": "IntProgressModel",
     "state": {
      "_dom_classes": [],
      "_model_module": "@jupyter-widgets/controls",
      "_model_module_version": "1.5.0",
      "_model_name": "IntProgressModel",
      "_view_count": null,
      "_view_module": "@jupyter-widgets/controls",
      "_view_module_version": "1.5.0",
      "_view_name": "ProgressView",
      "bar_style": "",
      "description": "",
      "description_tooltip": null,
      "layout": "IPY_MODEL_603eebad090b46b99cef2107b447bf92",
      "max": 157,
      "min": 0,
      "orientation": "horizontal",
      "style": "IPY_MODEL_a433fac65ad84cccb7509fda3c58368c",
      "value": 154
     }
    },
    "b015c915bced4104af627154cf6e4663": {
     "model_module": "@jupyter-widgets/base",
     "model_name": "LayoutModel",
     "state": {
      "_model_module": "@jupyter-widgets/base",
      "_model_module_version": "1.2.0",
      "_model_name": "LayoutModel",
      "_view_count": null,
      "_view_module": "@jupyter-widgets/base",
      "_view_module_version": "1.2.0",
      "_view_name": "LayoutView",
      "align_content": null,
      "align_items": null,
      "align_self": null,
      "border": null,
      "bottom": null,
      "display": null,
      "flex": null,
      "flex_flow": null,
      "grid_area": null,
      "grid_auto_columns": null,
      "grid_auto_flow": null,
      "grid_auto_rows": null,
      "grid_column": null,
      "grid_gap": null,
      "grid_row": null,
      "grid_template_areas": null,
      "grid_template_columns": null,
      "grid_template_rows": null,
      "height": null,
      "justify_content": null,
      "justify_items": null,
      "left": null,
      "margin": null,
      "max_height": null,
      "max_width": null,
      "min_height": null,
      "min_width": null,
      "object_fit": null,
      "object_position": null,
      "order": null,
      "overflow": null,
      "overflow_x": null,
      "overflow_y": null,
      "padding": null,
      "right": null,
      "top": null,
      "visibility": null,
      "width": null
     }
    },
    "b22315f7300d4e7d8946af4906a33516": {
     "model_module": "@jupyter-widgets/controls",
     "model_name": "HBoxModel",
     "state": {
      "_dom_classes": [],
      "_model_module": "@jupyter-widgets/controls",
      "_model_module_version": "1.5.0",
      "_model_name": "HBoxModel",
      "_view_count": null,
      "_view_module": "@jupyter-widgets/controls",
      "_view_module_version": "1.5.0",
      "_view_name": "HBoxView",
      "box_style": "",
      "children": [
       "IPY_MODEL_1a5f94b40f4546f48fa195841f0ed3fc",
       "IPY_MODEL_19a77be4b67c44b2a711ab54eae9426e"
      ],
      "layout": "IPY_MODEL_f37239ab4dea498fa1484d70c7fb7aaa"
     }
    },
    "b2572c5bccb74b068549cf63948c950f": {
     "model_module": "@jupyter-widgets/controls",
     "model_name": "DescriptionStyleModel",
     "state": {
      "_model_module": "@jupyter-widgets/controls",
      "_model_module_version": "1.5.0",
      "_model_name": "DescriptionStyleModel",
      "_view_count": null,
      "_view_module": "@jupyter-widgets/base",
      "_view_module_version": "1.2.0",
      "_view_name": "StyleView",
      "description_width": ""
     }
    },
    "b323593bcc05479184bfc5cca3296905": {
     "model_module": "@jupyter-widgets/controls",
     "model_name": "DescriptionStyleModel",
     "state": {
      "_model_module": "@jupyter-widgets/controls",
      "_model_module_version": "1.5.0",
      "_model_name": "DescriptionStyleModel",
      "_view_count": null,
      "_view_module": "@jupyter-widgets/base",
      "_view_module_version": "1.2.0",
      "_view_name": "StyleView",
      "description_width": ""
     }
    },
    "b3b49990c489447fb05fdcf0a5d413ed": {
     "model_module": "@jupyter-widgets/base",
     "model_name": "LayoutModel",
     "state": {
      "_model_module": "@jupyter-widgets/base",
      "_model_module_version": "1.2.0",
      "_model_name": "LayoutModel",
      "_view_count": null,
      "_view_module": "@jupyter-widgets/base",
      "_view_module_version": "1.2.0",
      "_view_name": "LayoutView",
      "align_content": null,
      "align_items": null,
      "align_self": null,
      "border": null,
      "bottom": null,
      "display": null,
      "flex": null,
      "flex_flow": null,
      "grid_area": null,
      "grid_auto_columns": null,
      "grid_auto_flow": null,
      "grid_auto_rows": null,
      "grid_column": null,
      "grid_gap": null,
      "grid_row": null,
      "grid_template_areas": null,
      "grid_template_columns": null,
      "grid_template_rows": null,
      "height": null,
      "justify_content": null,
      "justify_items": null,
      "left": null,
      "margin": null,
      "max_height": null,
      "max_width": null,
      "min_height": null,
      "min_width": null,
      "object_fit": null,
      "object_position": null,
      "order": null,
      "overflow": null,
      "overflow_x": null,
      "overflow_y": null,
      "padding": null,
      "right": null,
      "top": null,
      "visibility": null,
      "width": null
     }
    },
    "b6d64a3add0b4bcbbdd613561b755446": {
     "model_module": "@jupyter-widgets/controls",
     "model_name": "HTMLModel",
     "state": {
      "_dom_classes": [],
      "_model_module": "@jupyter-widgets/controls",
      "_model_module_version": "1.5.0",
      "_model_name": "HTMLModel",
      "_view_count": null,
      "_view_module": "@jupyter-widgets/controls",
      "_view_module_version": "1.5.0",
      "_view_name": "HTMLView",
      "description": "",
      "description_tooltip": null,
      "layout": "IPY_MODEL_8b1056e953d8401e91b46a643cf44ac4",
      "placeholder": "​",
      "style": "IPY_MODEL_a90983892778412789e4855f384ce9d5",
      "value": " 73% 115/157 [00:00&lt;00:00, 359.68it/s]"
     }
    },
    "b9b541166cc74a398ad7ebfa7cd886f7": {
     "model_module": "@jupyter-widgets/controls",
     "model_name": "HBoxModel",
     "state": {
      "_dom_classes": [],
      "_model_module": "@jupyter-widgets/controls",
      "_model_module_version": "1.5.0",
      "_model_name": "HBoxModel",
      "_view_count": null,
      "_view_module": "@jupyter-widgets/controls",
      "_view_module_version": "1.5.0",
      "_view_name": "HBoxView",
      "box_style": "",
      "children": [
       "IPY_MODEL_93c01018f4bc4503ba1b1d3065c97100",
       "IPY_MODEL_fba82571c2c44c7d84673b48bffbb974"
      ],
      "layout": "IPY_MODEL_7a206261c92a461788cbb4dcda420991"
     }
    },
    "c14a5a8db7f8405eb87c5b5953c8acb6": {
     "model_module": "@jupyter-widgets/controls",
     "model_name": "DescriptionStyleModel",
     "state": {
      "_model_module": "@jupyter-widgets/controls",
      "_model_module_version": "1.5.0",
      "_model_name": "DescriptionStyleModel",
      "_view_count": null,
      "_view_module": "@jupyter-widgets/base",
      "_view_module_version": "1.2.0",
      "_view_name": "StyleView",
      "description_width": ""
     }
    },
    "c1a2b49906fd4d8f981f82cf38461c3d": {
     "model_module": "@jupyter-widgets/controls",
     "model_name": "ProgressStyleModel",
     "state": {
      "_model_module": "@jupyter-widgets/controls",
      "_model_module_version": "1.5.0",
      "_model_name": "ProgressStyleModel",
      "_view_count": null,
      "_view_module": "@jupyter-widgets/base",
      "_view_module_version": "1.2.0",
      "_view_name": "StyleView",
      "bar_color": null,
      "description_width": ""
     }
    },
    "c3370baec798423aae0fee8cd2bb3639": {
     "model_module": "@jupyter-widgets/base",
     "model_name": "LayoutModel",
     "state": {
      "_model_module": "@jupyter-widgets/base",
      "_model_module_version": "1.2.0",
      "_model_name": "LayoutModel",
      "_view_count": null,
      "_view_module": "@jupyter-widgets/base",
      "_view_module_version": "1.2.0",
      "_view_name": "LayoutView",
      "align_content": null,
      "align_items": null,
      "align_self": null,
      "border": null,
      "bottom": null,
      "display": null,
      "flex": null,
      "flex_flow": null,
      "grid_area": null,
      "grid_auto_columns": null,
      "grid_auto_flow": null,
      "grid_auto_rows": null,
      "grid_column": null,
      "grid_gap": null,
      "grid_row": null,
      "grid_template_areas": null,
      "grid_template_columns": null,
      "grid_template_rows": null,
      "height": null,
      "justify_content": null,
      "justify_items": null,
      "left": null,
      "margin": null,
      "max_height": null,
      "max_width": null,
      "min_height": null,
      "min_width": null,
      "object_fit": null,
      "object_position": null,
      "order": null,
      "overflow": null,
      "overflow_x": null,
      "overflow_y": null,
      "padding": null,
      "right": null,
      "top": null,
      "visibility": null,
      "width": null
     }
    },
    "c5afcb1bc83c4e96b3f1bd25d0d8f8ff": {
     "model_module": "@jupyter-widgets/base",
     "model_name": "LayoutModel",
     "state": {
      "_model_module": "@jupyter-widgets/base",
      "_model_module_version": "1.2.0",
      "_model_name": "LayoutModel",
      "_view_count": null,
      "_view_module": "@jupyter-widgets/base",
      "_view_module_version": "1.2.0",
      "_view_name": "LayoutView",
      "align_content": null,
      "align_items": null,
      "align_self": null,
      "border": null,
      "bottom": null,
      "display": null,
      "flex": null,
      "flex_flow": null,
      "grid_area": null,
      "grid_auto_columns": null,
      "grid_auto_flow": null,
      "grid_auto_rows": null,
      "grid_column": null,
      "grid_gap": null,
      "grid_row": null,
      "grid_template_areas": null,
      "grid_template_columns": null,
      "grid_template_rows": null,
      "height": null,
      "justify_content": null,
      "justify_items": null,
      "left": null,
      "margin": null,
      "max_height": null,
      "max_width": null,
      "min_height": null,
      "min_width": null,
      "object_fit": null,
      "object_position": null,
      "order": null,
      "overflow": null,
      "overflow_x": null,
      "overflow_y": null,
      "padding": null,
      "right": null,
      "top": null,
      "visibility": null,
      "width": null
     }
    },
    "c68f424ce1714d7bbc6e473fec8bfba5": {
     "model_module": "@jupyter-widgets/controls",
     "model_name": "IntProgressModel",
     "state": {
      "_dom_classes": [],
      "_model_module": "@jupyter-widgets/controls",
      "_model_module_version": "1.5.0",
      "_model_name": "IntProgressModel",
      "_view_count": null,
      "_view_module": "@jupyter-widgets/controls",
      "_view_module_version": "1.5.0",
      "_view_name": "ProgressView",
      "bar_style": "success",
      "description": "",
      "description_tooltip": null,
      "layout": "IPY_MODEL_c3370baec798423aae0fee8cd2bb3639",
      "max": 10,
      "min": 0,
      "orientation": "horizontal",
      "style": "IPY_MODEL_259caff9355842c58b71d79230ee9410",
      "value": 10
     }
    },
    "c69535aa7be140ff87a9bf1f90b35434": {
     "model_module": "@jupyter-widgets/base",
     "model_name": "LayoutModel",
     "state": {
      "_model_module": "@jupyter-widgets/base",
      "_model_module_version": "1.2.0",
      "_model_name": "LayoutModel",
      "_view_count": null,
      "_view_module": "@jupyter-widgets/base",
      "_view_module_version": "1.2.0",
      "_view_name": "LayoutView",
      "align_content": null,
      "align_items": null,
      "align_self": null,
      "border": null,
      "bottom": null,
      "display": null,
      "flex": null,
      "flex_flow": null,
      "grid_area": null,
      "grid_auto_columns": null,
      "grid_auto_flow": null,
      "grid_auto_rows": null,
      "grid_column": null,
      "grid_gap": null,
      "grid_row": null,
      "grid_template_areas": null,
      "grid_template_columns": null,
      "grid_template_rows": null,
      "height": null,
      "justify_content": null,
      "justify_items": null,
      "left": null,
      "margin": null,
      "max_height": null,
      "max_width": null,
      "min_height": null,
      "min_width": null,
      "object_fit": null,
      "object_position": null,
      "order": null,
      "overflow": null,
      "overflow_x": null,
      "overflow_y": null,
      "padding": null,
      "right": null,
      "top": null,
      "visibility": null,
      "width": null
     }
    },
    "ccc6268ab855484eafb2b8121f13fbfe": {
     "model_module": "@jupyter-widgets/controls",
     "model_name": "ProgressStyleModel",
     "state": {
      "_model_module": "@jupyter-widgets/controls",
      "_model_module_version": "1.5.0",
      "_model_name": "ProgressStyleModel",
      "_view_count": null,
      "_view_module": "@jupyter-widgets/base",
      "_view_module_version": "1.2.0",
      "_view_name": "StyleView",
      "bar_color": null,
      "description_width": ""
     }
    },
    "cd00df4e52624fd0a44c62691bc522e2": {
     "model_module": "@jupyter-widgets/controls",
     "model_name": "HBoxModel",
     "state": {
      "_dom_classes": [],
      "_model_module": "@jupyter-widgets/controls",
      "_model_module_version": "1.5.0",
      "_model_name": "HBoxModel",
      "_view_count": null,
      "_view_module": "@jupyter-widgets/controls",
      "_view_module_version": "1.5.0",
      "_view_name": "HBoxView",
      "box_style": "",
      "children": [
       "IPY_MODEL_e055d11880a64931a368053ce86de98e",
       "IPY_MODEL_367742a3fd1e4f328d1c1ba71138757e"
      ],
      "layout": "IPY_MODEL_8e511a47fff34ccfad4ae3bbc5a43370"
     }
    },
    "cdc77c2d7b724f27b883e95e90c18638": {
     "model_module": "@jupyter-widgets/base",
     "model_name": "LayoutModel",
     "state": {
      "_model_module": "@jupyter-widgets/base",
      "_model_module_version": "1.2.0",
      "_model_name": "LayoutModel",
      "_view_count": null,
      "_view_module": "@jupyter-widgets/base",
      "_view_module_version": "1.2.0",
      "_view_name": "LayoutView",
      "align_content": null,
      "align_items": null,
      "align_self": null,
      "border": null,
      "bottom": null,
      "display": null,
      "flex": null,
      "flex_flow": null,
      "grid_area": null,
      "grid_auto_columns": null,
      "grid_auto_flow": null,
      "grid_auto_rows": null,
      "grid_column": null,
      "grid_gap": null,
      "grid_row": null,
      "grid_template_areas": null,
      "grid_template_columns": null,
      "grid_template_rows": null,
      "height": null,
      "justify_content": null,
      "justify_items": null,
      "left": null,
      "margin": null,
      "max_height": null,
      "max_width": null,
      "min_height": null,
      "min_width": null,
      "object_fit": null,
      "object_position": null,
      "order": null,
      "overflow": null,
      "overflow_x": null,
      "overflow_y": null,
      "padding": null,
      "right": null,
      "top": null,
      "visibility": null,
      "width": null
     }
    },
    "cdee532fbe3d4b058f2e6661da3ba379": {
     "model_module": "@jupyter-widgets/controls",
     "model_name": "DescriptionStyleModel",
     "state": {
      "_model_module": "@jupyter-widgets/controls",
      "_model_module_version": "1.5.0",
      "_model_name": "DescriptionStyleModel",
      "_view_count": null,
      "_view_module": "@jupyter-widgets/base",
      "_view_module_version": "1.2.0",
      "_view_name": "StyleView",
      "description_width": ""
     }
    },
    "ce8823cb71c5424dbb6bb7a749bcca9e": {
     "model_module": "@jupyter-widgets/controls",
     "model_name": "HBoxModel",
     "state": {
      "_dom_classes": [],
      "_model_module": "@jupyter-widgets/controls",
      "_model_module_version": "1.5.0",
      "_model_name": "HBoxModel",
      "_view_count": null,
      "_view_module": "@jupyter-widgets/controls",
      "_view_module_version": "1.5.0",
      "_view_name": "HBoxView",
      "box_style": "",
      "children": [
       "IPY_MODEL_5647ba43ca664eacb2383bb9a3d5c141",
       "IPY_MODEL_642081a23d5b4e198f71fcec6474d5f7"
      ],
      "layout": "IPY_MODEL_7a33165267414bc1aaf574ee6e7c3921"
     }
    },
    "d84ab2675e5840e4b885a0e6209865e4": {
     "model_module": "@jupyter-widgets/controls",
     "model_name": "IntProgressModel",
     "state": {
      "_dom_classes": [],
      "_model_module": "@jupyter-widgets/controls",
      "_model_module_version": "1.5.0",
      "_model_name": "IntProgressModel",
      "_view_count": null,
      "_view_module": "@jupyter-widgets/controls",
      "_view_module_version": "1.5.0",
      "_view_name": "ProgressView",
      "bar_style": "",
      "description": "Epoch 5",
      "description_tooltip": null,
      "layout": "IPY_MODEL_abd9d9b686b64fd8be2c009f99f461c9",
      "max": 625,
      "min": 0,
      "orientation": "horizontal",
      "style": "IPY_MODEL_f6b3ba9a33b04b53ab9b75e3a3c15e12",
      "value": 618
     }
    },
    "db75b8d3ae324198b199d5ef3a59ecc4": {
     "model_module": "@jupyter-widgets/base",
     "model_name": "LayoutModel",
     "state": {
      "_model_module": "@jupyter-widgets/base",
      "_model_module_version": "1.2.0",
      "_model_name": "LayoutModel",
      "_view_count": null,
      "_view_module": "@jupyter-widgets/base",
      "_view_module_version": "1.2.0",
      "_view_name": "LayoutView",
      "align_content": null,
      "align_items": null,
      "align_self": null,
      "border": null,
      "bottom": null,
      "display": null,
      "flex": null,
      "flex_flow": null,
      "grid_area": null,
      "grid_auto_columns": null,
      "grid_auto_flow": null,
      "grid_auto_rows": null,
      "grid_column": null,
      "grid_gap": null,
      "grid_row": null,
      "grid_template_areas": null,
      "grid_template_columns": null,
      "grid_template_rows": null,
      "height": null,
      "justify_content": null,
      "justify_items": null,
      "left": null,
      "margin": null,
      "max_height": null,
      "max_width": null,
      "min_height": null,
      "min_width": null,
      "object_fit": null,
      "object_position": null,
      "order": null,
      "overflow": null,
      "overflow_x": null,
      "overflow_y": null,
      "padding": null,
      "right": null,
      "top": null,
      "visibility": null,
      "width": null
     }
    },
    "dc506befac824422a81735ea5a02084c": {
     "model_module": "@jupyter-widgets/controls",
     "model_name": "HBoxModel",
     "state": {
      "_dom_classes": [],
      "_model_module": "@jupyter-widgets/controls",
      "_model_module_version": "1.5.0",
      "_model_name": "HBoxModel",
      "_view_count": null,
      "_view_module": "@jupyter-widgets/controls",
      "_view_module_version": "1.5.0",
      "_view_name": "HBoxView",
      "box_style": "",
      "children": [
       "IPY_MODEL_af5e0d81c00c4213ab00cbc2f0dd947d",
       "IPY_MODEL_8059df93e65e4c5a844f78e5dce24a11"
      ],
      "layout": "IPY_MODEL_9ee703ae01f040818f15e60e969d1d0d"
     }
    },
    "dcffb6a41c934d70b381632228befafc": {
     "model_module": "@jupyter-widgets/base",
     "model_name": "LayoutModel",
     "state": {
      "_model_module": "@jupyter-widgets/base",
      "_model_module_version": "1.2.0",
      "_model_name": "LayoutModel",
      "_view_count": null,
      "_view_module": "@jupyter-widgets/base",
      "_view_module_version": "1.2.0",
      "_view_name": "LayoutView",
      "align_content": null,
      "align_items": null,
      "align_self": null,
      "border": null,
      "bottom": null,
      "display": null,
      "flex": null,
      "flex_flow": null,
      "grid_area": null,
      "grid_auto_columns": null,
      "grid_auto_flow": null,
      "grid_auto_rows": null,
      "grid_column": null,
      "grid_gap": null,
      "grid_row": null,
      "grid_template_areas": null,
      "grid_template_columns": null,
      "grid_template_rows": null,
      "height": null,
      "justify_content": null,
      "justify_items": null,
      "left": null,
      "margin": null,
      "max_height": null,
      "max_width": null,
      "min_height": null,
      "min_width": null,
      "object_fit": null,
      "object_position": null,
      "order": null,
      "overflow": null,
      "overflow_x": null,
      "overflow_y": null,
      "padding": null,
      "right": null,
      "top": null,
      "visibility": null,
      "width": null
     }
    },
    "dd39e59819c544dd8668c91c3132be9d": {
     "model_module": "@jupyter-widgets/controls",
     "model_name": "HTMLModel",
     "state": {
      "_dom_classes": [],
      "_model_module": "@jupyter-widgets/controls",
      "_model_module_version": "1.5.0",
      "_model_name": "HTMLModel",
      "_view_count": null,
      "_view_module": "@jupyter-widgets/controls",
      "_view_module_version": "1.5.0",
      "_view_name": "HTMLView",
      "description": "",
      "description_tooltip": null,
      "layout": "IPY_MODEL_0a24117c0a934333ab550002e4d08890",
      "placeholder": "​",
      "style": "IPY_MODEL_2cc6fcfed49943f69b4bf14ac3ca02de",
      "value": " 99% 621/625 [00:04&lt;00:00, 125.11it/s, loss=0.091]"
     }
    },
    "dea6e24932a44672b660c1dffce85673": {
     "model_module": "@jupyter-widgets/base",
     "model_name": "LayoutModel",
     "state": {
      "_model_module": "@jupyter-widgets/base",
      "_model_module_version": "1.2.0",
      "_model_name": "LayoutModel",
      "_view_count": null,
      "_view_module": "@jupyter-widgets/base",
      "_view_module_version": "1.2.0",
      "_view_name": "LayoutView",
      "align_content": null,
      "align_items": null,
      "align_self": null,
      "border": null,
      "bottom": null,
      "display": null,
      "flex": null,
      "flex_flow": null,
      "grid_area": null,
      "grid_auto_columns": null,
      "grid_auto_flow": null,
      "grid_auto_rows": null,
      "grid_column": null,
      "grid_gap": null,
      "grid_row": null,
      "grid_template_areas": null,
      "grid_template_columns": null,
      "grid_template_rows": null,
      "height": null,
      "justify_content": null,
      "justify_items": null,
      "left": null,
      "margin": null,
      "max_height": null,
      "max_width": null,
      "min_height": null,
      "min_width": null,
      "object_fit": null,
      "object_position": null,
      "order": null,
      "overflow": null,
      "overflow_x": null,
      "overflow_y": null,
      "padding": null,
      "right": null,
      "top": null,
      "visibility": null,
      "width": null
     }
    },
    "df7e6b77f602452b9b8787ce79303ca9": {
     "model_module": "@jupyter-widgets/controls",
     "model_name": "HTMLModel",
     "state": {
      "_dom_classes": [],
      "_model_module": "@jupyter-widgets/controls",
      "_model_module_version": "1.5.0",
      "_model_name": "HTMLModel",
      "_view_count": null,
      "_view_module": "@jupyter-widgets/controls",
      "_view_module_version": "1.5.0",
      "_view_name": "HTMLView",
      "description": "",
      "description_tooltip": null,
      "layout": "IPY_MODEL_8a9b99193e3642de93ceb5a9630a6c63",
      "placeholder": "​",
      "style": "IPY_MODEL_2d9e8a1e4f144fe0a57ae274b62482ed",
      "value": "100% 623/625 [00:04&lt;00:00, 133.23it/s, loss=0.0713]"
     }
    },
    "e055d11880a64931a368053ce86de98e": {
     "model_module": "@jupyter-widgets/controls",
     "model_name": "IntProgressModel",
     "state": {
      "_dom_classes": [],
      "_model_module": "@jupyter-widgets/controls",
      "_model_module_version": "1.5.0",
      "_model_name": "IntProgressModel",
      "_view_count": null,
      "_view_module": "@jupyter-widgets/controls",
      "_view_module_version": "1.5.0",
      "_view_name": "ProgressView",
      "bar_style": "",
      "description": "Epoch 0",
      "description_tooltip": null,
      "layout": "IPY_MODEL_843d8d7154904e468259d950a5e80187",
      "max": 625,
      "min": 0,
      "orientation": "horizontal",
      "style": "IPY_MODEL_87338d3fd6e34c729189c6c770abf012",
      "value": 618
     }
    },
    "e159e1c4b6734b7cbb84325195b33b6c": {
     "model_module": "@jupyter-widgets/controls",
     "model_name": "HTMLModel",
     "state": {
      "_dom_classes": [],
      "_model_module": "@jupyter-widgets/controls",
      "_model_module_version": "1.5.0",
      "_model_name": "HTMLModel",
      "_view_count": null,
      "_view_module": "@jupyter-widgets/controls",
      "_view_module_version": "1.5.0",
      "_view_name": "HTMLView",
      "description": "",
      "description_tooltip": null,
      "layout": "IPY_MODEL_4d1544cdc04b4f288282ab70356290e0",
      "placeholder": "​",
      "style": "IPY_MODEL_734ed14957944459bbe5522fac6c2b9d",
      "value": " 99% 621/625 [00:04&lt;00:00, 129.06it/s, loss=0.0543]"
     }
    },
    "e1a9c3515efd4cf0867c0cbe5639f591": {
     "model_module": "@jupyter-widgets/controls",
     "model_name": "ProgressStyleModel",
     "state": {
      "_model_module": "@jupyter-widgets/controls",
      "_model_module_version": "1.5.0",
      "_model_name": "ProgressStyleModel",
      "_view_count": null,
      "_view_module": "@jupyter-widgets/base",
      "_view_module_version": "1.2.0",
      "_view_name": "StyleView",
      "bar_color": null,
      "description_width": "initial"
     }
    },
    "e3f4c13d2c994fb0813ddf53cdb4199c": {
     "model_module": "@jupyter-widgets/controls",
     "model_name": "ProgressStyleModel",
     "state": {
      "_model_module": "@jupyter-widgets/controls",
      "_model_module_version": "1.5.0",
      "_model_name": "ProgressStyleModel",
      "_view_count": null,
      "_view_module": "@jupyter-widgets/base",
      "_view_module_version": "1.2.0",
      "_view_name": "StyleView",
      "bar_color": null,
      "description_width": ""
     }
    },
    "e5011d1d3a8e47a19f7b121bc6ce6be6": {
     "model_module": "@jupyter-widgets/base",
     "model_name": "LayoutModel",
     "state": {
      "_model_module": "@jupyter-widgets/base",
      "_model_module_version": "1.2.0",
      "_model_name": "LayoutModel",
      "_view_count": null,
      "_view_module": "@jupyter-widgets/base",
      "_view_module_version": "1.2.0",
      "_view_name": "LayoutView",
      "align_content": null,
      "align_items": null,
      "align_self": null,
      "border": null,
      "bottom": null,
      "display": null,
      "flex": null,
      "flex_flow": null,
      "grid_area": null,
      "grid_auto_columns": null,
      "grid_auto_flow": null,
      "grid_auto_rows": null,
      "grid_column": null,
      "grid_gap": null,
      "grid_row": null,
      "grid_template_areas": null,
      "grid_template_columns": null,
      "grid_template_rows": null,
      "height": null,
      "justify_content": null,
      "justify_items": null,
      "left": null,
      "margin": null,
      "max_height": null,
      "max_width": null,
      "min_height": null,
      "min_width": null,
      "object_fit": null,
      "object_position": null,
      "order": null,
      "overflow": null,
      "overflow_x": null,
      "overflow_y": null,
      "padding": null,
      "right": null,
      "top": null,
      "visibility": null,
      "width": null
     }
    },
    "e59d652aaa794d9da0e7ca38ab8af837": {
     "model_module": "@jupyter-widgets/controls",
     "model_name": "HBoxModel",
     "state": {
      "_dom_classes": [],
      "_model_module": "@jupyter-widgets/controls",
      "_model_module_version": "1.5.0",
      "_model_name": "HBoxModel",
      "_view_count": null,
      "_view_module": "@jupyter-widgets/controls",
      "_view_module_version": "1.5.0",
      "_view_name": "HBoxView",
      "box_style": "",
      "children": [
       "IPY_MODEL_5951ccd5305a43bcbaed8ffaa27e7b04",
       "IPY_MODEL_b6d64a3add0b4bcbbdd613561b755446"
      ],
      "layout": "IPY_MODEL_9ec7e2df4c53447caeef9078eac48e16"
     }
    },
    "e5b5cfeb14274f9383bac5e5379b866b": {
     "model_module": "@jupyter-widgets/controls",
     "model_name": "HTMLModel",
     "state": {
      "_dom_classes": [],
      "_model_module": "@jupyter-widgets/controls",
      "_model_module_version": "1.5.0",
      "_model_name": "HTMLModel",
      "_view_count": null,
      "_view_module": "@jupyter-widgets/controls",
      "_view_module_version": "1.5.0",
      "_view_name": "HTMLView",
      "description": "",
      "description_tooltip": null,
      "layout": "IPY_MODEL_95abc79f3e8548b29f862974d7b425d6",
      "placeholder": "​",
      "style": "IPY_MODEL_486c3c3438574bffb7e645eddf06232f",
      "value": "100% 10/10 [00:53&lt;00:00,  5.35s/it]"
     }
    },
    "e980266ef9864f16a70d95c4a2c07a48": {
     "model_module": "@jupyter-widgets/base",
     "model_name": "LayoutModel",
     "state": {
      "_model_module": "@jupyter-widgets/base",
      "_model_module_version": "1.2.0",
      "_model_name": "LayoutModel",
      "_view_count": null,
      "_view_module": "@jupyter-widgets/base",
      "_view_module_version": "1.2.0",
      "_view_name": "LayoutView",
      "align_content": null,
      "align_items": null,
      "align_self": null,
      "border": null,
      "bottom": null,
      "display": null,
      "flex": null,
      "flex_flow": null,
      "grid_area": null,
      "grid_auto_columns": null,
      "grid_auto_flow": null,
      "grid_auto_rows": null,
      "grid_column": null,
      "grid_gap": null,
      "grid_row": null,
      "grid_template_areas": null,
      "grid_template_columns": null,
      "grid_template_rows": null,
      "height": null,
      "justify_content": null,
      "justify_items": null,
      "left": null,
      "margin": null,
      "max_height": null,
      "max_width": null,
      "min_height": null,
      "min_width": null,
      "object_fit": null,
      "object_position": null,
      "order": null,
      "overflow": null,
      "overflow_x": null,
      "overflow_y": null,
      "padding": null,
      "right": null,
      "top": null,
      "visibility": null,
      "width": null
     }
    },
    "ebfb7274c1854a63aa2d49dcff236907": {
     "model_module": "@jupyter-widgets/controls",
     "model_name": "HBoxModel",
     "state": {
      "_dom_classes": [],
      "_model_module": "@jupyter-widgets/controls",
      "_model_module_version": "1.5.0",
      "_model_name": "HBoxModel",
      "_view_count": null,
      "_view_module": "@jupyter-widgets/controls",
      "_view_module_version": "1.5.0",
      "_view_name": "HBoxView",
      "box_style": "",
      "children": [
       "IPY_MODEL_ae85e703fcec4a16b7f50373428048e2",
       "IPY_MODEL_e159e1c4b6734b7cbb84325195b33b6c"
      ],
      "layout": "IPY_MODEL_69292f97735b459ab4ed5a7edc297034"
     }
    },
    "ece51029905e4801a5873ffce8becf9c": {
     "model_module": "@jupyter-widgets/controls",
     "model_name": "DescriptionStyleModel",
     "state": {
      "_model_module": "@jupyter-widgets/controls",
      "_model_module_version": "1.5.0",
      "_model_name": "DescriptionStyleModel",
      "_view_count": null,
      "_view_module": "@jupyter-widgets/base",
      "_view_module_version": "1.2.0",
      "_view_name": "StyleView",
      "description_width": ""
     }
    },
    "ee15a9c09fd44b25b06120df30272035": {
     "model_module": "@jupyter-widgets/controls",
     "model_name": "HTMLModel",
     "state": {
      "_dom_classes": [],
      "_model_module": "@jupyter-widgets/controls",
      "_model_module_version": "1.5.0",
      "_model_name": "HTMLModel",
      "_view_count": null,
      "_view_module": "@jupyter-widgets/controls",
      "_view_module_version": "1.5.0",
      "_view_name": "HTMLView",
      "description": "",
      "description_tooltip": null,
      "layout": "IPY_MODEL_3240e2dad4454677a385ab038c464107",
      "placeholder": "​",
      "style": "IPY_MODEL_fd95680eb12b44479a5133d85c53daac",
      "value": "100% 625/625 [00:05&lt;00:00, 107.44it/s, loss=0.0915]"
     }
    },
    "f37239ab4dea498fa1484d70c7fb7aaa": {
     "model_module": "@jupyter-widgets/base",
     "model_name": "LayoutModel",
     "state": {
      "_model_module": "@jupyter-widgets/base",
      "_model_module_version": "1.2.0",
      "_model_name": "LayoutModel",
      "_view_count": null,
      "_view_module": "@jupyter-widgets/base",
      "_view_module_version": "1.2.0",
      "_view_name": "LayoutView",
      "align_content": null,
      "align_items": null,
      "align_self": null,
      "border": null,
      "bottom": null,
      "display": null,
      "flex": null,
      "flex_flow": null,
      "grid_area": null,
      "grid_auto_columns": null,
      "grid_auto_flow": null,
      "grid_auto_rows": null,
      "grid_column": null,
      "grid_gap": null,
      "grid_row": null,
      "grid_template_areas": null,
      "grid_template_columns": null,
      "grid_template_rows": null,
      "height": null,
      "justify_content": null,
      "justify_items": null,
      "left": null,
      "margin": null,
      "max_height": null,
      "max_width": null,
      "min_height": null,
      "min_width": null,
      "object_fit": null,
      "object_position": null,
      "order": null,
      "overflow": null,
      "overflow_x": null,
      "overflow_y": null,
      "padding": null,
      "right": null,
      "top": null,
      "visibility": null,
      "width": null
     }
    },
    "f4d52b09951a4e2f9760e6112c8b57fd": {
     "model_module": "@jupyter-widgets/controls",
     "model_name": "DescriptionStyleModel",
     "state": {
      "_model_module": "@jupyter-widgets/controls",
      "_model_module_version": "1.5.0",
      "_model_name": "DescriptionStyleModel",
      "_view_count": null,
      "_view_module": "@jupyter-widgets/base",
      "_view_module_version": "1.2.0",
      "_view_name": "StyleView",
      "description_width": ""
     }
    },
    "f6b3ba9a33b04b53ab9b75e3a3c15e12": {
     "model_module": "@jupyter-widgets/controls",
     "model_name": "ProgressStyleModel",
     "state": {
      "_model_module": "@jupyter-widgets/controls",
      "_model_module_version": "1.5.0",
      "_model_name": "ProgressStyleModel",
      "_view_count": null,
      "_view_module": "@jupyter-widgets/base",
      "_view_module_version": "1.2.0",
      "_view_name": "StyleView",
      "bar_color": null,
      "description_width": "initial"
     }
    },
    "fba82571c2c44c7d84673b48bffbb974": {
     "model_module": "@jupyter-widgets/controls",
     "model_name": "HTMLModel",
     "state": {
      "_dom_classes": [],
      "_model_module": "@jupyter-widgets/controls",
      "_model_module_version": "1.5.0",
      "_model_name": "HTMLModel",
      "_view_count": null,
      "_view_module": "@jupyter-widgets/controls",
      "_view_module_version": "1.5.0",
      "_view_name": "HTMLView",
      "description": "",
      "description_tooltip": null,
      "layout": "IPY_MODEL_7ffa3e4885de477e8f9659eb9d60b84d",
      "placeholder": "​",
      "style": "IPY_MODEL_1e063c748c104c16b7f2c850dcb45012",
      "value": " 98% 154/157 [00:00&lt;00:00, 356.23it/s]"
     }
    },
    "fc2ed7aca7744f4fab0515782f835c17": {
     "model_module": "@jupyter-widgets/base",
     "model_name": "LayoutModel",
     "state": {
      "_model_module": "@jupyter-widgets/base",
      "_model_module_version": "1.2.0",
      "_model_name": "LayoutModel",
      "_view_count": null,
      "_view_module": "@jupyter-widgets/base",
      "_view_module_version": "1.2.0",
      "_view_name": "LayoutView",
      "align_content": null,
      "align_items": null,
      "align_self": null,
      "border": null,
      "bottom": null,
      "display": null,
      "flex": null,
      "flex_flow": null,
      "grid_area": null,
      "grid_auto_columns": null,
      "grid_auto_flow": null,
      "grid_auto_rows": null,
      "grid_column": null,
      "grid_gap": null,
      "grid_row": null,
      "grid_template_areas": null,
      "grid_template_columns": null,
      "grid_template_rows": null,
      "height": null,
      "justify_content": null,
      "justify_items": null,
      "left": null,
      "margin": null,
      "max_height": null,
      "max_width": null,
      "min_height": null,
      "min_width": null,
      "object_fit": null,
      "object_position": null,
      "order": null,
      "overflow": null,
      "overflow_x": null,
      "overflow_y": null,
      "padding": null,
      "right": null,
      "top": null,
      "visibility": null,
      "width": null
     }
    },
    "fd95680eb12b44479a5133d85c53daac": {
     "model_module": "@jupyter-widgets/controls",
     "model_name": "DescriptionStyleModel",
     "state": {
      "_model_module": "@jupyter-widgets/controls",
      "_model_module_version": "1.5.0",
      "_model_name": "DescriptionStyleModel",
      "_view_count": null,
      "_view_module": "@jupyter-widgets/base",
      "_view_module_version": "1.2.0",
      "_view_name": "StyleView",
      "description_width": ""
     }
    },
    "fdf3b83375124f02bd237e1b8fca65c7": {
     "model_module": "@jupyter-widgets/controls",
     "model_name": "ProgressStyleModel",
     "state": {
      "_model_module": "@jupyter-widgets/controls",
      "_model_module_version": "1.5.0",
      "_model_name": "ProgressStyleModel",
      "_view_count": null,
      "_view_module": "@jupyter-widgets/base",
      "_view_module_version": "1.2.0",
      "_view_name": "StyleView",
      "bar_color": null,
      "description_width": ""
     }
    }
   }
  }
 },
 "nbformat": 4,
 "nbformat_minor": 4
}
