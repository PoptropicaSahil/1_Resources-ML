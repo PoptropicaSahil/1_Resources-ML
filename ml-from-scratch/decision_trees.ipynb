{
 "cells": [
  {
   "cell_type": "code",
   "execution_count": 1,
   "metadata": {},
   "outputs": [],
   "source": [
    "import numpy as np\n",
    "import matplotlib.pyplot as plt"
   ]
  },
  {
   "cell_type": "markdown",
   "metadata": {},
   "source": [
    "# Decision Trees"
   ]
  },
  {
   "cell_type": "markdown",
   "metadata": {},
   "source": [
    "### Splitting Criteria:\n",
    "**Choosing the best attribute to split** the data at each node. This is done by maximizing the information gain or minimizing impurity.\n",
    "\n",
    "\n",
    "- **Entropy**\n",
    "$$H(T) = -Σ p(i|t) \\log₂(p(i|t))$$\n",
    "where $p(i|t)$ is the proportion of samples belonging to class $i$ at node $t$.\n",
    "\n",
    "- **Gini Index**\n",
    "$$G(T) = 1 - Σ [p(i|t)]²$$\n",
    "\n",
    "- **Misclassification Error**\n",
    "$$E(T) = 1 - max[p(i|t)]$$\n",
    "\n",
    "- **Information Gain**\n",
    "Information gain is the difference in entropy before and after the split:\n",
    "\n",
    "$$IG(T, a) = H(T) - Σ (|Tv| / |T|) * H(Tv)$$\n",
    "where $a$ is the attribute, $T$ is the parent node, $Tv$ are the child nodes, and $|T|$ is the number of samples at node $T$"
   ]
  },
  {
   "cell_type": "markdown",
   "metadata": {},
   "source": [
    "#### **COMPUTATION**\n",
    "- **Entropy is more complex since it makes use of logarithms and consequently, the calculation of the Gini Index will be faster**\n",
    "- entropy tends to create more balanced trees\n",
    "- Gini is intended for continuous attributes and Entropy is for attributes that occur in classes\n"
   ]
  },
  {
   "cell_type": "code",
   "execution_count": null,
   "metadata": {},
   "outputs": [],
   "source": []
  },
  {
   "cell_type": "code",
   "execution_count": null,
   "metadata": {},
   "outputs": [],
   "source": []
  }
 ],
 "metadata": {
  "kernelspec": {
   "display_name": "Python 3",
   "language": "python",
   "name": "python3"
  },
  "language_info": {
   "codemirror_mode": {
    "name": "ipython",
    "version": 3
   },
   "file_extension": ".py",
   "mimetype": "text/x-python",
   "name": "python",
   "nbconvert_exporter": "python",
   "pygments_lexer": "ipython3",
   "version": "3.11.7"
  }
 },
 "nbformat": 4,
 "nbformat_minor": 2
}
