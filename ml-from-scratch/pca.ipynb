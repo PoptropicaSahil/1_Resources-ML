{
 "cells": [
  {
   "cell_type": "code",
   "execution_count": 1,
   "metadata": {},
   "outputs": [],
   "source": [
    "import numpy as np\n",
    "import matplotlib.pyplot as plt"
   ]
  },
  {
   "cell_type": "code",
   "execution_count": 3,
   "metadata": {},
   "outputs": [
    {
     "data": {
      "text/plain": [
       "(10, 10)"
      ]
     },
     "execution_count": 3,
     "metadata": {},
     "output_type": "execute_result"
    }
   ],
   "source": [
    "# defining features\n",
    "x1 = [2.5, 0.5, 2.2, 1.9, 3.1, 2.3, 2, 1, 1.5, 1.1]\n",
    "x2 = [2.4, 0.7, 2.9, 2.2, 3, 2.7, 1.6, 1.1, 1.6, 0.9]\n",
    "len(x1), len(x2)"
   ]
  },
  {
   "cell_type": "code",
   "execution_count": 12,
   "metadata": {},
   "outputs": [
    {
     "data": {
      "image/png": "[encoded data removed]",
      "text/plain": [
       "<Figure size 300x300 with 1 Axes>"
      ]
     },
     "metadata": {},
     "output_type": "display_data"
    }
   ],
   "source": [
    "# plotting\n",
    "plt.figure(figsize=(3,3))\n",
    "plt.title(\"X1 vs X2\")\n",
    "plt.plot(x1, x2, '*')\n",
    "plt.xlabel('X1')\n",
    "plt.ylabel('X2')\n",
    "plt.show()"
   ]
  },
  {
   "cell_type": "code",
   "execution_count": 10,
   "metadata": {},
   "outputs": [
    {
     "data": {
      "text/plain": [
       "(array([ 0.92627881, -1.7585873 ,  0.52354889,  0.12081898,  1.73173864,\n",
       "         0.6577922 ,  0.25506228, -1.08737078, -0.41615425, -0.95312747]),\n",
       " array([ 0.61016865, -1.506743  ,  1.23278973,  0.36112022,  1.35731394,\n",
       "         0.9837413 , -0.38602507, -1.00864614, -0.38602507, -1.25769457]))"
      ]
     },
     "execution_count": 10,
     "metadata": {},
     "output_type": "execute_result"
    }
   ],
   "source": [
    "# Standardization\n",
    "\n",
    "def standardize(data):\n",
    "    return (data - np.mean(data)) / np.std(data)\n",
    "\n",
    "x1_standardized = standardize(x1)\n",
    "x2_standardized = standardize(x2)\n",
    "\n",
    "x1_standardized, x2_standardized"
   ]
  },
  {
   "cell_type": "code",
   "execution_count": 13,
   "metadata": {},
   "outputs": [
    {
     "data": {
      "image/png": "[encoded data removed]",
      "text/plain": [
       "<Figure size 300x300 with 1 Axes>"
      ]
     },
     "metadata": {},
     "output_type": "display_data"
    }
   ],
   "source": [
    "plt.figure(figsize=(3,3))\n",
    "plt.title(\"X1 std vs X2 std\")\n",
    "plt.plot(x1_standardized, x2_standardized, '*')\n",
    "plt.xlabel('X1 std')\n",
    "plt.ylabel('X2 std')\n",
    "plt.show()"
   ]
  },
  {
   "cell_type": "code",
   "execution_count": 14,
   "metadata": {},
   "outputs": [
    {
     "data": {
      "text/plain": [
       "array([[1.11111111, 1.0288103 ],\n",
       "       [1.0288103 , 1.11111111]])"
      ]
     },
     "execution_count": 14,
     "metadata": {},
     "output_type": "execute_result"
    }
   ],
   "source": [
    "# Covariance matrix of data matrix\n",
    "# Shape will be (m, m) i.e. square\n",
    "# m: number of features\n",
    "\n",
    "# This (m, m) matrix will have m PCs\n",
    "\n",
    "covariance_matrix = np.cov(x1_standardized, x2_standardized)\n",
    "covariance_matrix"
   ]
  },
  {
   "cell_type": "code",
   "execution_count": 16,
   "metadata": {},
   "outputs": [
    {
     "data": {
      "text/plain": [
       "(array([2.13992141, 0.08230081]),\n",
       " array([[ 0.70710678, -0.70710678],\n",
       "        [ 0.70710678,  0.70710678]]))"
      ]
     },
     "execution_count": 16,
     "metadata": {},
     "output_type": "execute_result"
    }
   ],
   "source": [
    "# Eigendecomposition of covariance matrix\n",
    "# column ``eigenvectors[:,i]`` is the eigenvector \n",
    "# corresponding to the eigenvalue ``eigenvalues[i]``.\n",
    "\n",
    "# eigenvalues are not necessarily ordered\n",
    "\n",
    "eigenvalues, eigenvectors = np.linalg.eig(covariance_matrix)\n",
    "eigenvalues, eigenvectors"
   ]
  },
  {
   "cell_type": "code",
   "execution_count": 20,
   "metadata": {},
   "outputs": [],
   "source": [
    "# np.linalg.eig??"
   ]
  },
  {
   "cell_type": "code",
   "execution_count": 24,
   "metadata": {},
   "outputs": [
    {
     "data": {
      "text/plain": [
       "(array([0, 1]), array([1, 0]))"
      ]
     },
     "execution_count": 24,
     "metadata": {},
     "output_type": "execute_result"
    }
   ],
   "source": [
    "sort_idx = np.argsort(eigenvalues) # ascending order\n",
    "desc_idx = sort_idx[::-1]\n",
    "desc_idx, sort_idx"
   ]
  },
  {
   "cell_type": "code",
   "execution_count": 41,
   "metadata": {},
   "outputs": [
    {
     "data": {
      "text/plain": [
       "(array([2.13992141, 0.08230081]), array([0.96296464, 0.03703536]))"
      ]
     },
     "execution_count": 41,
     "metadata": {},
     "output_type": "execute_result"
    }
   ],
   "source": [
    "# sorted eigenvalues\n",
    "eigenvalues_sorted = eigenvalues[desc_idx]\n",
    "eigenvals_expl_variance = eigenvalues_sorted / np.sum(eigenvalues_sorted)\n",
    "eigenvalues_sorted, eigenvals_expl_variance"
   ]
  },
  {
   "cell_type": "code",
   "execution_count": 30,
   "metadata": {},
   "outputs": [
    {
     "data": {
      "text/plain": [
       "array([[ 0.70710678, -0.70710678],\n",
       "       [ 0.70710678,  0.70710678]])"
      ]
     },
     "execution_count": 30,
     "metadata": {},
     "output_type": "execute_result"
    }
   ],
   "source": [
    "# maintain the columns as eigenvectors\n",
    "eigenvectors_sorted = eigenvectors.T[desc_idx].T\n",
    "eigenvectors_sorted"
   ]
  },
  {
   "cell_type": "code",
   "execution_count": 36,
   "metadata": {},
   "outputs": [
    {
     "data": {
      "text/plain": [
       "array([2, 1])"
      ]
     },
     "execution_count": 36,
     "metadata": {},
     "output_type": "execute_result"
    }
   ],
   "source": [
    "# new data\n",
    "new_data = np.array(([2, 1]))\n",
    "new_data"
   ]
  },
  {
   "cell_type": "code",
   "execution_count": 37,
   "metadata": {},
   "outputs": [
    {
     "data": {
      "text/plain": [
       "array([1.41421356, 0.70710678])"
      ]
     },
     "execution_count": 37,
     "metadata": {},
     "output_type": "execute_result"
    }
   ],
   "source": [
    "# assuming only one PCA dimension is taken\n",
    "new_data_in_pca = new_data * eigenvectors_sorted[:,0]\n",
    "new_data_in_pca"
   ]
  },
  {
   "cell_type": "code",
   "execution_count": null,
   "metadata": {},
   "outputs": [],
   "source": []
  }
 ],
 "metadata": {
  "kernelspec": {
   "display_name": "Python 3",
   "language": "python",
   "name": "python3"
  },
  "language_info": {
   "codemirror_mode": {
    "name": "ipython",
    "version": 3
   },
   "file_extension": ".py",
   "mimetype": "text/x-python",
   "name": "python",
   "nbconvert_exporter": "python",
   "pygments_lexer": "ipython3",
   "version": "3.12.4"
  }
 },
 "nbformat": 4,
 "nbformat_minor": 2
}
