{
 "cells": [
  {
   "cell_type": "code",
   "execution_count": 6,
   "metadata": {},
   "outputs": [],
   "source": [
    "import numpy as np"
   ]
  },
  {
   "cell_type": "code",
   "execution_count": 7,
   "metadata": {},
   "outputs": [],
   "source": [
    "y_true = np.array([0, 0, 1, 1])\n",
    "y_scores = np.array([0.1, 0.4, 0.35, 0.8])"
   ]
  },
  {
   "cell_type": "code",
   "execution_count": 20,
   "metadata": {},
   "outputs": [],
   "source": [
    "def calculate_auc(y_true, y_pred):\n",
    "\n",
    "    print(f'Initially values are y_true {y_true}, y_pred {y_pred}')\n",
    "    \n",
    "    # Sort scores and corresponding truth values BY SCORES\n",
    "    # AUC calculation requires evaluating the model's performance at different threshold levels\n",
    "    # from the highest score to the lowest\n",
    "    sorted_indices = np.argsort(y_pred)[::-1]\n",
    "    y_true = y_true[sorted_indices]\n",
    "    y_pred = y_pred[sorted_indices]\n",
    "\n",
    "    print(f'Sorted values are y_true {y_true}, y_pred {y_pred}')\n",
    "    \n",
    "    # Count positive and negative samples\n",
    "    n_pos = np.sum(y_true == 1)\n",
    "    n_neg = len(y_true) - n_pos\n",
    "    \n",
    "    print(f'Num positive samples = {n_pos}, num negative samples {n_neg}')\n",
    "\n",
    "    # Calculate TPR and FPR\n",
    "    # TPR (True Positive Rate) - cumulative sum of true positives divided by the total number of positives.\n",
    "    # FPR (False Positive Rate) - cumulative sum of false positives divided by the total number of negatives.\n",
    "\n",
    "    # Using cumsum is effectively calculating these rates at each possible threshold\n",
    "    # **NOTE**: Because we ordered in decreasing order of predictions, the preds BELOW the cutoff will be 1, ABOVE will be 0\n",
    "    tpr = np.cumsum(y_true) / n_pos\n",
    "    fpr = np.cumsum(1 - y_true) / n_neg\n",
    "\n",
    "    print(f'TPR and FPR are {tpr}, {fpr}')\n",
    "    \n",
    "    # Add start and end points\n",
    "    tpr = np.concatenate([[0], tpr, [1]])\n",
    "    fpr = np.concatenate([[0], fpr, [1]])\n",
    "\n",
    "    print(f'Full TPR and FPR are {tpr}, {fpr}')\n",
    "\n",
    "    \n",
    "    # Calculate AUC using trapezoidal rule\n",
    "    auc = np.trapezoid(tpr, fpr)\n",
    "    \n",
    "    return auc"
   ]
  },
  {
   "cell_type": "code",
   "execution_count": 21,
   "metadata": {},
   "outputs": [
    {
     "name": "stdout",
     "output_type": "stream",
     "text": [
      "Initially values are y_true [0 0 1 1], y_pred [0.1  0.4  0.35 0.8 ]\n",
      "Sorted values are y_true [1 0 1 0], y_pred [0.8  0.4  0.35 0.1 ]\n",
      "Num positive samples = 2, num negative samples 2\n",
      "TPR and FPR are [0.5 0.5 1.  1. ], [0.  0.5 0.5 1. ]\n",
      "Full TPR and FPR are [0.  0.5 0.5 1.  1.  1. ], [0.  0.  0.5 0.5 1.  1. ]\n"
     ]
    },
    {
     "data": {
      "text/plain": [
       "np.float64(0.75)"
      ]
     },
     "execution_count": 21,
     "metadata": {},
     "output_type": "execute_result"
    }
   ],
   "source": [
    "auc = calculate_auc(y_true, y_scores)\n",
    "auc"
   ]
  },
  {
   "cell_type": "code",
   "execution_count": null,
   "metadata": {},
   "outputs": [],
   "source": []
  },
  {
   "cell_type": "code",
   "execution_count": null,
   "metadata": {},
   "outputs": [],
   "source": []
  }
 ],
 "metadata": {
  "kernelspec": {
   "display_name": "Python 3",
   "language": "python",
   "name": "python3"
  },
  "language_info": {
   "codemirror_mode": {
    "name": "ipython",
    "version": 3
   },
   "file_extension": ".py",
   "mimetype": "text/x-python",
   "name": "python",
   "nbconvert_exporter": "python",
   "pygments_lexer": "ipython3",
   "version": "3.12.4"
  }
 },
 "nbformat": 4,
 "nbformat_minor": 2
}
