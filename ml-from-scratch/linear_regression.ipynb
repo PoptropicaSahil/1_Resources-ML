{
 "cells": [
  {
   "cell_type": "code",
   "execution_count": 1,
   "metadata": {},
   "outputs": [],
   "source": [
    "import numpy as np\n",
    "import matplotlib.pyplot as plt"
   ]
  },
  {
   "cell_type": "markdown",
   "metadata": {},
   "source": [
    "# Linear Regression"
   ]
  },
  {
   "cell_type": "markdown",
   "metadata": {},
   "source": [
    "### Overview:\n",
    "Linear regression is a fundamental supervised learning algorithm used for predicting a continuous target variable based on one or more input features. It assumes a linear relationship between the features and the target.\n",
    "\n",
    "### Key concepts:\n",
    "- Ordinary Least Squares (OLS)\n",
    "- Gradient descent optimization\n",
    "- R-squared and adjusted R-squared\n",
    "- Multicollinearity\n",
    "- Assumptions: linearity, independence, homoscedasticity, normality of residuals\n",
    "- Cost function (Mean Squared Error)\n",
    "\n",
    "\n",
    "### Assumptions - acronym LINE:\n",
    "- **(L) Linearity**: The relationship between the independent variables (features) and the dependent variable (target) should be linear. This can be checked by plotting the residuals against the predicted values.\n",
    "- **(I) Independence**: The observations should be independent of each other. This is typically ensured by the data collection process.\n",
    "- **(N) Normality of residuals**: The residuals should be normally distributed. This can be checked using a Q-Q plot or statistical tests like the Shapiro-Wilk test.\n",
    "- **(E) - Equal variance - Homoscedasticity**: The variance of the residuals should be constant across all levels of the independent variables. This can be checked by plotting the residuals against the predicted values.\n",
    "\n",
    "- **No multicollinearity**: The independent variables should not be highly correlated with each other. This can be checked using the Variance Inflation Factor (VIF).\n",
    "- **No outliers**: Extreme values can have a significant impact on the regression line. These can be identified using scatter plots or statistical methods like Cook's distance.\n",
    "- **Large sample size**: The sample size should be large enough to ensure the reliability of the estimates."
   ]
  },
  {
   "cell_type": "markdown",
   "metadata": {},
   "source": [
    "## GRADIENT DESCENT WAY\n",
    "$$y = Xw + b$$\n",
    "- $y$ shape $(m, )$\n",
    "- $X$ shape $(m, n)$\n",
    "- $w$ shape $(n, )$\n",
    "- $b$ is constant, we keep shape $(m, )$ - broadcasting"
   ]
  },
  {
   "cell_type": "markdown",
   "metadata": {},
   "source": [
    "**Recommened Reads**\n",
    "![mse-1.png](attachment:images/mse-1.png)\n",
    "![mse-2.png](attachment:mse-2.png)"
   ]
  },
  {
   "cell_type": "markdown",
   "metadata": {},
   "source": [
    "### Cost Function (MSE):\n",
    "\n",
    "$$L(w,b) = (1/2m) * Σ(y_{pred} - y)^2$$\n",
    "$$L(w,b) = (1/2m) * Σ(Xw+b - y)^2$$\n",
    "- $m$ is the number of samples"
   ]
  },
  {
   "cell_type": "markdown",
   "metadata": {},
   "source": [
    "----"
   ]
  },
  {
   "cell_type": "markdown",
   "metadata": {},
   "source": [
    "### Gradients \n",
    "\n",
    "**Start with $L$ for a single sample** \n",
    "$$L(w,b) = (1/2) * (Xw + b - y)^2$$\n",
    "\n",
    "Then,\n",
    "$$∂L/∂w = (Xw + b - y) * x$$  \n",
    "$$∂L/∂w = (y_{pred} - y) * x$$  \n",
    "where $x$ is that one sample\n",
    "\n",
    "**Now, for all samples, we take the mean (EVIDENT FROM $L$'s definition!!)**\n",
    "\n",
    "$\\frac{\\partial L}{\\partial w} = \\frac{1}{m} \\sum_{i=1}^m [(y_{pred_i} - y_i) \\cdot x_i]$\n",
    "\n",
    "$\\frac{\\partial L}{\\partial b} = \\frac{1}{m} \\sum_{i=1}^m (y_{pred_i} - y_i)$\n",
    "\n",
    "In vector notation:\n",
    "\n",
    "$\\frac{\\partial L}{\\partial w} = \\frac{1}{m} X^T (\\hat{y} - y)$\n",
    "\n",
    "$\\frac{\\partial L}{\\partial b} = \\frac{1}{m} \\sum (\\hat{y} - y)$\n",
    "\n"
   ]
  },
  {
   "cell_type": "markdown",
   "metadata": {},
   "source": [
    "---"
   ]
  },
  {
   "cell_type": "markdown",
   "metadata": {},
   "source": [
    "### Simple explanation\n",
    "- $X$ is a matrix of shape $(m, n)$\n",
    "- $y_{pred}$ and $y$ are vectors of shape $(m,)$.\n",
    "- The operation $X^T \\cdot (y_{pred} - y)$ implicitly performs the summation for $\\frac{\\partial L}{\\partial w}$."
   ]
  },
  {
   "cell_type": "markdown",
   "metadata": {},
   "source": [
    "---"
   ]
  },
  {
   "cell_type": "markdown",
   "metadata": {},
   "source": [
    "$$∂L/∂w = (1/m) * X^T * (y_{pred} - y)$$ \n",
    "$$∂L/∂b = (1/m) * Σ(y_{pred} - y)$$\n",
    "\n",
    "Update rule:\n",
    "$$w = w - α * ∂L/∂w$$\n",
    "$$b = b - α * ∂L/∂b$$\n",
    "- $α$ is the learning rate"
   ]
  },
  {
   "cell_type": "markdown",
   "metadata": {},
   "source": [
    "---"
   ]
  },
  {
   "cell_type": "markdown",
   "metadata": {},
   "source": [
    "\n",
    "### Implementation:"
   ]
  },
  {
   "cell_type": "code",
   "execution_count": 37,
   "metadata": {},
   "outputs": [],
   "source": [
    "class LinearRegression:\n",
    "    def __init__(self, learning_rate=0.01, n_iterations=10):\n",
    "        self.learning_rate = learning_rate\n",
    "        self.n_iterations = n_iterations\n",
    "        self.weights = None\n",
    "        self.bias = None\n",
    "\n",
    "    def fit(self, X, y):\n",
    "        n_samples, n_features = X.shape\n",
    "        self.weights = np.zeros(n_features)\n",
    "        self.bias = 0\n",
    "\n",
    "        # Gradient descent\n",
    "        for _ in range(self.n_iterations):\n",
    "            y_pred = np.dot(X, self.weights) + self.bias\n",
    "            # print(y_pred.shape) # (100,) i.e. all preds at a time\n",
    "\n",
    "            # Compute gradients\n",
    "            dw = (1 / n_samples) * np.dot(X.T, (y_pred - y))\n",
    "            db = (1 / n_samples) * np.sum(y_pred - y)\n",
    "\n",
    "            # Update parameters\n",
    "            self.weights -= self.learning_rate * dw\n",
    "            self.bias -= self.learning_rate * db\n",
    "\n",
    "    def predict(self, X):\n",
    "        return np.dot(X, self.weights) + self.bias"
   ]
  },
  {
   "cell_type": "code",
   "execution_count": 38,
   "metadata": {},
   "outputs": [
    {
     "name": "stdout",
     "output_type": "stream",
     "text": [
      "X shape = (100, 3), y shape = (100,)\n"
     ]
    }
   ],
   "source": [
    "# Generate sample data\n",
    "np.random.seed(0)\n",
    "X = np.random.rand(100, 3)\n",
    "# y = 2 + 3 * X + np.random.randn(100, 3) * 0.1\n",
    "y = 2 + 3 * X[:, 0] + 1.5 * X[:, 1] - 2 * X[:, 2] + np.random.randn(100) * 0.1\n",
    "\n",
    "\n",
    "print(f\"X shape = {X.shape}, y shape = {y.shape}\")"
   ]
  },
  {
   "cell_type": "code",
   "execution_count": 39,
   "metadata": {},
   "outputs": [
    {
     "data": {
      "text/plain": [
       "array([[0.5488135 , 0.71518937, 0.60276338],\n",
       "       [0.54488318, 0.4236548 , 0.64589411],\n",
       "       [0.43758721, 0.891773  , 0.96366276],\n",
       "       [0.38344152, 0.79172504, 0.52889492],\n",
       "       [0.56804456, 0.92559664, 0.07103606],\n",
       "       [0.0871293 , 0.0202184 , 0.83261985],\n",
       "       [0.77815675, 0.87001215, 0.97861834],\n",
       "       [0.79915856, 0.46147936, 0.78052918],\n",
       "       [0.11827443, 0.63992102, 0.14335329],\n",
       "       [0.94466892, 0.52184832, 0.41466194],\n",
       "       [0.26455561, 0.77423369, 0.45615033],\n",
       "       [0.56843395, 0.0187898 , 0.6176355 ],\n",
       "       [0.61209572, 0.616934  , 0.94374808],\n",
       "       [0.6818203 , 0.3595079 , 0.43703195],\n",
       "       [0.6976312 , 0.06022547, 0.66676672],\n",
       "       [0.67063787, 0.21038256, 0.1289263 ],\n",
       "       [0.31542835, 0.36371077, 0.57019677],\n",
       "       [0.43860151, 0.98837384, 0.10204481],\n",
       "       [0.20887676, 0.16130952, 0.65310833],\n",
       "       [0.2532916 , 0.46631077, 0.24442559],\n",
       "       [0.15896958, 0.11037514, 0.65632959],\n",
       "       [0.13818295, 0.19658236, 0.36872517],\n",
       "       [0.82099323, 0.09710128, 0.83794491],\n",
       "       [0.09609841, 0.97645947, 0.4686512 ],\n",
       "       [0.97676109, 0.60484552, 0.73926358],\n",
       "       [0.03918779, 0.28280696, 0.12019656],\n",
       "       [0.2961402 , 0.11872772, 0.31798318],\n",
       "       [0.41426299, 0.0641475 , 0.69247212],\n",
       "       [0.56660145, 0.26538949, 0.52324805],\n",
       "       [0.09394051, 0.5759465 , 0.9292962 ],\n",
       "       [0.31856895, 0.66741038, 0.13179786],\n",
       "       [0.7163272 , 0.28940609, 0.18319136],\n",
       "       [0.58651293, 0.02010755, 0.82894003],\n",
       "       [0.00469548, 0.67781654, 0.27000797],\n",
       "       [0.73519402, 0.96218855, 0.24875314],\n",
       "       [0.57615733, 0.59204193, 0.57225191],\n",
       "       [0.22308163, 0.95274901, 0.44712538],\n",
       "       [0.84640867, 0.69947928, 0.29743695],\n",
       "       [0.81379782, 0.39650574, 0.8811032 ],\n",
       "       [0.58127287, 0.88173536, 0.69253159],\n",
       "       [0.72525428, 0.50132438, 0.95608363],\n",
       "       [0.6439902 , 0.42385505, 0.60639321],\n",
       "       [0.0191932 , 0.30157482, 0.66017354],\n",
       "       [0.29007761, 0.61801543, 0.4287687 ],\n",
       "       [0.13547406, 0.29828233, 0.56996491],\n",
       "       [0.59087276, 0.57432525, 0.65320082],\n",
       "       [0.65210327, 0.43141844, 0.8965466 ],\n",
       "       [0.36756187, 0.43586493, 0.89192336],\n",
       "       [0.80619399, 0.70388858, 0.10022689],\n",
       "       [0.91948261, 0.7142413 , 0.99884701],\n",
       "       [0.1494483 , 0.86812606, 0.16249293],\n",
       "       [0.61555956, 0.12381998, 0.84800823],\n",
       "       [0.80731896, 0.56910074, 0.4071833 ],\n",
       "       [0.069167  , 0.69742877, 0.45354268],\n",
       "       [0.7220556 , 0.86638233, 0.97552151],\n",
       "       [0.85580334, 0.01171408, 0.35997806],\n",
       "       [0.72999056, 0.17162968, 0.52103661],\n",
       "       [0.05433799, 0.19999652, 0.01852179],\n",
       "       [0.7936977 , 0.22392469, 0.34535168],\n",
       "       [0.92808129, 0.7044144 , 0.03183893],\n",
       "       [0.16469416, 0.6214784 , 0.57722859],\n",
       "       [0.23789282, 0.934214  , 0.61396596],\n",
       "       [0.5356328 , 0.58990998, 0.73012203],\n",
       "       [0.311945  , 0.39822106, 0.20984375],\n",
       "       [0.18619301, 0.94437239, 0.7395508 ],\n",
       "       [0.49045881, 0.22741463, 0.25435648],\n",
       "       [0.05802916, 0.43441663, 0.31179588],\n",
       "       [0.69634349, 0.37775184, 0.17960368],\n",
       "       [0.02467873, 0.06724963, 0.67939277],\n",
       "       [0.45369684, 0.53657921, 0.89667129],\n",
       "       [0.99033895, 0.21689698, 0.6630782 ],\n",
       "       [0.26332238, 0.020651  , 0.75837865],\n",
       "       [0.32001715, 0.38346389, 0.58831711],\n",
       "       [0.83104846, 0.62898184, 0.87265066],\n",
       "       [0.27354203, 0.79804683, 0.18563594],\n",
       "       [0.95279166, 0.68748828, 0.21550768],\n",
       "       [0.94737059, 0.73085581, 0.25394164],\n",
       "       [0.21331198, 0.51820071, 0.02566272],\n",
       "       [0.20747008, 0.42468547, 0.37416998],\n",
       "       [0.46357542, 0.27762871, 0.58678435],\n",
       "       [0.86385561, 0.11753186, 0.51737911],\n",
       "       [0.13206811, 0.71685968, 0.3960597 ],\n",
       "       [0.56542131, 0.18327984, 0.14484776],\n",
       "       [0.48805628, 0.35561274, 0.94043195],\n",
       "       [0.76532525, 0.74866362, 0.90371974],\n",
       "       [0.08342244, 0.55219247, 0.58447607],\n",
       "       [0.96193638, 0.29214753, 0.24082878],\n",
       "       [0.10029394, 0.01642963, 0.92952932],\n",
       "       [0.66991655, 0.78515291, 0.28173011],\n",
       "       [0.58641017, 0.06395527, 0.4856276 ],\n",
       "       [0.97749514, 0.87650525, 0.33815895],\n",
       "       [0.96157015, 0.23170163, 0.94931882],\n",
       "       [0.9413777 , 0.79920259, 0.63044794],\n",
       "       [0.87428797, 0.29302028, 0.84894356],\n",
       "       [0.61787669, 0.01323686, 0.34723352],\n",
       "       [0.14814086, 0.98182939, 0.47837031],\n",
       "       [0.49739137, 0.63947252, 0.36858461],\n",
       "       [0.13690027, 0.82211773, 0.18984791],\n",
       "       [0.51131898, 0.22431703, 0.09784448],\n",
       "       [0.86219152, 0.97291949, 0.96083466]])"
      ]
     },
     "execution_count": 39,
     "metadata": {},
     "output_type": "execute_result"
    }
   ],
   "source": [
    "X"
   ]
  },
  {
   "cell_type": "code",
   "execution_count": 40,
   "metadata": {},
   "outputs": [
    {
     "data": {
      "text/plain": [
       "array([3.52934846, 3.00156163, 2.66336401, 3.2563301 , 4.80805043,\n",
       "       0.57714382, 3.62796564, 3.57024139, 2.91237999, 4.86557516,\n",
       "       3.19216516, 2.29121705, 2.91681788, 3.77834964, 2.78595466,\n",
       "       4.02990767, 2.33816961, 4.56449659, 1.5314766 , 2.8028894 ,\n",
       "       1.44504544, 2.07993391, 2.85140536, 2.66903959, 4.41113087,\n",
       "       2.2438019 , 2.44474113, 1.92213315, 3.12054637, 1.35662379,\n",
       "       3.62066696, 4.07837163, 1.97352623, 2.55183323, 5.03247267,\n",
       "       3.42134945, 3.14448625, 4.9883143 , 3.0803177 , 3.70023634,\n",
       "       3.06797125, 3.36380895, 1.15850613, 2.94945858, 1.75382049,\n",
       "       3.05044524, 3.0059355 , 2.01164562, 5.20872021, 3.79302044,\n",
       "       3.47492231, 2.32478181, 4.25817294, 2.55300807, 3.50364321,\n",
       "       3.9670423 , 3.33613801, 2.57960287, 4.05491115, 5.83807201,\n",
       "       2.16731756, 3.00818208, 3.10050113, 3.2436637 , 2.43322726,\n",
       "       3.25568269, 2.43251233, 4.19044929, 0.80253012, 2.4863059 ,\n",
       "       3.97997841, 1.36248169, 2.31866816, 3.72832241, 3.51577178,\n",
       "       5.6244051 , 5.41869579, 3.29789375, 2.57773678, 2.58752866,\n",
       "       3.59968054, 2.54470268, 3.75086549, 2.10076671, 3.59816156,\n",
       "       2.01737825, 4.72969029, 0.39339986, 4.58553082, 2.89334336,\n",
       "       5.56670824, 3.30493654, 4.75587848, 3.35377669, 3.10705789,\n",
       "       2.87912675, 3.74166529, 3.17509008, 3.559008  , 4.09305524])"
      ]
     },
     "execution_count": 40,
     "metadata": {},
     "output_type": "execute_result"
    }
   ],
   "source": [
    "y"
   ]
  },
  {
   "cell_type": "code",
   "execution_count": 41,
   "metadata": {},
   "outputs": [],
   "source": [
    "# Create and train the model\n",
    "model = LinearRegression(learning_rate=0.01, n_iterations=1000)\n",
    "model.fit(X, y)"
   ]
  },
  {
   "cell_type": "code",
   "execution_count": 30,
   "metadata": {},
   "outputs": [
    {
     "data": {
      "text/plain": [
       "(np.float64(1.7952615933534417),\n",
       " array([ 1.96723339,  1.35875792, -0.51795697]))"
      ]
     },
     "execution_count": 30,
     "metadata": {},
     "output_type": "execute_result"
    }
   ],
   "source": [
    "model.bias, model.weights"
   ]
  },
  {
   "cell_type": "code",
   "execution_count": 28,
   "metadata": {},
   "outputs": [
    {
     "data": {
      "text/plain": [
       "array([0, 1, 2])"
      ]
     },
     "execution_count": 28,
     "metadata": {},
     "output_type": "execute_result"
    }
   ],
   "source": [
    "# Make predictions\n",
    "X_test = np.array([0,1,2])\n",
    "X_test\n"
   ]
  },
  {
   "cell_type": "code",
   "execution_count": 29,
   "metadata": {},
   "outputs": [
    {
     "data": {
      "text/plain": [
       "np.float64(2.1181055745605137)"
      ]
     },
     "execution_count": 29,
     "metadata": {},
     "output_type": "execute_result"
    }
   ],
   "source": [
    "y_pred = model.predict(X_test)\n",
    "y_pred"
   ]
  },
  {
   "cell_type": "code",
   "execution_count": null,
   "metadata": {},
   "outputs": [],
   "source": [
    "# Plot the results\n",
    "plt.scatter(X, y, color=\"b\", label=\"Data\")\n",
    "plt.plot(X_test, y_pred, color=\"r\", label=\"Prediction\")\n",
    "plt.xlabel(\"X\")\n",
    "plt.ylabel(\"y\")\n",
    "plt.legend()\n",
    "plt.show()\n",
    "\n",
    "# Print the learned parameters\n",
    "print(f\"Learned weights: {model.weights}\")\n",
    "print(f\"Learned bias: {model.bias}\")"
   ]
  },
  {
   "cell_type": "markdown",
   "metadata": {},
   "source": [
    "## OLS implementation\n",
    "Uses the normal equation to directly compute the optimal parameters without iterative optimization. The formula for the OLS solution is:\n",
    "$$Xβ = y$$\n",
    "$$X^T X  β = X^T y$$\n",
    "$$β = (X^T X)^{-1} X^T y$$\n",
    "\n",
    "- $β$ is the vector of parameters (including the bias term)\n",
    "- $X$ is the design matrix (with a column of ones added for the bias term)\n",
    "- $y$ is the target vector\n",
    "\n",
    "The **OLS method is faster for small to medium-sized datasets and provides an exact solution**. However, **for large datasets or when the number of features is very high, gradient descent might be preferred** due to its lower computational complexity."
   ]
  },
  {
   "cell_type": "code",
   "execution_count": 22,
   "metadata": {},
   "outputs": [
    {
     "name": "stdout",
     "output_type": "stream",
     "text": [
      "X_with_bias shape = (100, 2)\n",
      "X_with_bias few values = [[1.         0.5488135 ]\n",
      " [1.         0.71518937]\n",
      " [1.         0.60276338]\n",
      " [1.         0.54488318]\n",
      " [1.         0.4236548 ]]\n",
      "params shape = (2, 1)\n",
      "params few values = [[2.02221511]\n",
      " [2.9936935 ]]\n"
     ]
    },
    {
     "data": {
      "image/png": "[encoded data removed]",
      "text/plain": [
       "<Figure size 640x480 with 1 Axes>"
      ]
     },
     "metadata": {},
     "output_type": "display_data"
    },
    {
     "name": "stdout",
     "output_type": "stream",
     "text": [
      "Learned weights: [2.9936935]\n",
      "Learned bias: 2.022215107744724\n"
     ]
    }
   ],
   "source": [
    "class LinearRegressionOLS:\n",
    "    def __init__(self):\n",
    "        self.weights = None\n",
    "        self.bias = None\n",
    "\n",
    "    def fit(self, X, y):\n",
    "        # Add a column of ones to X for the bias term\n",
    "        X_with_bias = np.c_[np.ones((X.shape[0], 1)), X]\n",
    "        print(f\"X_with_bias shape = {X_with_bias.shape}\")\n",
    "        print(f\"X_with_bias few values = {X_with_bias[:5]}\")\n",
    "\n",
    "        # Calculate the parameters using the normal equation\n",
    "        params = np.linalg.inv(X_with_bias.T @ X_with_bias) @ X_with_bias.T @ y\n",
    "        print(f\"params shape = {params.shape}\")\n",
    "        print(f\"params few values = {params[:5]}\")\n",
    "\n",
    "        self.bias = params[0]\n",
    "        self.weights = params[1:]\n",
    "\n",
    "    def predict(self, X):\n",
    "        return np.dot(X, self.weights) + self.bias\n",
    "\n",
    "\n",
    "# Generate sample data\n",
    "np.random.seed(0)\n",
    "X = np.random.rand(100, 1)\n",
    "y = 2 + 3 * X + np.random.randn(100, 1) * 0.1\n",
    "\n",
    "# Create and train the model\n",
    "model = LinearRegressionOLS()\n",
    "model.fit(X, y)\n",
    "\n",
    "# Make predictions\n",
    "X_test = np.array([[0], [1]])\n",
    "y_pred = model.predict(X_test)\n",
    "\n",
    "# Plot the results\n",
    "plt.scatter(X, y, color=\"b\", label=\"Data\")\n",
    "plt.plot(X_test, y_pred, color=\"r\", label=\"Prediction\")\n",
    "plt.xlabel(\"X\")\n",
    "plt.ylabel(\"y\")\n",
    "plt.legend()\n",
    "plt.show()\n",
    "\n",
    "# Print the learned parameters\n",
    "print(f\"Learned weights: {model.weights.flatten()}\")\n",
    "print(f\"Learned bias: {model.bias[0]}\")\n"
   ]
  },
  {
   "cell_type": "code",
   "execution_count": null,
   "metadata": {},
   "outputs": [],
   "source": []
  }
 ],
 "metadata": {
  "kernelspec": {
   "display_name": "Python 3",
   "language": "python",
   "name": "python3"
  },
  "language_info": {
   "codemirror_mode": {
    "name": "ipython",
    "version": 3
   },
   "file_extension": ".py",
   "mimetype": "text/x-python",
   "name": "python",
   "nbconvert_exporter": "python",
   "pygments_lexer": "ipython3",
   "version": "3.12.4"
  }
 },
 "nbformat": 4,
 "nbformat_minor": 2
}
